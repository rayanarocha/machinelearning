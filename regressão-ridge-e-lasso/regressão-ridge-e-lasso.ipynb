{
 "cells": [
  {
   "cell_type": "code",
   "execution_count": 15,
   "metadata": {},
   "outputs": [],
   "source": [
    "import math\n",
    "import random\n",
    "import numpy as np\n",
    "import pandas as pd\n",
    "from sklearn.preprocessing import PolynomialFeatures\n",
    "from sklearn.pipeline import make_pipeline \n",
    "from sklearn.linear_model import LinearRegression\n",
    "from sklearn.linear_model import Ridge\n",
    "from sklearn.linear_model import RidgeCV\n",
    "from sklearn.linear_model import Lasso\n",
    "from matplotlib import pyplot as plt\n",
    "%matplotlib inline"
   ]
  },
  {
   "cell_type": "markdown",
   "metadata": {},
   "source": [
    "Vamos considerar um conjunto de dados sintéticos de 30 pontos amostrados de uma \n",
    "\n",
    "*   List item\n",
    "*   List item\n",
    "\n",
    "função senoidal $y = \\sin(4x)$:"
   ]
  },
  {
   "cell_type": "code",
   "execution_count": 16,
   "metadata": {},
   "outputs": [],
   "source": [
    "def f(x):\n",
    "    return np.sin(np.multiply(4,x))"
   ]
  },
  {
   "cell_type": "markdown",
   "metadata": {},
   "source": [
    "Abaixo criamos valores aleatéorios para $x$ no intervalo [0,1)"
   ]
  },
  {
   "cell_type": "code",
   "execution_count": 17,
   "metadata": {},
   "outputs": [],
   "source": [
    "random.seed(98103)\n",
    "n = 30 # quantidade de valores gerados\n",
    "x = np.array([random.random() for _ in range(n)])  #em cada iteração gera um valor aleatório entre 0 e 1\n",
    "x=np.sort(x) # ordena os valores em ordem crescente\n",
    "#transforma o array em uma matrix com uma n linhas e 1 coluna (vetor coluna)\n",
    "X = x[:,np.newaxis]"
   ]
  },
  {
   "cell_type": "markdown",
   "metadata": {},
   "source": [
    "Calcula $y$ como uma função de $x$. $y$ é chamada variável independente pois depende de $x$"
   ]
  },
  {
   "cell_type": "code",
   "execution_count": 18,
   "metadata": {},
   "outputs": [],
   "source": [
    "Y = f(x)"
   ]
  },
  {
   "cell_type": "markdown",
   "metadata": {},
   "source": [
    "Adiciona ruído Gaussiano aleatório à $y$"
   ]
  },
  {
   "cell_type": "code",
   "execution_count": 19,
   "metadata": {},
   "outputs": [],
   "source": [
    "random.seed(1)\n",
    "#ruído é amostrado de uma distribuição normal com média 0 e desvio padrão 1/3\n",
    "e = np.array([random.gauss(0,1.0/3.0) for i in range(n)]) \n",
    "Y = Y + e"
   ]
  },
  {
   "cell_type": "markdown",
   "metadata": {},
   "source": [
    "# Funções Auxiliares"
   ]
  },
  {
   "cell_type": "markdown",
   "metadata": {},
   "source": [
    "Função para plotar os dados (scatter plot)"
   ]
  },
  {
   "cell_type": "code",
   "execution_count": 20,
   "metadata": {},
   "outputs": [],
   "source": [
    "def plot_data(X,Y):    \n",
    "    plt.plot(X,Y,'k.')\n",
    "    plt.xlabel('X')\n",
    "    plt.ylabel('Y')\n",
    "    plt.axis([0,1,-1.5,2])"
   ]
  },
  {
   "cell_type": "markdown",
   "metadata": {},
   "source": [
    "Função para imprimir coeficientes"
   ]
  },
  {
   "cell_type": "code",
   "execution_count": 21,
   "metadata": {},
   "outputs": [],
   "source": [
    "def print_coefficients(model):    \n",
    "    # Retorna o grau do polinômio\n",
    "    deg = len(model.steps[1][1].coef_)-1\n",
    "    # Obtém os parâmetros estimados\n",
    "    w = list(model.steps[1][1].coef_) #model.steps é usado pois o modelo é calculado usando make_pipile do scikit learn\n",
    "    # Numpy tem uma função para imprimir o polinômio mas os parâmetros precisam estar na ordem inversa\n",
    "    print ('Polinômio estimado para grau ' + str(deg) + ':')\n",
    "    w.reverse()\n",
    "    print (np.poly1d(w)+model.steps[1][1].intercept_)"
   ]
  },
  {
   "cell_type": "markdown",
   "metadata": {},
   "source": [
    "Função para calcular uma regressão polinomial para qualquer grau usando scikit learn."
   ]
  },
  {
   "cell_type": "code",
   "execution_count": 22,
   "metadata": {},
   "outputs": [],
   "source": [
    "def polynomial_regression(X,Y,deg):\n",
    "    model = make_pipeline(PolynomialFeatures(deg),LinearRegression()) \n",
    "    model.fit(X,Y)\n",
    "    return model"
   ]
  },
  {
   "cell_type": "markdown",
   "metadata": {},
   "source": [
    "Função para plotar o modelo por meio de suas predições"
   ]
  },
  {
   "cell_type": "code",
   "execution_count": null,
   "metadata": {},
   "outputs": [],
   "source": [
    "def print_poly_predictions(X,Y, model):\n",
    "    plot_data(X,Y)\n",
    "    x_plot = np.array([i/200.0 for i in range(200)])\n",
    "    X_plot = x_plot[:,np.newaxis]\n",
    "    y_pred = model.predict(X_plot)\n",
    "    plt.plot(x_plot,y_pred,'g-')\n",
    "    plt.axis([0,1,-1.5,2])"
   ]
  },
  {
   "cell_type": "code",
   "execution_count": 23,
   "metadata": {},
   "outputs": [],
   "source": [
    "def plot_residuals_vs_fit(X,Y, model):\n",
    "#    plot_data(X,Y)\n",
    "#    x_plot = np.array([i/200.0 for i in range(200)])\n",
    "#    X_plot = x_plot[:,np.newaxis]\n",
    "    y_pred = model.predict(X)\n",
    "    res = Y - y_pred\n",
    "    plt.plot(y_pred,res,'k.',color='blue',)\n",
    "    plt.axhline(y=0., color='r', linestyle='-')\n",
    "    plt.xlabel(\"predictions\")\n",
    "    plt.ylabel(\"residuals\")"
   ]
  },
  {
   "cell_type": "markdown",
   "metadata": {},
   "source": [
    "# Função geradora"
   ]
  },
  {
   "cell_type": "code",
   "execution_count": 24,
   "metadata": {},
   "outputs": [
    {
     "data": {
      "text/plain": [
       "[<matplotlib.lines.Line2D at 0x1bfe6cc4910>]"
      ]
     },
     "execution_count": 24,
     "metadata": {},
     "output_type": "execute_result"
    },
    {
     "data": {
      "image/png": "[encoded data removed]",
      "text/plain": [
       "<Figure size 640x480 with 1 Axes>"
      ]
     },
     "metadata": {},
     "output_type": "display_data"
    }
   ],
   "source": [
    "plot_data(X,Y)\n",
    "x_plot = np.array([i/200.0 for i in range(200)])\n",
    "y_plot = f(x_plot)\n",
    "plt.plot(x_plot,y_plot,color='cornflowerblue',linewidth=2)"
   ]
  },
  {
   "cell_type": "markdown",
   "metadata": {},
   "source": [
    "# Regressão Polinomial de Diferentes Graus"
   ]
  },
  {
   "cell_type": "code",
   "execution_count": 26,
   "metadata": {},
   "outputs": [
    {
     "ename": "NameError",
     "evalue": "name 'print_poly_predictions' is not defined",
     "output_type": "error",
     "traceback": [
      "\u001b[1;31m---------------------------------------------------------------------------\u001b[0m",
      "\u001b[1;31mNameError\u001b[0m                                 Traceback (most recent call last)",
      "Cell \u001b[1;32mIn [26], line 2\u001b[0m\n\u001b[0;32m      1\u001b[0m model \u001b[38;5;241m=\u001b[39m polynomial_regression(X,Y,\u001b[38;5;241m1\u001b[39m)\n\u001b[1;32m----> 2\u001b[0m \u001b[43mprint_poly_predictions\u001b[49m(X,Y,model)\n",
      "\u001b[1;31mNameError\u001b[0m: name 'print_poly_predictions' is not defined"
     ]
    }
   ],
   "source": [
    "model = polynomial_regression(X,Y,1)\n",
    "print_poly_predictions(X,Y,model) "
   ]
  },
  {
   "cell_type": "code",
   "execution_count": null,
   "metadata": {},
   "outputs": [],
   "source": [
    "plot_residuals_vs_fit(X,Y, model)"
   ]
  },
  {
   "cell_type": "markdown",
   "metadata": {},
   "source": [
    "Mostrando os coeficientes da regressão"
   ]
  },
  {
   "cell_type": "code",
   "execution_count": null,
   "metadata": {},
   "outputs": [],
   "source": [
    "print_coefficients(model)"
   ]
  },
  {
   "cell_type": "markdown",
   "metadata": {},
   "source": [
    "# Regressão Ridge"
   ]
  },
  {
   "cell_type": "markdown",
   "metadata": {},
   "source": [
    "A regressão ridge se propõe a evitar o overfitting adicionando um custo ao RSS (dos mínimos quadrados) que depende da norma L2 dos coeficientes  ‖𝑤‖  (ou seja da magnitude dos coeficientes). O resultado é a penalização de ajustes com coeficientes muito grandes. A força dessa penalidade é controlada por um parâmetro lambda (aqui chamado \"L2_penalty\").\n",
    "\n",
    "Função para estimar a regressão ridge para qualquer grau de polinômio:"
   ]
  },
  {
   "cell_type": "code",
   "execution_count": null,
   "metadata": {},
   "outputs": [],
   "source": [
    "def polynomial_ridge_regression(X,Y, deg, l2_penalty):\n",
    "    model = make_pipeline(PolynomialFeatures(deg),Ridge(alpha=l2_penalty)) \n",
    "    model.fit(X,Y)\n",
    "    return model"
   ]
  },
  {
   "cell_type": "markdown",
   "metadata": {},
   "source": [
    "Ridge com grau 16 usando uma penalidade muito pequena"
   ]
  },
  {
   "cell_type": "code",
   "execution_count": null,
   "metadata": {},
   "outputs": [],
   "source": [
    "model = polynomial_ridge_regression(X,Y,deg=16,l2_penalty=1e-14)\n",
    "print_coefficients(model)"
   ]
  },
  {
   "cell_type": "code",
   "execution_count": null,
   "metadata": {},
   "outputs": [],
   "source": [
    "print_poly_predictions(X,Y,model)    "
   ]
  },
  {
   "cell_type": "markdown",
   "metadata": {},
   "source": [
    "Ridge com grau 16 usando uma penalidade muito grande"
   ]
  },
  {
   "cell_type": "code",
   "execution_count": null,
   "metadata": {},
   "outputs": [],
   "source": [
    "model = polynomial_ridge_regression(X,Y, deg=16, l2_penalty=100)\n",
    "print_coefficients(model)"
   ]
  },
  {
   "cell_type": "code",
   "execution_count": null,
   "metadata": {},
   "outputs": [],
   "source": [
    "print_poly_predictions(X,Y,model) "
   ]
  },
  {
   "cell_type": "markdown",
   "metadata": {},
   "source": [
    "## Sequência de ajustes para uma sequência crescente de valores de lambda"
   ]
  },
  {
   "cell_type": "code",
   "execution_count": null,
   "metadata": {},
   "outputs": [],
   "source": [
    "for l2_penalty in [1e-10, 1e-8, 1e-6, 1e-3, 1, 1e1, 1e2]:\n",
    "    model = polynomial_ridge_regression(X,Y, deg=16, l2_penalty=l2_penalty)\n",
    "    print('lambda = %.2e' % l2_penalty)\n",
    "    print_coefficients(model)\n",
    "    print('\\n')\n",
    "    plt.figure()\n",
    "    print_poly_predictions(X,Y,model)\n",
    "    plt.title('Ridge, lambda = %.2e' % l2_penalty)"
   ]
  },
  {
   "cell_type": "markdown",
   "metadata": {},
   "source": [
    "## Usando validação cruzada para encontrar o melhor lembda para Regressão Ridge"
   ]
  },
  {
   "cell_type": "markdown",
   "metadata": {},
   "source": [
    "A função abaixo calcula os rmses (root mean squared error) para um certo modelo considerando todos os k folds (parâmetro cv na função cross_val_score do scikit learn)."
   ]
  },
  {
   "cell_type": "code",
   "execution_count": null,
   "metadata": {},
   "outputs": [],
   "source": [
    "from sklearn.model_selection import cross_val_score\n",
    "def rmse_cv(model):\n",
    "    rmse = np.sqrt(-cross_val_score(model,X,Y,scoring=\"neg_mean_squared_error\",cv=10))\n",
    "    return (rmse)"
   ]
  },
  {
   "cell_type": "markdown",
   "metadata": {},
   "source": [
    "Cria um modelo de regressão ridge"
   ]
  },
  {
   "cell_type": "code",
   "execution_count": null,
   "metadata": {},
   "outputs": [],
   "source": [
    "model_ridge = Ridge()"
   ]
  },
  {
   "cell_type": "markdown",
   "metadata": {},
   "source": [
    "Plota resultados (médias de rmse) para cada valor de alpha (ou lambda) "
   ]
  },
  {
   "cell_type": "code",
   "execution_count": null,
   "metadata": {},
   "outputs": [],
   "source": [
    "l2_penalties = [0.001,0.01,0.1,0.3,0.5,1,3,5,10,15,20,40,60,80,100]\n",
    "cv_ridge = [rmse_cv(Ridge(alpha=l2_penalty)).mean() \n",
    "            for l2_penalty in l2_penalties]\n",
    "cv_ridge = pd.Series(cv_ridge,index=l2_penalties)\n",
    "cv_ridge.plot(title=\"Lambda vs Erro de Validação\")\n",
    "plt.xlabel(\"l2_penalty\")\n",
    "plt.ylabel(\"rmse\")"
   ]
  },
  {
   "cell_type": "code",
   "execution_count": null,
   "metadata": {},
   "outputs": [],
   "source": [
    "best_l2_penalty=cv_ridge.argmin()\n",
    "best_rmse = cv_ridge.min()"
   ]
  },
  {
   "cell_type": "code",
   "execution_count": null,
   "metadata": {},
   "outputs": [],
   "source": [
    "print (best_l2_penalty, best_rmse) #melhor valor de (alpha,rmse) encontrado"
   ]
  },
  {
   "cell_type": "code",
   "execution_count": null,
   "metadata": {},
   "outputs": [],
   "source": [
    "model = polynomial_ridge_regression(X,Y, deg=16, l2_penalty=best_l2_penalty)\n",
    "print_coefficients(model)"
   ]
  },
  {
   "cell_type": "code",
   "execution_count": null,
   "metadata": {},
   "outputs": [],
   "source": [
    "print_poly_predictions(X,Y,model)"
   ]
  },
  {
   "cell_type": "markdown",
   "metadata": {},
   "source": [
    "# Regressão Lasso"
   ]
  },
  {
   "cell_type": "markdown",
   "metadata": {},
   "source": [
    "A regressão Lasso, ao mesmo tempo, encolhe a magnitude dos coeficientes para evitar o overfitting e realiza implicitamente seleção de característcas igualando alguns atributos a zero (para lambdas, aqui chamados L1_penalty\", suficientemente grandes). Em particular, o Lasso adiciona ao RSS o custo  ∥w∥ ."
   ]
  },
  {
   "cell_type": "markdown",
   "metadata": {},
   "source": [
    "Função que estima a regressão polinomial de qualquer grau com a regressão Lasso."
   ]
  },
  {
   "cell_type": "code",
   "execution_count": null,
   "metadata": {},
   "outputs": [],
   "source": [
    "def polynomial_lasso_regression(X,Y, deg, l1_penalty):\n",
    "    model = make_pipeline(PolynomialFeatures(deg),Lasso(alpha=l1_penalty,max_iter=1000)) \n",
    "    model.fit(X,Y)\n",
    "    return model"
   ]
  },
  {
   "cell_type": "markdown",
   "metadata": {},
   "source": [
    "## Explore a solução lasso solution como uma função de diferentes fatores de penalidade"
   ]
  },
  {
   "cell_type": "markdown",
   "metadata": {},
   "source": [
    "Nos referimos ao fator de penalidade do lasso como \"l1_penalty\""
   ]
  },
  {
   "cell_type": "code",
   "execution_count": null,
   "metadata": {},
   "outputs": [],
   "source": [
    "for l1_penalty in [0.0001, 0.001, 0.01, 0.1, 10]:\n",
    "    model = polynomial_lasso_regression(X,Y, deg=16, l1_penalty=l1_penalty)\n",
    "    print ('l1_penalty = %e' % l1_penalty)\n",
    "    w = list(model.steps[1][1].coef_)\n",
    "    print ('número de não zeros = %d' % np.count_nonzero(w))\n",
    "    print_coefficients(model)\n",
    "    print ('\\n')\n",
    "    plt.figure()\n",
    "    print_poly_predictions(X,Y,model)\n",
    "    #plt.title('LASSO, lambda = %.2e, # nonzeros = %d' % l1_penalty, np.count_nonzero(w))"
   ]
  }
 ],
 "metadata": {
  "kernelspec": {
   "display_name": "Python 3.10.5 64-bit",
   "language": "python",
   "name": "python3"
  },
  "language_info": {
   "codemirror_mode": {
    "name": "ipython",
    "version": 3
   },
   "file_extension": ".py",
   "mimetype": "text/x-python",
   "name": "python",
   "nbconvert_exporter": "python",
   "pygments_lexer": "ipython3",
   "version": "3.10.5"
  },
  "orig_nbformat": 4,
  "vscode": {
   "interpreter": {
    "hash": "334657c8e52fd71d95571d4aa266536ecfae8b05cb25ba6557c72dcb65d7c56a"
   }
  }
 },
 "nbformat": 4,
 "nbformat_minor": 2
}
