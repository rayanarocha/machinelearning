{
  "nbformat": 4,
  "nbformat_minor": 0,
  "metadata": {
    "colab": {
      "provenance": [],
      "authorship_tag": "ABX9TyPrNm5Bj0IqUYhHlqE7R0Rp",
      "include_colab_link": true
    },
    "kernelspec": {
      "name": "python3",
      "display_name": "Python 3"
    },
    "language_info": {
      "name": "python"
    }
  },
  "cells": [
    {
      "cell_type": "markdown",
      "metadata": {
        "id": "view-in-github",
        "colab_type": "text"
      },
      "source": [
        "<a href=\"https://colab.research.google.com/github/rayanarocha/machinelearning/blob/master/regress%C3%A3o_linear_simples.ipynb\" target=\"_parent\"><img src=\"https://colab.research.google.com/assets/colab-badge.svg\" alt=\"Open In Colab\"/></a>"
      ]
    },
    {
      "cell_type": "code",
      "source": [
        "from numpy as import *"
      ],
      "metadata": {
        "id": "rBv0gvZWh3qu"
      },
      "execution_count": null,
      "outputs": []
    },
    {
      "cell_type": "markdown",
      "source": [
        "# **Função principal, onde serão definidos os passos a seguir**\n",
        "\n",
        "Pega o conjunto de dados e analisa"
      ],
      "metadata": {
        "id": "1yFJDgflhGr4"
      }
    },
    {
      "cell_type": "code",
      "source": [
        "def compute_error_for_given_points(b, m, points):\n",
        "  totalError = 0\n",
        "  for i in range(0, len(points)):\n",
        "    x = points[i, 0]\n",
        "    y = points[i, 1]\n",
        "    totalError += (y - (m * x + b))**2\n",
        "  return totalError / float(len(points))\n",
        "  \n",
        "\n",
        "#função do step gradient\n",
        "def step_gradient(b_current, m_current, points, learningRate):\n",
        "  b_gradiente = 0\n",
        "  m_gradiente = 0\n",
        "\n",
        "# função de calcula o gradiente \n",
        "def gradiente_descent_runner(points, satrting_b, starting_m, learning_rate, num_iterations): \n",
        "  b = starting_b\n",
        "  m = starting_m\n",
        "\n",
        "  for i in range(num_iterations):\n",
        "    # obtendo os valores a partir do passo do gradiente\n",
        "    b, m = step_gradient(b, m, array(points), learning_rate)\n",
        "  return [b, m]\n",
        "\n",
        "def run():\n",
        "  point = genfromtext('data.csv', delimiter=',')\n",
        "  \n",
        "  # taxa de aprendizado - hiperparâmetros\n",
        "  learning_rate = 0.0001\n",
        "  \n",
        "  # valor inicial B e M igual a 0 - inicia em zero, pois queremos aprender os valores ao londo do tempo\n",
        "  # onde B é o intercessão y e o M é a inclinação ideal\n",
        "  # y = mx + b - fórmula da inclinação\n",
        "  initial_b = 0\n",
        "  initial_m = 0\n",
        "  \n",
        "  # quantidade de vezes que quero executar a etapa de treinamento\n",
        "  num_interations = 1000\n",
        "\n",
        "  # obter b e m ideais\n",
        "  # essa etapa produzirá os valores ótimos pra cada um deles\n",
        "  [b, m] = gradiente_descent_runner(points, initial_b, initial_m, learning_rate, num_iterations)\n",
        "  print(b)\n",
        "  print(m)\n"
      ],
      "metadata": {
        "id": "l8vzcu0ohFcy"
      },
      "execution_count": null,
      "outputs": []
    },
    {
      "cell_type": "markdown",
      "source": [
        "# Definição da função principal\n",
        "**bold text**\n",
        "```\n",
        "# This is formatted as code\n",
        "```\n",
        "\n"
      ],
      "metadata": {
        "id": "O55Y2tYogkLI"
      }
    },
    {
      "cell_type": "code",
      "execution_count": null,
      "metadata": {
        "id": "ek_noEbZ9U4r"
      },
      "outputs": [],
      "source": [
        "if__name__ = '__main__':\n",
        "  run()"
      ]
    }
  ]
}