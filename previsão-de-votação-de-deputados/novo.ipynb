{
  "cells": [
    {
      "cell_type": "markdown",
      "metadata": {
        "id": "rBNgCaXISoDo"
      },
      "source": [
        "# Previsão de Eleição de Deputados\n",
        "### Aluno: Rayana Souza Rocha"
      ]
    },
    {
      "cell_type": "markdown",
      "metadata": {
        "id": "hakhqVxMS1lO"
      },
      "source": [
        "### Referências:\n",
        "\n",
        "[Link do do Github da ativiade de Rayana](https://github.com/viniciuscva/disciplinaAM/tree/main/previsao_eleicao_deputados)\n",
        "\n"
      ]
    },
    {
      "cell_type": "code",
      "execution_count": 76,
      "metadata": {
        "id": "KFPPVCeWSsiB"
      },
      "outputs": [],
      "source": [
        "import pandas as pd\n",
        "import numpy as np\n",
        "import matplotlib.pyplot as plt\n",
        "import graphviz\n",
        "import seaborn as sns\n",
        "from sklearn import preprocessing\n",
        "from sklearn import tree\n",
        "from sklearn.preprocessing import OneHotEncoder\n",
        "from category_encoders.one_hot import OneHotEncoder\n",
        "from sklearn.model_selection import train_test_split\n",
        "from sklearn.model_selection import cross_val_score\n",
        "from sklearn.metrics import make_scorer, f1_score, precision_score, recall_score, accuracy_score\n",
        "from sklearn.metrics import classification_report\n",
        "from sklearn.linear_model import LogisticRegression\n",
        "from sklearn.tree import DecisionTreeClassifier\n",
        "from sklearn.ensemble import AdaBoostClassifier\n",
        "from sklearn.ensemble import RandomForestClassifier\n",
        "from sklearn.ensemble import GradientBoostingClassifier\n",
        "from sklearn.model_selection import KFold\n",
        "from imblearn.over_sampling import SMOTE\n",
        "from sklearn.ensemble import HistGradientBoostingClassifier\n",
        "from statistics import mean\n",
        "from sklearn.svm import SVC\n",
        "\n",
        "import warnings\n",
        "warnings.filterwarnings(\"ignore\")\n",
        "%matplotlib inline"
      ]
    },
    {
      "cell_type": "code",
      "execution_count": 2,
      "metadata": {
        "colab": {
          "base_uri": "https://localhost:8080/",
          "height": 462
        },
        "id": "u-wtsdtuVcRR",
        "outputId": "eae291ee-1b46-46af-bcb8-fb6f203d2df6"
      },
      "outputs": [
        {
          "name": "stdout",
          "output_type": "stream",
          "text": [
            "\n",
            "Formato do dataset train: (7622, 24) \n",
            "\n",
            "\n",
            "Formato do dataset test: (4592, 23) \n",
            "\n"
          ]
        },
        {
          "data": {
            "text/html": [
              "<div>\n",
              "<style scoped>\n",
              "    .dataframe tbody tr th:only-of-type {\n",
              "        vertical-align: middle;\n",
              "    }\n",
              "\n",
              "    .dataframe tbody tr th {\n",
              "        vertical-align: top;\n",
              "    }\n",
              "\n",
              "    .dataframe thead th {\n",
              "        text-align: right;\n",
              "    }\n",
              "</style>\n",
              "<table border=\"1\" class=\"dataframe\">\n",
              "  <thead>\n",
              "    <tr style=\"text-align: right;\">\n",
              "      <th></th>\n",
              "      <th>ano</th>\n",
              "      <th>sequencial_candidato</th>\n",
              "      <th>nome</th>\n",
              "      <th>uf</th>\n",
              "      <th>partido</th>\n",
              "      <th>quantidade_doacoes</th>\n",
              "      <th>quantidade_doadores</th>\n",
              "      <th>total_receita</th>\n",
              "      <th>media_receita</th>\n",
              "      <th>recursos_de_outros_candidatos.comites</th>\n",
              "      <th>...</th>\n",
              "      <th>quantidade_despesas</th>\n",
              "      <th>quantidade_fornecedores</th>\n",
              "      <th>total_despesa</th>\n",
              "      <th>media_despesa</th>\n",
              "      <th>cargo</th>\n",
              "      <th>sexo</th>\n",
              "      <th>grau</th>\n",
              "      <th>estado_civil</th>\n",
              "      <th>ocupacao</th>\n",
              "      <th>situacao</th>\n",
              "    </tr>\n",
              "  </thead>\n",
              "  <tbody>\n",
              "    <tr>\n",
              "      <th>0</th>\n",
              "      <td>2006</td>\n",
              "      <td>10001</td>\n",
              "      <td>JOSÉ LUIZ NOGUEIRA DE SOUSA</td>\n",
              "      <td>AP</td>\n",
              "      <td>PT</td>\n",
              "      <td>6</td>\n",
              "      <td>6</td>\n",
              "      <td>16600.0</td>\n",
              "      <td>2766.67</td>\n",
              "      <td>0.0</td>\n",
              "      <td>...</td>\n",
              "      <td>14</td>\n",
              "      <td>14</td>\n",
              "      <td>16583.60</td>\n",
              "      <td>1184.54</td>\n",
              "      <td>DEPUTADO FEDERAL</td>\n",
              "      <td>MASCULINO</td>\n",
              "      <td>ENSINO MÉDIO COMPLETO</td>\n",
              "      <td>CASADO(A)</td>\n",
              "      <td>VEREADOR</td>\n",
              "      <td>nao_eleito</td>\n",
              "    </tr>\n",
              "    <tr>\n",
              "      <th>1</th>\n",
              "      <td>2006</td>\n",
              "      <td>10002</td>\n",
              "      <td>LOIVA DE OLIVEIRA</td>\n",
              "      <td>RO</td>\n",
              "      <td>PT</td>\n",
              "      <td>13</td>\n",
              "      <td>13</td>\n",
              "      <td>22826.0</td>\n",
              "      <td>1755.85</td>\n",
              "      <td>6625.0</td>\n",
              "      <td>...</td>\n",
              "      <td>24</td>\n",
              "      <td>23</td>\n",
              "      <td>20325.99</td>\n",
              "      <td>846.92</td>\n",
              "      <td>DEPUTADO FEDERAL</td>\n",
              "      <td>FEMININO</td>\n",
              "      <td>SUPERIOR COMPLETO</td>\n",
              "      <td>SOLTEIRO(A)</td>\n",
              "      <td>SERVIDOR PÚBLICO ESTADUAL</td>\n",
              "      <td>nao_eleito</td>\n",
              "    </tr>\n",
              "    <tr>\n",
              "      <th>2</th>\n",
              "      <td>2006</td>\n",
              "      <td>10002</td>\n",
              "      <td>MARIA DALVA DE SOUZA FIGUEIREDO</td>\n",
              "      <td>AP</td>\n",
              "      <td>PT</td>\n",
              "      <td>17</td>\n",
              "      <td>16</td>\n",
              "      <td>158120.8</td>\n",
              "      <td>9301.22</td>\n",
              "      <td>2250.0</td>\n",
              "      <td>...</td>\n",
              "      <td>123</td>\n",
              "      <td>108</td>\n",
              "      <td>146011.70</td>\n",
              "      <td>1187.09</td>\n",
              "      <td>DEPUTADO FEDERAL</td>\n",
              "      <td>FEMININO</td>\n",
              "      <td>SUPERIOR COMPLETO</td>\n",
              "      <td>VIÚVO(A)</td>\n",
              "      <td>PEDAGOGO</td>\n",
              "      <td>eleito</td>\n",
              "    </tr>\n",
              "  </tbody>\n",
              "</table>\n",
              "<p>3 rows × 24 columns</p>\n",
              "</div>"
            ],
            "text/plain": [
              "    ano  sequencial_candidato                             nome  uf partido  \\\n",
              "0  2006                 10001      JOSÉ LUIZ NOGUEIRA DE SOUSA  AP      PT   \n",
              "1  2006                 10002                LOIVA DE OLIVEIRA  RO      PT   \n",
              "2  2006                 10002  MARIA DALVA DE SOUZA FIGUEIREDO  AP      PT   \n",
              "\n",
              "   quantidade_doacoes  quantidade_doadores  total_receita  media_receita  \\\n",
              "0                   6                    6        16600.0        2766.67   \n",
              "1                  13                   13        22826.0        1755.85   \n",
              "2                  17                   16       158120.8        9301.22   \n",
              "\n",
              "   recursos_de_outros_candidatos.comites  ...  quantidade_despesas  \\\n",
              "0                                    0.0  ...                   14   \n",
              "1                                 6625.0  ...                   24   \n",
              "2                                 2250.0  ...                  123   \n",
              "\n",
              "   quantidade_fornecedores  total_despesa  media_despesa             cargo  \\\n",
              "0                       14       16583.60        1184.54  DEPUTADO FEDERAL   \n",
              "1                       23       20325.99         846.92  DEPUTADO FEDERAL   \n",
              "2                      108      146011.70        1187.09  DEPUTADO FEDERAL   \n",
              "\n",
              "        sexo                   grau  estado_civil                   ocupacao  \\\n",
              "0  MASCULINO  ENSINO MÉDIO COMPLETO     CASADO(A)                   VEREADOR   \n",
              "1   FEMININO      SUPERIOR COMPLETO   SOLTEIRO(A)  SERVIDOR PÚBLICO ESTADUAL   \n",
              "2   FEMININO      SUPERIOR COMPLETO      VIÚVO(A)                   PEDAGOGO   \n",
              "\n",
              "     situacao  \n",
              "0  nao_eleito  \n",
              "1  nao_eleito  \n",
              "2      eleito  \n",
              "\n",
              "[3 rows x 24 columns]"
            ]
          },
          "execution_count": 2,
          "metadata": {},
          "output_type": "execute_result"
        }
      ],
      "source": [
        "train = pd.read_csv('train.csv')\n",
        "test = pd.read_csv('test.csv')\n",
        "print('\\nFormato do dataset train:',train.shape, '\\n')\n",
        "print('\\nFormato do dataset test:',test.shape, '\\n')\n",
        "train.head(3)"
      ]
    },
    {
      "cell_type": "code",
      "execution_count": 3,
      "metadata": {
        "colab": {
          "base_uri": "https://localhost:8080/"
        },
        "id": "00t5pGMueXam",
        "outputId": "55a3a4ce-76ce-4b92-f137-f6b80483716e"
      },
      "outputs": [
        {
          "data": {
            "text/plain": [
              "ano                                      0\n",
              "sequencial_candidato                     0\n",
              "nome                                     0\n",
              "uf                                       0\n",
              "partido                                  0\n",
              "quantidade_doacoes                       0\n",
              "quantidade_doadores                      0\n",
              "total_receita                            0\n",
              "media_receita                            0\n",
              "recursos_de_outros_candidatos.comites    0\n",
              "recursos_de_pessoas_fisicas              0\n",
              "recursos_de_pessoas_juridicas            0\n",
              "recursos_proprios                        0\n",
              "recursos_de_partido_politico             0\n",
              "quantidade_despesas                      0\n",
              "quantidade_fornecedores                  0\n",
              "total_despesa                            0\n",
              "media_despesa                            0\n",
              "cargo                                    0\n",
              "sexo                                     0\n",
              "grau                                     0\n",
              "estado_civil                             0\n",
              "ocupacao                                 0\n",
              "situacao                                 0\n",
              "dtype: int64"
            ]
          },
          "execution_count": 3,
          "metadata": {},
          "output_type": "execute_result"
        }
      ],
      "source": [
        "train.isnull().sum()"
      ]
    },
    {
      "cell_type": "code",
      "execution_count": 4,
      "metadata": {
        "colab": {
          "base_uri": "https://localhost:8080/"
        },
        "id": "3_ZysY4_KYI7",
        "outputId": "7a4fde95-9fc0-437f-b267-098eebb5a386"
      },
      "outputs": [
        {
          "data": {
            "text/plain": [
              "ano                                      0\n",
              "sequencial_candidato                     0\n",
              "nome                                     0\n",
              "uf                                       0\n",
              "partido                                  0\n",
              "quantidade_doacoes                       0\n",
              "quantidade_doadores                      0\n",
              "total_receita                            0\n",
              "media_receita                            0\n",
              "recursos_de_outros_candidatos.comites    0\n",
              "recursos_de_pessoas_fisicas              0\n",
              "recursos_de_pessoas_juridicas            0\n",
              "recursos_proprios                        0\n",
              "recursos_de_partido_politico             0\n",
              "quantidade_despesas                      0\n",
              "quantidade_fornecedores                  0\n",
              "total_despesa                            0\n",
              "media_despesa                            0\n",
              "cargo                                    0\n",
              "sexo                                     0\n",
              "grau                                     0\n",
              "estado_civil                             0\n",
              "ocupacao                                 0\n",
              "dtype: int64"
            ]
          },
          "execution_count": 4,
          "metadata": {},
          "output_type": "execute_result"
        }
      ],
      "source": [
        "test.isnull().sum()"
      ]
    },
    {
      "cell_type": "code",
      "execution_count": 5,
      "metadata": {
        "colab": {
          "base_uri": "https://localhost:8080/",
          "height": 398
        },
        "id": "66uuRdNWVimZ",
        "outputId": "7c42c8d3-3f5d-4cfe-e85f-f6d79a53ae66"
      },
      "outputs": [
        {
          "name": "stdout",
          "output_type": "stream",
          "text": [
            "\n",
            "Formato do dataset X_train: (7622, 19) \n",
            "\n",
            "\n",
            "Formato do dataset X_test: (4592, 19) \n",
            "\n"
          ]
        },
        {
          "data": {
            "text/html": [
              "<div>\n",
              "<style scoped>\n",
              "    .dataframe tbody tr th:only-of-type {\n",
              "        vertical-align: middle;\n",
              "    }\n",
              "\n",
              "    .dataframe tbody tr th {\n",
              "        vertical-align: top;\n",
              "    }\n",
              "\n",
              "    .dataframe thead th {\n",
              "        text-align: right;\n",
              "    }\n",
              "</style>\n",
              "<table border=\"1\" class=\"dataframe\">\n",
              "  <thead>\n",
              "    <tr style=\"text-align: right;\">\n",
              "      <th></th>\n",
              "      <th>partido</th>\n",
              "      <th>quantidade_doacoes</th>\n",
              "      <th>quantidade_doadores</th>\n",
              "      <th>total_receita</th>\n",
              "      <th>media_receita</th>\n",
              "      <th>recursos_de_outros_candidatos.comites</th>\n",
              "      <th>recursos_de_pessoas_fisicas</th>\n",
              "      <th>recursos_de_pessoas_juridicas</th>\n",
              "      <th>recursos_proprios</th>\n",
              "      <th>recursos_de_partido_politico</th>\n",
              "      <th>quantidade_despesas</th>\n",
              "      <th>quantidade_fornecedores</th>\n",
              "      <th>total_despesa</th>\n",
              "      <th>media_despesa</th>\n",
              "      <th>cargo</th>\n",
              "      <th>sexo</th>\n",
              "      <th>grau</th>\n",
              "      <th>estado_civil</th>\n",
              "      <th>ocupacao</th>\n",
              "    </tr>\n",
              "  </thead>\n",
              "  <tbody>\n",
              "    <tr>\n",
              "      <th>0</th>\n",
              "      <td>PT</td>\n",
              "      <td>6</td>\n",
              "      <td>6</td>\n",
              "      <td>16600.0</td>\n",
              "      <td>2766.67</td>\n",
              "      <td>0.0</td>\n",
              "      <td>9000.0</td>\n",
              "      <td>6300.0</td>\n",
              "      <td>1300.0</td>\n",
              "      <td>0.0</td>\n",
              "      <td>14</td>\n",
              "      <td>14</td>\n",
              "      <td>16583.60</td>\n",
              "      <td>1184.54</td>\n",
              "      <td>DEPUTADO FEDERAL</td>\n",
              "      <td>MASCULINO</td>\n",
              "      <td>ENSINO MÉDIO COMPLETO</td>\n",
              "      <td>CASADO(A)</td>\n",
              "      <td>VEREADOR</td>\n",
              "    </tr>\n",
              "    <tr>\n",
              "      <th>1</th>\n",
              "      <td>PT</td>\n",
              "      <td>13</td>\n",
              "      <td>13</td>\n",
              "      <td>22826.0</td>\n",
              "      <td>1755.85</td>\n",
              "      <td>6625.0</td>\n",
              "      <td>15000.0</td>\n",
              "      <td>1000.0</td>\n",
              "      <td>201.0</td>\n",
              "      <td>0.0</td>\n",
              "      <td>24</td>\n",
              "      <td>23</td>\n",
              "      <td>20325.99</td>\n",
              "      <td>846.92</td>\n",
              "      <td>DEPUTADO FEDERAL</td>\n",
              "      <td>FEMININO</td>\n",
              "      <td>SUPERIOR COMPLETO</td>\n",
              "      <td>SOLTEIRO(A)</td>\n",
              "      <td>SERVIDOR PÚBLICO ESTADUAL</td>\n",
              "    </tr>\n",
              "    <tr>\n",
              "      <th>2</th>\n",
              "      <td>PT</td>\n",
              "      <td>17</td>\n",
              "      <td>16</td>\n",
              "      <td>158120.8</td>\n",
              "      <td>9301.22</td>\n",
              "      <td>2250.0</td>\n",
              "      <td>34150.0</td>\n",
              "      <td>62220.8</td>\n",
              "      <td>59500.0</td>\n",
              "      <td>0.0</td>\n",
              "      <td>123</td>\n",
              "      <td>108</td>\n",
              "      <td>146011.70</td>\n",
              "      <td>1187.09</td>\n",
              "      <td>DEPUTADO FEDERAL</td>\n",
              "      <td>FEMININO</td>\n",
              "      <td>SUPERIOR COMPLETO</td>\n",
              "      <td>VIÚVO(A)</td>\n",
              "      <td>PEDAGOGO</td>\n",
              "    </tr>\n",
              "  </tbody>\n",
              "</table>\n",
              "</div>"
            ],
            "text/plain": [
              "  partido  quantidade_doacoes  quantidade_doadores  total_receita  \\\n",
              "0      PT                   6                    6        16600.0   \n",
              "1      PT                  13                   13        22826.0   \n",
              "2      PT                  17                   16       158120.8   \n",
              "\n",
              "   media_receita  recursos_de_outros_candidatos.comites  \\\n",
              "0        2766.67                                    0.0   \n",
              "1        1755.85                                 6625.0   \n",
              "2        9301.22                                 2250.0   \n",
              "\n",
              "   recursos_de_pessoas_fisicas  recursos_de_pessoas_juridicas  \\\n",
              "0                       9000.0                         6300.0   \n",
              "1                      15000.0                         1000.0   \n",
              "2                      34150.0                        62220.8   \n",
              "\n",
              "   recursos_proprios  recursos_de_partido_politico  quantidade_despesas  \\\n",
              "0             1300.0                           0.0                   14   \n",
              "1              201.0                           0.0                   24   \n",
              "2            59500.0                           0.0                  123   \n",
              "\n",
              "   quantidade_fornecedores  total_despesa  media_despesa             cargo  \\\n",
              "0                       14       16583.60        1184.54  DEPUTADO FEDERAL   \n",
              "1                       23       20325.99         846.92  DEPUTADO FEDERAL   \n",
              "2                      108      146011.70        1187.09  DEPUTADO FEDERAL   \n",
              "\n",
              "        sexo                   grau estado_civil                   ocupacao  \n",
              "0  MASCULINO  ENSINO MÉDIO COMPLETO    CASADO(A)                   VEREADOR  \n",
              "1   FEMININO      SUPERIOR COMPLETO  SOLTEIRO(A)  SERVIDOR PÚBLICO ESTADUAL  \n",
              "2   FEMININO      SUPERIOR COMPLETO     VIÚVO(A)                   PEDAGOGO  "
            ]
          },
          "execution_count": 5,
          "metadata": {},
          "output_type": "execute_result"
        }
      ],
      "source": [
        "X_train = train.loc[:,'partido':'ocupacao']\n",
        "X_test = test.loc[:,'partido':'ocupacao']\n",
        "print('\\nFormato do dataset X_train:',X_train.shape, '\\n')\n",
        "print('\\nFormato do dataset X_test:',X_test.shape, '\\n')\n",
        "X_train.head(3)"
      ]
    },
    {
      "cell_type": "code",
      "execution_count": 6,
      "metadata": {
        "colab": {
          "base_uri": "https://localhost:8080/"
        },
        "id": "Q-HgKFPbS4fj",
        "outputId": "eb5c9609-ef23-4cf0-a6d6-47581ad0dc4b"
      },
      "outputs": [
        {
          "data": {
            "text/plain": [
              "nao_eleito    6596\n",
              "eleito        1026\n",
              "Name: situacao, dtype: int64"
            ]
          },
          "execution_count": 6,
          "metadata": {},
          "output_type": "execute_result"
        }
      ],
      "source": [
        "train['situacao'].value_counts()"
      ]
    },
    {
      "cell_type": "code",
      "execution_count": 7,
      "metadata": {
        "colab": {
          "base_uri": "https://localhost:8080/"
        },
        "id": "ZUzsgk87Kd1t",
        "outputId": "0805950b-7b38-4d7a-d7d3-2047f817b1cf"
      },
      "outputs": [
        {
          "data": {
            "text/plain": [
              "0       0\n",
              "1       0\n",
              "2       1\n",
              "3       0\n",
              "4       1\n",
              "       ..\n",
              "7617    0\n",
              "7618    0\n",
              "7619    0\n",
              "7620    0\n",
              "7621    0\n",
              "Name: situacao, Length: 7622, dtype: int64"
            ]
          },
          "execution_count": 7,
          "metadata": {},
          "output_type": "execute_result"
        }
      ],
      "source": [
        "y_train = pd.core.series.Series(train['situacao']=='eleito', dtype='int64')\n",
        "y_train"
      ]
    },
    {
      "cell_type": "code",
      "execution_count": 8,
      "metadata": {
        "colab": {
          "base_uri": "https://localhost:8080/"
        },
        "id": "m_LfpQqEYrqL",
        "outputId": "a54c166c-b434-44b6-c3f8-7c3c60be9286"
      },
      "outputs": [
        {
          "data": {
            "text/plain": [
              "['quantidade_doacoes',\n",
              " 'quantidade_doadores',\n",
              " 'total_receita',\n",
              " 'media_receita',\n",
              " 'recursos_de_outros_candidatos.comites',\n",
              " 'recursos_de_pessoas_fisicas',\n",
              " 'recursos_de_pessoas_juridicas',\n",
              " 'recursos_proprios',\n",
              " 'recursos_de_partido_politico',\n",
              " 'quantidade_despesas',\n",
              " 'quantidade_fornecedores',\n",
              " 'total_despesa',\n",
              " 'media_despesa']"
            ]
          },
          "execution_count": 8,
          "metadata": {},
          "output_type": "execute_result"
        }
      ],
      "source": [
        "numeric_features = list(X_train.dtypes[X_train.dtypes != \"object\"].index)\n",
        "numeric_features"
      ]
    },
    {
      "cell_type": "code",
      "execution_count": 9,
      "metadata": {
        "colab": {
          "base_uri": "https://localhost:8080/",
          "height": 294
        },
        "id": "ozWflKn4Nr-N",
        "outputId": "1a4bbca3-01cd-4ec3-c7a8-ac17cfa3abfc"
      },
      "outputs": [
        {
          "data": {
            "text/html": [
              "<div>\n",
              "<style scoped>\n",
              "    .dataframe tbody tr th:only-of-type {\n",
              "        vertical-align: middle;\n",
              "    }\n",
              "\n",
              "    .dataframe tbody tr th {\n",
              "        vertical-align: top;\n",
              "    }\n",
              "\n",
              "    .dataframe thead th {\n",
              "        text-align: right;\n",
              "    }\n",
              "</style>\n",
              "<table border=\"1\" class=\"dataframe\">\n",
              "  <thead>\n",
              "    <tr style=\"text-align: right;\">\n",
              "      <th></th>\n",
              "      <th>partido</th>\n",
              "      <th>quantidade_doacoes</th>\n",
              "      <th>quantidade_doadores</th>\n",
              "      <th>total_receita</th>\n",
              "      <th>media_receita</th>\n",
              "      <th>recursos_de_outros_candidatos.comites</th>\n",
              "      <th>recursos_de_pessoas_fisicas</th>\n",
              "      <th>recursos_de_pessoas_juridicas</th>\n",
              "      <th>recursos_proprios</th>\n",
              "      <th>recursos_de_partido_politico</th>\n",
              "      <th>quantidade_despesas</th>\n",
              "      <th>quantidade_fornecedores</th>\n",
              "      <th>total_despesa</th>\n",
              "      <th>media_despesa</th>\n",
              "      <th>cargo</th>\n",
              "      <th>sexo</th>\n",
              "      <th>grau</th>\n",
              "      <th>estado_civil</th>\n",
              "      <th>ocupacao</th>\n",
              "    </tr>\n",
              "  </thead>\n",
              "  <tbody>\n",
              "    <tr>\n",
              "      <th>0</th>\n",
              "      <td>PT</td>\n",
              "      <td>1.945910</td>\n",
              "      <td>1.945910</td>\n",
              "      <td>9.717218</td>\n",
              "      <td>7.925761</td>\n",
              "      <td>0.000000</td>\n",
              "      <td>9.105091</td>\n",
              "      <td>8.748464</td>\n",
              "      <td>7.170888</td>\n",
              "      <td>0.0</td>\n",
              "      <td>2.708050</td>\n",
              "      <td>2.708050</td>\n",
              "      <td>9.716230</td>\n",
              "      <td>7.077954</td>\n",
              "      <td>DEPUTADO FEDERAL</td>\n",
              "      <td>MASCULINO</td>\n",
              "      <td>ENSINO MÉDIO COMPLETO</td>\n",
              "      <td>CASADO(A)</td>\n",
              "      <td>VEREADOR</td>\n",
              "    </tr>\n",
              "    <tr>\n",
              "      <th>1</th>\n",
              "      <td>PT</td>\n",
              "      <td>2.639057</td>\n",
              "      <td>2.639057</td>\n",
              "      <td>10.035699</td>\n",
              "      <td>7.471278</td>\n",
              "      <td>8.798757</td>\n",
              "      <td>9.615872</td>\n",
              "      <td>6.908755</td>\n",
              "      <td>5.308268</td>\n",
              "      <td>0.0</td>\n",
              "      <td>3.218876</td>\n",
              "      <td>3.178054</td>\n",
              "      <td>9.919705</td>\n",
              "      <td>6.742786</td>\n",
              "      <td>DEPUTADO FEDERAL</td>\n",
              "      <td>FEMININO</td>\n",
              "      <td>SUPERIOR COMPLETO</td>\n",
              "      <td>SOLTEIRO(A)</td>\n",
              "      <td>SERVIDOR PÚBLICO ESTADUAL</td>\n",
              "    </tr>\n",
              "    <tr>\n",
              "      <th>2</th>\n",
              "      <td>PT</td>\n",
              "      <td>2.890372</td>\n",
              "      <td>2.833213</td>\n",
              "      <td>11.971121</td>\n",
              "      <td>9.138008</td>\n",
              "      <td>7.719130</td>\n",
              "      <td>10.438547</td>\n",
              "      <td>11.038461</td>\n",
              "      <td>10.993748</td>\n",
              "      <td>0.0</td>\n",
              "      <td>4.820282</td>\n",
              "      <td>4.691348</td>\n",
              "      <td>11.891449</td>\n",
              "      <td>7.080102</td>\n",
              "      <td>DEPUTADO FEDERAL</td>\n",
              "      <td>FEMININO</td>\n",
              "      <td>SUPERIOR COMPLETO</td>\n",
              "      <td>VIÚVO(A)</td>\n",
              "      <td>PEDAGOGO</td>\n",
              "    </tr>\n",
              "  </tbody>\n",
              "</table>\n",
              "</div>"
            ],
            "text/plain": [
              "  partido  quantidade_doacoes  quantidade_doadores  total_receita  \\\n",
              "0      PT            1.945910             1.945910       9.717218   \n",
              "1      PT            2.639057             2.639057      10.035699   \n",
              "2      PT            2.890372             2.833213      11.971121   \n",
              "\n",
              "   media_receita  recursos_de_outros_candidatos.comites  \\\n",
              "0       7.925761                               0.000000   \n",
              "1       7.471278                               8.798757   \n",
              "2       9.138008                               7.719130   \n",
              "\n",
              "   recursos_de_pessoas_fisicas  recursos_de_pessoas_juridicas  \\\n",
              "0                     9.105091                       8.748464   \n",
              "1                     9.615872                       6.908755   \n",
              "2                    10.438547                      11.038461   \n",
              "\n",
              "   recursos_proprios  recursos_de_partido_politico  quantidade_despesas  \\\n",
              "0           7.170888                           0.0             2.708050   \n",
              "1           5.308268                           0.0             3.218876   \n",
              "2          10.993748                           0.0             4.820282   \n",
              "\n",
              "   quantidade_fornecedores  total_despesa  media_despesa             cargo  \\\n",
              "0                 2.708050       9.716230       7.077954  DEPUTADO FEDERAL   \n",
              "1                 3.178054       9.919705       6.742786  DEPUTADO FEDERAL   \n",
              "2                 4.691348      11.891449       7.080102  DEPUTADO FEDERAL   \n",
              "\n",
              "        sexo                   grau estado_civil                   ocupacao  \n",
              "0  MASCULINO  ENSINO MÉDIO COMPLETO    CASADO(A)                   VEREADOR  \n",
              "1   FEMININO      SUPERIOR COMPLETO  SOLTEIRO(A)  SERVIDOR PÚBLICO ESTADUAL  \n",
              "2   FEMININO      SUPERIOR COMPLETO     VIÚVO(A)                   PEDAGOGO  "
            ]
          },
          "execution_count": 9,
          "metadata": {},
          "output_type": "execute_result"
        }
      ],
      "source": [
        "X_train[numeric_features] = np.log1p(X_train[numeric_features])\n",
        "X_test[numeric_features] = np.log1p(X_test[numeric_features])\n",
        "X_train.head(3)"
      ]
    },
    {
      "cell_type": "code",
      "execution_count": 10,
      "metadata": {
        "colab": {
          "base_uri": "https://localhost:8080/",
          "height": 294
        },
        "id": "RrUp8d1eOV2G",
        "outputId": "903a801e-190c-4bdf-ad92-cbb2801699da"
      },
      "outputs": [
        {
          "data": {
            "text/html": [
              "<div>\n",
              "<style scoped>\n",
              "    .dataframe tbody tr th:only-of-type {\n",
              "        vertical-align: middle;\n",
              "    }\n",
              "\n",
              "    .dataframe tbody tr th {\n",
              "        vertical-align: top;\n",
              "    }\n",
              "\n",
              "    .dataframe thead th {\n",
              "        text-align: right;\n",
              "    }\n",
              "</style>\n",
              "<table border=\"1\" class=\"dataframe\">\n",
              "  <thead>\n",
              "    <tr style=\"text-align: right;\">\n",
              "      <th></th>\n",
              "      <th>partido</th>\n",
              "      <th>quantidade_doacoes</th>\n",
              "      <th>quantidade_doadores</th>\n",
              "      <th>total_receita</th>\n",
              "      <th>media_receita</th>\n",
              "      <th>recursos_de_outros_candidatos.comites</th>\n",
              "      <th>recursos_de_pessoas_fisicas</th>\n",
              "      <th>recursos_de_pessoas_juridicas</th>\n",
              "      <th>recursos_proprios</th>\n",
              "      <th>recursos_de_partido_politico</th>\n",
              "      <th>quantidade_despesas</th>\n",
              "      <th>quantidade_fornecedores</th>\n",
              "      <th>total_despesa</th>\n",
              "      <th>media_despesa</th>\n",
              "      <th>cargo</th>\n",
              "      <th>sexo</th>\n",
              "      <th>grau</th>\n",
              "      <th>estado_civil</th>\n",
              "      <th>ocupacao</th>\n",
              "    </tr>\n",
              "  </thead>\n",
              "  <tbody>\n",
              "    <tr>\n",
              "      <th>0</th>\n",
              "      <td>PT</td>\n",
              "      <td>0.153520</td>\n",
              "      <td>0.157133</td>\n",
              "      <td>0.624727</td>\n",
              "      <td>0.603972</td>\n",
              "      <td>0.000000</td>\n",
              "      <td>0.643280</td>\n",
              "      <td>0.584328</td>\n",
              "      <td>0.461896</td>\n",
              "      <td>0.0</td>\n",
              "      <td>0.236756</td>\n",
              "      <td>0.241651</td>\n",
              "      <td>0.629989</td>\n",
              "      <td>0.539366</td>\n",
              "      <td>DEPUTADO FEDERAL</td>\n",
              "      <td>MASCULINO</td>\n",
              "      <td>ENSINO MÉDIO COMPLETO</td>\n",
              "      <td>CASADO(A)</td>\n",
              "      <td>VEREADOR</td>\n",
              "    </tr>\n",
              "    <tr>\n",
              "      <th>1</th>\n",
              "      <td>PT</td>\n",
              "      <td>0.238463</td>\n",
              "      <td>0.244074</td>\n",
              "      <td>0.645203</td>\n",
              "      <td>0.569339</td>\n",
              "      <td>0.582155</td>\n",
              "      <td>0.679367</td>\n",
              "      <td>0.461450</td>\n",
              "      <td>0.341920</td>\n",
              "      <td>0.0</td>\n",
              "      <td>0.296779</td>\n",
              "      <td>0.298020</td>\n",
              "      <td>0.643183</td>\n",
              "      <td>0.513825</td>\n",
              "      <td>DEPUTADO FEDERAL</td>\n",
              "      <td>FEMININO</td>\n",
              "      <td>SUPERIOR COMPLETO</td>\n",
              "      <td>SOLTEIRO(A)</td>\n",
              "      <td>SERVIDOR PÚBLICO ESTADUAL</td>\n",
              "    </tr>\n",
              "    <tr>\n",
              "      <th>2</th>\n",
              "      <td>PT</td>\n",
              "      <td>0.269260</td>\n",
              "      <td>0.268426</td>\n",
              "      <td>0.769633</td>\n",
              "      <td>0.696350</td>\n",
              "      <td>0.510723</td>\n",
              "      <td>0.737490</td>\n",
              "      <td>0.737282</td>\n",
              "      <td>0.708136</td>\n",
              "      <td>0.0</td>\n",
              "      <td>0.484948</td>\n",
              "      <td>0.479512</td>\n",
              "      <td>0.771028</td>\n",
              "      <td>0.539530</td>\n",
              "      <td>DEPUTADO FEDERAL</td>\n",
              "      <td>FEMININO</td>\n",
              "      <td>SUPERIOR COMPLETO</td>\n",
              "      <td>VIÚVO(A)</td>\n",
              "      <td>PEDAGOGO</td>\n",
              "    </tr>\n",
              "  </tbody>\n",
              "</table>\n",
              "</div>"
            ],
            "text/plain": [
              "  partido  quantidade_doacoes  quantidade_doadores  total_receita  \\\n",
              "0      PT            0.153520             0.157133       0.624727   \n",
              "1      PT            0.238463             0.244074       0.645203   \n",
              "2      PT            0.269260             0.268426       0.769633   \n",
              "\n",
              "   media_receita  recursos_de_outros_candidatos.comites  \\\n",
              "0       0.603972                               0.000000   \n",
              "1       0.569339                               0.582155   \n",
              "2       0.696350                               0.510723   \n",
              "\n",
              "   recursos_de_pessoas_fisicas  recursos_de_pessoas_juridicas  \\\n",
              "0                     0.643280                       0.584328   \n",
              "1                     0.679367                       0.461450   \n",
              "2                     0.737490                       0.737282   \n",
              "\n",
              "   recursos_proprios  recursos_de_partido_politico  quantidade_despesas  \\\n",
              "0           0.461896                           0.0             0.236756   \n",
              "1           0.341920                           0.0             0.296779   \n",
              "2           0.708136                           0.0             0.484948   \n",
              "\n",
              "   quantidade_fornecedores  total_despesa  media_despesa             cargo  \\\n",
              "0                 0.241651       0.629989       0.539366  DEPUTADO FEDERAL   \n",
              "1                 0.298020       0.643183       0.513825  DEPUTADO FEDERAL   \n",
              "2                 0.479512       0.771028       0.539530  DEPUTADO FEDERAL   \n",
              "\n",
              "        sexo                   grau estado_civil                   ocupacao  \n",
              "0  MASCULINO  ENSINO MÉDIO COMPLETO    CASADO(A)                   VEREADOR  \n",
              "1   FEMININO      SUPERIOR COMPLETO  SOLTEIRO(A)  SERVIDOR PÚBLICO ESTADUAL  \n",
              "2   FEMININO      SUPERIOR COMPLETO     VIÚVO(A)                   PEDAGOGO  "
            ]
          },
          "execution_count": 10,
          "metadata": {},
          "output_type": "execute_result"
        }
      ],
      "source": [
        "min_max_scaler = preprocessing.MinMaxScaler()\n",
        "X_train[numeric_features] = min_max_scaler.fit_transform(X_train[numeric_features])\n",
        "X_test[numeric_features] = min_max_scaler.fit_transform(X_test[numeric_features])\n",
        "X_train.head(3)"
      ]
    },
    {
      "cell_type": "code",
      "execution_count": 11,
      "metadata": {},
      "outputs": [
        {
          "data": {
            "text/plain": [
              "['partido', 'cargo', 'sexo', 'grau', 'estado_civil', 'ocupacao']"
            ]
          },
          "execution_count": 11,
          "metadata": {},
          "output_type": "execute_result"
        }
      ],
      "source": [
        "categorical_features = list(X_train.dtypes[X_train.dtypes == \"object\"].index)\n",
        "categorical_features"
      ]
    },
    {
      "cell_type": "markdown",
      "metadata": {
        "id": "U99YIwUf3rlg"
      },
      "source": [
        "#### 1. Há desbalanceamento das classes (isto é, uma classe tem muito mais instâncias que outra)? Em que proporção? Quais efeitos colaterais o desbalanceamento de classes pode causar no classificador? Como você poderia tratar isso? (10 pt.)"
      ]
    },
    {
      "cell_type": "code",
      "execution_count": 12,
      "metadata": {
        "colab": {
          "base_uri": "https://localhost:8080/"
        },
        "id": "onLYlADhW0Qa",
        "outputId": "192ca932-0c65-4369-ceb2-6d17ed71d68c"
      },
      "outputs": [
        {
          "data": {
            "text/plain": [
              "PT         619\n",
              "PMDB       598\n",
              "PV         538\n",
              "PDT        521\n",
              "PSB        515\n",
              "PSDB       497\n",
              "PTB        418\n",
              "PPS        340\n",
              "PP         330\n",
              "PSOL       307\n",
              "PSC        288\n",
              "PMN        273\n",
              "PTC        256\n",
              "PHS        228\n",
              "PFL        192\n",
              "PL         165\n",
              "PC do B    163\n",
              "DEM        163\n",
              "PSL        161\n",
              "PR         138\n",
              "PT do B    134\n",
              "PRTB       129\n",
              "PRB        122\n",
              "PSDC       116\n",
              "PRP        114\n",
              "PTN         94\n",
              "PRONA       79\n",
              "PAN         60\n",
              "PSTU        41\n",
              "PCB         14\n",
              "PCO          9\n",
              "Name: partido, dtype: int64"
            ]
          },
          "execution_count": 12,
          "metadata": {},
          "output_type": "execute_result"
        }
      ],
      "source": [
        "X_train['partido'].value_counts()"
      ]
    },
    {
      "cell_type": "code",
      "execution_count": 13,
      "metadata": {
        "colab": {
          "base_uri": "https://localhost:8080/"
        },
        "id": "M3JpyuZNf2PY",
        "outputId": "c87732c1-15ea-4825-c3d1-b0201b0b7529"
      },
      "outputs": [
        {
          "data": {
            "text/plain": [
              "245.8709677419355"
            ]
          },
          "execution_count": 13,
          "metadata": {},
          "output_type": "execute_result"
        }
      ],
      "source": [
        "instancias_por_partido = X_train['partido'].value_counts()\n",
        "media_instancias_por_partido = instancias_por_partido.mean()\n",
        "media_instancias_por_partido"
      ]
    },
    {
      "cell_type": "code",
      "execution_count": 14,
      "metadata": {
        "colab": {
          "base_uri": "https://localhost:8080/"
        },
        "id": "EpvEtGuqgRUn",
        "outputId": "eddd6b57-6d72-4e06-9e0a-d72f17c43bdc"
      },
      "outputs": [
        {
          "data": {
            "text/plain": [
              "179.54400425067274"
            ]
          },
          "execution_count": 14,
          "metadata": {},
          "output_type": "execute_result"
        }
      ],
      "source": [
        "std_instancias_por_partido = instancias_por_partido.std()\n",
        "std_instancias_por_partido"
      ]
    },
    {
      "cell_type": "code",
      "execution_count": 15,
      "metadata": {
        "colab": {
          "base_uri": "https://localhost:8080/"
        },
        "id": "N-_v36bbglUy",
        "outputId": "3e154299-d524-49e1-833d-b31e27606355"
      },
      "outputs": [
        {
          "data": {
            "text/plain": [
              "['PT',\n",
              " 'PMDB',\n",
              " 'PV',\n",
              " 'PDT',\n",
              " 'PSB',\n",
              " 'PSDB',\n",
              " 'PTB',\n",
              " 'PPS',\n",
              " 'PP',\n",
              " 'PSOL',\n",
              " 'PSC',\n",
              " 'PMN',\n",
              " 'PTC',\n",
              " 'PHS',\n",
              " 'PFL',\n",
              " 'PL',\n",
              " 'PC do B',\n",
              " 'DEM',\n",
              " 'PSL',\n",
              " 'PR',\n",
              " 'PT do B',\n",
              " 'PRTB',\n",
              " 'PRB',\n",
              " 'PSDC',\n",
              " 'PRP',\n",
              " 'PTN',\n",
              " 'PRONA',\n",
              " 'PAN',\n",
              " 'PSTU']"
            ]
          },
          "execution_count": 15,
          "metadata": {},
          "output_type": "execute_result"
        }
      ],
      "source": [
        "principais_partidos = list((instancias_por_partido[ (instancias_por_partido-media_instancias_por_partido)>=-1.2*std_instancias_por_partido ]).index)\n",
        "principais_partidos"
      ]
    },
    {
      "cell_type": "code",
      "execution_count": 16,
      "metadata": {
        "colab": {
          "base_uri": "https://localhost:8080/"
        },
        "id": "Fz2oBmKAPvDL",
        "outputId": "1340343b-231e-4622-961c-546809fcc57b"
      },
      "outputs": [
        {
          "data": {
            "text/plain": [
              "PT         619\n",
              "PMDB       598\n",
              "PV         538\n",
              "PDT        521\n",
              "PSB        515\n",
              "PSDB       497\n",
              "PTB        418\n",
              "PPS        340\n",
              "PP         330\n",
              "PSOL       307\n",
              "PSC        288\n",
              "PMN        273\n",
              "PTC        256\n",
              "PHS        228\n",
              "PFL        192\n",
              "PL         165\n",
              "PC do B    163\n",
              "DEM        163\n",
              "PSL        161\n",
              "PR         138\n",
              "PT do B    134\n",
              "PRTB       129\n",
              "PRB        122\n",
              "PSDC       116\n",
              "PRP        114\n",
              "PTN         94\n",
              "PRONA       79\n",
              "PAN         60\n",
              "PSTU        41\n",
              "OUTROS      23\n",
              "Name: partido, dtype: int64"
            ]
          },
          "execution_count": 16,
          "metadata": {},
          "output_type": "execute_result"
        }
      ],
      "source": [
        "def substituirPartidosRarosPorOutros(x):\n",
        "  if x not in principais_partidos:\n",
        "    return 'OUTROS'\n",
        "  return x\n",
        "\n",
        "X_train['partido'] = X_train['partido'].apply(substituirPartidosRarosPorOutros)\n",
        "X_test['partido'] = X_test['partido'].apply(substituirPartidosRarosPorOutros)\n",
        "X_train['partido'].value_counts()"
      ]
    },
    {
      "cell_type": "code",
      "execution_count": 17,
      "metadata": {
        "colab": {
          "base_uri": "https://localhost:8080/"
        },
        "id": "gAhLOC0lXNpp",
        "outputId": "64ae1401-57fe-4da8-8d00-d7f2865472c0"
      },
      "outputs": [
        {
          "data": {
            "text/plain": [
              "DEPUTADO FEDERAL    7622\n",
              "Name: cargo, dtype: int64"
            ]
          },
          "execution_count": 17,
          "metadata": {},
          "output_type": "execute_result"
        }
      ],
      "source": [
        "X_train['cargo'].value_counts()"
      ]
    },
    {
      "cell_type": "code",
      "execution_count": 18,
      "metadata": {
        "id": "dJWqHSpNUMQ3"
      },
      "outputs": [],
      "source": [
        "del X_train['cargo']\n",
        "del X_test['cargo']\n",
        "categorical_features.remove('cargo')"
      ]
    },
    {
      "cell_type": "code",
      "execution_count": 19,
      "metadata": {
        "colab": {
          "base_uri": "https://localhost:8080/"
        },
        "id": "GmDmqCh8Xfyx",
        "outputId": "f1e71626-b50c-4ea0-9097-7805ffaa7fd0"
      },
      "outputs": [
        {
          "data": {
            "text/plain": [
              "MASCULINO    6544\n",
              "FEMININO     1078\n",
              "Name: sexo, dtype: int64"
            ]
          },
          "execution_count": 19,
          "metadata": {},
          "output_type": "execute_result"
        }
      ],
      "source": [
        "X_train['sexo'].value_counts()"
      ]
    },
    {
      "cell_type": "code",
      "execution_count": 20,
      "metadata": {
        "colab": {
          "base_uri": "https://localhost:8080/"
        },
        "id": "X0TGtUWPXiUp",
        "outputId": "7bccd817-8d70-4af5-c6df-eb45308503b1"
      },
      "outputs": [
        {
          "data": {
            "text/plain": [
              "SUPERIOR COMPLETO                4401\n",
              "ENSINO MÉDIO COMPLETO            1498\n",
              "SUPERIOR INCOMPLETO               832\n",
              "ENSINO FUNDAMENTAL COMPLETO       455\n",
              "ENSINO MÉDIO INCOMPLETO           210\n",
              "ENSINO FUNDAMENTAL INCOMPLETO     194\n",
              "LÊ E ESCREVE                       32\n",
              "Name: grau, dtype: int64"
            ]
          },
          "execution_count": 20,
          "metadata": {},
          "output_type": "execute_result"
        }
      ],
      "source": [
        "X_train['grau'].value_counts()"
      ]
    },
    {
      "cell_type": "code",
      "execution_count": 21,
      "metadata": {
        "colab": {
          "base_uri": "https://localhost:8080/"
        },
        "id": "elGGUtjjYDX7",
        "outputId": "6d440e86-db62-4054-c268-ddb8b2f60395"
      },
      "outputs": [
        {
          "data": {
            "text/plain": [
              "CASADO(A)                    4874\n",
              "SOLTEIRO(A)                  1523\n",
              "DIVORCIADO(A)                 780\n",
              "SEPARADO(A) JUDICIALMENTE     316\n",
              "VIÚVO(A)                      129\n",
              "Name: estado_civil, dtype: int64"
            ]
          },
          "execution_count": 21,
          "metadata": {},
          "output_type": "execute_result"
        }
      ],
      "source": [
        "X_train['estado_civil'].value_counts()"
      ]
    },
    {
      "cell_type": "code",
      "execution_count": 22,
      "metadata": {
        "colab": {
          "base_uri": "https://localhost:8080/"
        },
        "id": "cYnLOhceYI8U",
        "outputId": "d2a3a15e-19e7-4cb6-ccd1-eb9c51223af5"
      },
      "outputs": [
        {
          "data": {
            "text/plain": [
              "OUTROS                    854\n",
              "DEPUTADO                  717\n",
              "ADVOGADO                  698\n",
              "EMPRESÁRIO                662\n",
              "COMERCIANTE               336\n",
              "                         ... \n",
              "TÉCNICO DE BIOLOGIA         1\n",
              "OPERADOR DE COMPUTADOR      1\n",
              "ARQUEÓLOGO                  1\n",
              "GARI OU LIXEIRO             1\n",
              "FONOAUDIÓLOGO               1\n",
              "Name: ocupacao, Length: 176, dtype: int64"
            ]
          },
          "execution_count": 22,
          "metadata": {},
          "output_type": "execute_result"
        }
      ],
      "source": [
        "X_train['ocupacao'].value_counts()"
      ]
    },
    {
      "cell_type": "code",
      "execution_count": 23,
      "metadata": {
        "colab": {
          "base_uri": "https://localhost:8080/"
        },
        "id": "n9Bi8wxRayaM",
        "outputId": "79a9b47b-8ff9-4b46-911f-c2663635be3f"
      },
      "outputs": [
        {
          "name": "stdout",
          "output_type": "stream",
          "text": [
            "Total médio de instâncias esperadas para cada ocupação empregatícia: 43.30681818181818\n"
          ]
        }
      ],
      "source": [
        "print('Total médio de instâncias esperadas para cada ocupação empregatícia:',7622/176)"
      ]
    },
    {
      "cell_type": "code",
      "execution_count": 24,
      "metadata": {
        "colab": {
          "base_uri": "https://localhost:8080/"
        },
        "id": "yovmJ5TdakyH",
        "outputId": "099a5ead-d257-413c-fe6d-9e0d5fe58225"
      },
      "outputs": [
        {
          "data": {
            "text/plain": [
              "OUTROS                                             854\n",
              "DEPUTADO                                           717\n",
              "ADVOGADO                                           698\n",
              "EMPRESÁRIO                                         662\n",
              "COMERCIANTE                                        336\n",
              "MÉDICO                                             335\n",
              "VEREADOR                                           329\n",
              "SERVIDOR PÚBLICO ESTADUAL                          254\n",
              "SERVIDOR PÚBLICO FEDERAL                           221\n",
              "PROFESSOR DE ENSINO MÉDIO                          180\n",
              "ADMINISTRADOR                                      167\n",
              "ENGENHEIRO                                         164\n",
              "APOSENTADO (EXCETO SERVIDOR PÚBLICO)               162\n",
              "POLICIAL MILITAR                                   156\n",
              "PROFESSOR DE ENSINO SUPERIOR                       153\n",
              "SERVIDOR PÚBLICO MUNICIPAL                         127\n",
              "ESTUDANTE, BOLSISTA, ESTAGIÁRIO E ASSEMELHADOS      87\n",
              "MILITAR REFORMADO                                   83\n",
              "ECONOMISTA                                          78\n",
              "PROFESSOR DE ENSINO FUNDAMENTAL                     73\n",
              "CONTADOR                                            71\n",
              "JORNALISTA E REDATOR                                69\n",
              "CORRETOR DE IMÓVEIS, SEGUROS, TÍTULOS E VALORES     57\n",
              "SERVIDOR PÚBLICO CIVIL APOSENTADO                   57\n",
              "BANCÁRIO E ECONOMIÁRIO                              56\n",
              "SACERDOTE OU MEMBRO DE ORDEM OU SEITA RELIGIOSA     55\n",
              "AGRICULTOR                                          52\n",
              "POLICIAL CIVIL                                      46\n",
              "REPRESENTANTE COMERCIAL                             46\n",
              "ODONTÓLOGO                                          43\n",
              "Name: ocupacao, dtype: int64"
            ]
          },
          "execution_count": 24,
          "metadata": {},
          "output_type": "execute_result"
        }
      ],
      "source": [
        "totais_ocupacoes = X_train['ocupacao'].value_counts()\n",
        "principais_ocupacoes = totais_ocupacoes[totais_ocupacoes>=43]\n",
        "principais_ocupacoes"
      ]
    },
    {
      "cell_type": "code",
      "execution_count": 25,
      "metadata": {
        "colab": {
          "base_uri": "https://localhost:8080/"
        },
        "id": "IFRbUHiubPeO",
        "outputId": "0be10759-6833-43a5-8676-5cd079e7be35"
      },
      "outputs": [
        {
          "data": {
            "text/plain": [
              "['OUTROS',\n",
              " 'DEPUTADO',\n",
              " 'ADVOGADO',\n",
              " 'EMPRESÁRIO',\n",
              " 'COMERCIANTE',\n",
              " 'MÉDICO',\n",
              " 'VEREADOR',\n",
              " 'SERVIDOR PÚBLICO ESTADUAL',\n",
              " 'SERVIDOR PÚBLICO FEDERAL',\n",
              " 'PROFESSOR DE ENSINO MÉDIO',\n",
              " 'ADMINISTRADOR',\n",
              " 'ENGENHEIRO',\n",
              " 'APOSENTADO (EXCETO SERVIDOR PÚBLICO)',\n",
              " 'POLICIAL MILITAR',\n",
              " 'PROFESSOR DE ENSINO SUPERIOR',\n",
              " 'SERVIDOR PÚBLICO MUNICIPAL',\n",
              " 'ESTUDANTE, BOLSISTA, ESTAGIÁRIO E ASSEMELHADOS',\n",
              " 'MILITAR REFORMADO',\n",
              " 'ECONOMISTA',\n",
              " 'PROFESSOR DE ENSINO FUNDAMENTAL',\n",
              " 'CONTADOR',\n",
              " 'JORNALISTA E REDATOR',\n",
              " 'CORRETOR DE IMÓVEIS, SEGUROS, TÍTULOS E VALORES',\n",
              " 'SERVIDOR PÚBLICO CIVIL APOSENTADO',\n",
              " 'BANCÁRIO E ECONOMIÁRIO',\n",
              " 'SACERDOTE OU MEMBRO DE ORDEM OU SEITA RELIGIOSA',\n",
              " 'AGRICULTOR',\n",
              " 'POLICIAL CIVIL',\n",
              " 'REPRESENTANTE COMERCIAL',\n",
              " 'ODONTÓLOGO']"
            ]
          },
          "execution_count": 25,
          "metadata": {},
          "output_type": "execute_result"
        }
      ],
      "source": [
        "principais_ocupacoes = list(principais_ocupacoes.index)\n",
        "principais_ocupacoes"
      ]
    },
    {
      "cell_type": "code",
      "execution_count": 26,
      "metadata": {
        "colab": {
          "base_uri": "https://localhost:8080/"
        },
        "id": "_3WSBKu_b6NJ",
        "outputId": "5be47e13-ba2b-46c3-e065-ca9de063ee3d"
      },
      "outputs": [
        {
          "data": {
            "text/plain": [
              "OUTROS                                             2088\n",
              "DEPUTADO                                            717\n",
              "ADVOGADO                                            698\n",
              "EMPRESÁRIO                                          662\n",
              "COMERCIANTE                                         336\n",
              "MÉDICO                                              335\n",
              "VEREADOR                                            329\n",
              "SERVIDOR PÚBLICO ESTADUAL                           254\n",
              "SERVIDOR PÚBLICO FEDERAL                            221\n",
              "PROFESSOR DE ENSINO MÉDIO                           180\n",
              "ADMINISTRADOR                                       167\n",
              "ENGENHEIRO                                          164\n",
              "APOSENTADO (EXCETO SERVIDOR PÚBLICO)                162\n",
              "POLICIAL MILITAR                                    156\n",
              "PROFESSOR DE ENSINO SUPERIOR                        153\n",
              "SERVIDOR PÚBLICO MUNICIPAL                          127\n",
              "ESTUDANTE, BOLSISTA, ESTAGIÁRIO E ASSEMELHADOS       87\n",
              "MILITAR REFORMADO                                    83\n",
              "ECONOMISTA                                           78\n",
              "PROFESSOR DE ENSINO FUNDAMENTAL                      73\n",
              "CONTADOR                                             71\n",
              "JORNALISTA E REDATOR                                 69\n",
              "SERVIDOR PÚBLICO CIVIL APOSENTADO                    57\n",
              "CORRETOR DE IMÓVEIS, SEGUROS, TÍTULOS E VALORES      57\n",
              "BANCÁRIO E ECONOMIÁRIO                               56\n",
              "SACERDOTE OU MEMBRO DE ORDEM OU SEITA RELIGIOSA      55\n",
              "AGRICULTOR                                           52\n",
              "POLICIAL CIVIL                                       46\n",
              "REPRESENTANTE COMERCIAL                              46\n",
              "ODONTÓLOGO                                           43\n",
              "Name: ocupacao, dtype: int64"
            ]
          },
          "execution_count": 26,
          "metadata": {},
          "output_type": "execute_result"
        }
      ],
      "source": [
        "def substituirOcupacoesRarasPorOutros(x):\n",
        "  if x not in principais_ocupacoes:\n",
        "    return 'OUTROS'\n",
        "  return x\n",
        "\n",
        "#X_train['ocupacao'][~X_train['ocupacao'].isin(principais_ocupacoes)] = 'OUTROS'\n",
        "\n",
        "X_train['ocupacao'] = X_train['ocupacao'].apply(substituirOcupacoesRarasPorOutros)\n",
        "X_test['ocupacao'] = X_test['ocupacao'].apply(substituirOcupacoesRarasPorOutros)\n",
        "\n",
        "X_train['ocupacao'].value_counts()"
      ]
    },
    {
      "cell_type": "code",
      "execution_count": 27,
      "metadata": {
        "colab": {
          "base_uri": "https://localhost:8080/",
          "height": 179
        },
        "id": "xJBNRMtiXm_5",
        "outputId": "3baa580d-f35d-4c66-beb4-7e01a209bf38"
      },
      "outputs": [
        {
          "data": {
            "text/html": [
              "<div>\n",
              "<style scoped>\n",
              "    .dataframe tbody tr th:only-of-type {\n",
              "        vertical-align: middle;\n",
              "    }\n",
              "\n",
              "    .dataframe tbody tr th {\n",
              "        vertical-align: top;\n",
              "    }\n",
              "\n",
              "    .dataframe thead th {\n",
              "        text-align: right;\n",
              "    }\n",
              "</style>\n",
              "<table border=\"1\" class=\"dataframe\">\n",
              "  <thead>\n",
              "    <tr style=\"text-align: right;\">\n",
              "      <th></th>\n",
              "      <th>partido</th>\n",
              "      <th>quantidade_doacoes</th>\n",
              "      <th>quantidade_doadores</th>\n",
              "      <th>total_receita</th>\n",
              "      <th>media_receita</th>\n",
              "      <th>recursos_de_outros_candidatos.comites</th>\n",
              "      <th>recursos_de_pessoas_fisicas</th>\n",
              "      <th>recursos_de_pessoas_juridicas</th>\n",
              "      <th>recursos_proprios</th>\n",
              "      <th>recursos_de_partido_politico</th>\n",
              "      <th>quantidade_despesas</th>\n",
              "      <th>quantidade_fornecedores</th>\n",
              "      <th>total_despesa</th>\n",
              "      <th>media_despesa</th>\n",
              "      <th>sexo</th>\n",
              "      <th>grau</th>\n",
              "      <th>estado_civil</th>\n",
              "      <th>ocupacao</th>\n",
              "    </tr>\n",
              "  </thead>\n",
              "  <tbody>\n",
              "    <tr>\n",
              "      <th>0</th>\n",
              "      <td>PT</td>\n",
              "      <td>0.15352</td>\n",
              "      <td>0.157133</td>\n",
              "      <td>0.624727</td>\n",
              "      <td>0.603972</td>\n",
              "      <td>0.0</td>\n",
              "      <td>0.64328</td>\n",
              "      <td>0.584328</td>\n",
              "      <td>0.461896</td>\n",
              "      <td>0.0</td>\n",
              "      <td>0.236756</td>\n",
              "      <td>0.241651</td>\n",
              "      <td>0.629989</td>\n",
              "      <td>0.539366</td>\n",
              "      <td>MASCULINO</td>\n",
              "      <td>ENSINO MÉDIO COMPLETO</td>\n",
              "      <td>CASADO(A)</td>\n",
              "      <td>VEREADOR</td>\n",
              "    </tr>\n",
              "  </tbody>\n",
              "</table>\n",
              "</div>"
            ],
            "text/plain": [
              "  partido  quantidade_doacoes  quantidade_doadores  total_receita  \\\n",
              "0      PT             0.15352             0.157133       0.624727   \n",
              "\n",
              "   media_receita  recursos_de_outros_candidatos.comites  \\\n",
              "0       0.603972                                    0.0   \n",
              "\n",
              "   recursos_de_pessoas_fisicas  recursos_de_pessoas_juridicas  \\\n",
              "0                      0.64328                       0.584328   \n",
              "\n",
              "   recursos_proprios  recursos_de_partido_politico  quantidade_despesas  \\\n",
              "0           0.461896                           0.0             0.236756   \n",
              "\n",
              "   quantidade_fornecedores  total_despesa  media_despesa       sexo  \\\n",
              "0                 0.241651       0.629989       0.539366  MASCULINO   \n",
              "\n",
              "                    grau estado_civil  ocupacao  \n",
              "0  ENSINO MÉDIO COMPLETO    CASADO(A)  VEREADOR  "
            ]
          },
          "execution_count": 27,
          "metadata": {},
          "output_type": "execute_result"
        }
      ],
      "source": [
        "X_train.head(1)"
      ]
    },
    {
      "cell_type": "code",
      "execution_count": 28,
      "metadata": {
        "colab": {
          "base_uri": "https://localhost:8080/",
          "height": 232
        },
        "id": "7COG7QYJUazc",
        "outputId": "72b692bb-fe64-4fa7-f4ed-3c77260874d7"
      },
      "outputs": [
        {
          "data": {
            "text/html": [
              "<div>\n",
              "<style scoped>\n",
              "    .dataframe tbody tr th:only-of-type {\n",
              "        vertical-align: middle;\n",
              "    }\n",
              "\n",
              "    .dataframe tbody tr th {\n",
              "        vertical-align: top;\n",
              "    }\n",
              "\n",
              "    .dataframe thead th {\n",
              "        text-align: right;\n",
              "    }\n",
              "</style>\n",
              "<table border=\"1\" class=\"dataframe\">\n",
              "  <thead>\n",
              "    <tr style=\"text-align: right;\">\n",
              "      <th></th>\n",
              "      <th>partido</th>\n",
              "      <th>quantidade_doacoes</th>\n",
              "      <th>quantidade_doadores</th>\n",
              "      <th>total_receita</th>\n",
              "      <th>media_receita</th>\n",
              "      <th>recursos_de_outros_candidatos.comites</th>\n",
              "      <th>recursos_de_pessoas_fisicas</th>\n",
              "      <th>recursos_de_pessoas_juridicas</th>\n",
              "      <th>recursos_proprios</th>\n",
              "      <th>recursos_de_partido_politico</th>\n",
              "      <th>quantidade_despesas</th>\n",
              "      <th>quantidade_fornecedores</th>\n",
              "      <th>total_despesa</th>\n",
              "      <th>media_despesa</th>\n",
              "      <th>sexo</th>\n",
              "      <th>grau</th>\n",
              "      <th>estado_civil</th>\n",
              "      <th>ocupacao</th>\n",
              "    </tr>\n",
              "  </thead>\n",
              "  <tbody>\n",
              "    <tr>\n",
              "      <th>0</th>\n",
              "      <td>PSOL</td>\n",
              "      <td>0.118765</td>\n",
              "      <td>0.125674</td>\n",
              "      <td>0.463585</td>\n",
              "      <td>0.494318</td>\n",
              "      <td>0.0</td>\n",
              "      <td>0.507273</td>\n",
              "      <td>0.0</td>\n",
              "      <td>0.0</td>\n",
              "      <td>0.282272</td>\n",
              "      <td>0.085859</td>\n",
              "      <td>0.088213</td>\n",
              "      <td>0.461147</td>\n",
              "      <td>0.596945</td>\n",
              "      <td>MASCULINO</td>\n",
              "      <td>ENSINO MÉDIO COMPLETO</td>\n",
              "      <td>SOLTEIRO(A)</td>\n",
              "      <td>CORRETOR DE IMÓVEIS, SEGUROS, TÍTULOS E VALORES</td>\n",
              "    </tr>\n",
              "  </tbody>\n",
              "</table>\n",
              "</div>"
            ],
            "text/plain": [
              "  partido  quantidade_doacoes  quantidade_doadores  total_receita  \\\n",
              "0    PSOL            0.118765             0.125674       0.463585   \n",
              "\n",
              "   media_receita  recursos_de_outros_candidatos.comites  \\\n",
              "0       0.494318                                    0.0   \n",
              "\n",
              "   recursos_de_pessoas_fisicas  recursos_de_pessoas_juridicas  \\\n",
              "0                     0.507273                            0.0   \n",
              "\n",
              "   recursos_proprios  recursos_de_partido_politico  quantidade_despesas  \\\n",
              "0                0.0                      0.282272             0.085859   \n",
              "\n",
              "   quantidade_fornecedores  total_despesa  media_despesa       sexo  \\\n",
              "0                 0.088213       0.461147       0.596945  MASCULINO   \n",
              "\n",
              "                    grau estado_civil  \\\n",
              "0  ENSINO MÉDIO COMPLETO  SOLTEIRO(A)   \n",
              "\n",
              "                                          ocupacao  \n",
              "0  CORRETOR DE IMÓVEIS, SEGUROS, TÍTULOS E VALORES  "
            ]
          },
          "execution_count": 28,
          "metadata": {},
          "output_type": "execute_result"
        }
      ],
      "source": [
        "X_test.head(1)"
      ]
    },
    {
      "cell_type": "code",
      "execution_count": 29,
      "metadata": {},
      "outputs": [],
      "source": [
        "def validacao_cruzada(modelo, x, y, oversampling=False):\n",
        "    kfold = KFold(n_splits=5)\n",
        "    acuracias_split = []\n",
        "\n",
        "    for idx, (idx_treino, idx_validacao) in enumerate(kfold.split(x)):\n",
        "        x_split_treino = x.iloc[idx_treino, :]\n",
        "        y_split_treino = y.iloc[idx_treino, :]\n",
        "\n",
        "        if oversampling:\n",
        "            sm = SMOTE(random_state=42)\n",
        "            x_split_treino, y_split_treino = sm.fit_resample(x_split_treino, y_split_treino)\n",
        "\n",
        "        modelo.fit(x_split_treino, y_split_treino.values.flatten())\n",
        "\n",
        "        x_split_validacao = x.iloc[idx_validacao, :]\n",
        "        y_split_validacao = y.iloc[idx_validacao, :]\n",
        "\n",
        "        predicoes_validacao = modelo.predict(x_split_validacao)\n",
        "\n",
        "        acuracia_split = accuracy_score(y_split_validacao, predicoes_validacao)\n",
        "\n",
        "        acuracias_split.append(acuracia_split)\n",
        "\n",
        "        print(f'Acurácia do split {idx}: {acuracia_split}')\n",
        "\n",
        "    return acuracias_split"
      ]
    },
    {
      "cell_type": "code",
      "execution_count": 30,
      "metadata": {
        "colab": {
          "base_uri": "https://localhost:8080/"
        },
        "id": "VB89Va6AVnpU",
        "outputId": "5c5e1f95-4548-41f5-ea01-259a598450c8"
      },
      "outputs": [
        {
          "name": "stdout",
          "output_type": "stream",
          "text": [
            "Total de variáveis dummy: 74\n"
          ]
        },
        {
          "data": {
            "text/plain": [
              "['partido_PT',\n",
              " 'partido_PRONA',\n",
              " 'partido_OUTROS',\n",
              " 'partido_PPS',\n",
              " 'partido_PAN',\n",
              " 'partido_PSOL',\n",
              " 'partido_PSTU',\n",
              " 'partido_PSDC',\n",
              " 'partido_PDT',\n",
              " 'partido_PL',\n",
              " 'partido_PFL',\n",
              " 'partido_PP',\n",
              " 'partido_PC do B',\n",
              " 'partido_PRTB',\n",
              " 'partido_PRB',\n",
              " 'partido_PSB',\n",
              " 'partido_PTB',\n",
              " 'partido_PMN',\n",
              " 'partido_PSC',\n",
              " 'partido_PTN',\n",
              " 'partido_PSDB',\n",
              " 'partido_PMDB',\n",
              " 'partido_PV',\n",
              " 'partido_PTC',\n",
              " 'partido_PT do B',\n",
              " 'partido_PHS',\n",
              " 'partido_PRP',\n",
              " 'partido_PSL',\n",
              " 'partido_PR',\n",
              " 'partido_DEM',\n",
              " 'sexo_MASCULINO',\n",
              " 'sexo_FEMININO',\n",
              " 'grau_ENSINO MÉDIO COMPLETO',\n",
              " 'grau_SUPERIOR COMPLETO',\n",
              " 'grau_ENSINO MÉDIO INCOMPLETO',\n",
              " 'grau_ENSINO FUNDAMENTAL COMPLETO',\n",
              " 'grau_SUPERIOR INCOMPLETO',\n",
              " 'grau_ENSINO FUNDAMENTAL INCOMPLETO',\n",
              " 'grau_LÊ E ESCREVE',\n",
              " 'estado_civil_CASADO(A)',\n",
              " 'estado_civil_SOLTEIRO(A)',\n",
              " 'estado_civil_VIÚVO(A)',\n",
              " 'estado_civil_DIVORCIADO(A)',\n",
              " 'estado_civil_SEPARADO(A) JUDICIALMENTE',\n",
              " 'ocupacao_VEREADOR',\n",
              " 'ocupacao_SERVIDOR PÚBLICO ESTADUAL',\n",
              " 'ocupacao_OUTROS',\n",
              " 'ocupacao_MILITAR REFORMADO',\n",
              " 'ocupacao_DEPUTADO',\n",
              " 'ocupacao_ENGENHEIRO',\n",
              " 'ocupacao_SERVIDOR PÚBLICO FEDERAL',\n",
              " 'ocupacao_MÉDICO',\n",
              " 'ocupacao_APOSENTADO (EXCETO SERVIDOR PÚBLICO)',\n",
              " 'ocupacao_ADVOGADO',\n",
              " 'ocupacao_COMERCIANTE',\n",
              " 'ocupacao_PROFESSOR DE ENSINO SUPERIOR',\n",
              " 'ocupacao_SERVIDOR PÚBLICO CIVIL APOSENTADO',\n",
              " 'ocupacao_ADMINISTRADOR',\n",
              " 'ocupacao_ODONTÓLOGO',\n",
              " 'ocupacao_JORNALISTA E REDATOR',\n",
              " 'ocupacao_AGRICULTOR',\n",
              " 'ocupacao_PROFESSOR DE ENSINO MÉDIO',\n",
              " 'ocupacao_EMPRESÁRIO',\n",
              " 'ocupacao_POLICIAL CIVIL',\n",
              " 'ocupacao_ESTUDANTE, BOLSISTA, ESTAGIÁRIO E ASSEMELHADOS',\n",
              " 'ocupacao_SERVIDOR PÚBLICO MUNICIPAL',\n",
              " 'ocupacao_PROFESSOR DE ENSINO FUNDAMENTAL',\n",
              " 'ocupacao_REPRESENTANTE COMERCIAL',\n",
              " 'ocupacao_BANCÁRIO E ECONOMIÁRIO',\n",
              " 'ocupacao_ECONOMISTA',\n",
              " 'ocupacao_POLICIAL MILITAR',\n",
              " 'ocupacao_SACERDOTE OU MEMBRO DE ORDEM OU SEITA RELIGIOSA',\n",
              " 'ocupacao_CONTADOR',\n",
              " 'ocupacao_CORRETOR DE IMÓVEIS, SEGUROS, TÍTULOS E VALORES']"
            ]
          },
          "execution_count": 30,
          "metadata": {},
          "output_type": "execute_result"
        }
      ],
      "source": [
        "onehotencode = OneHotEncoder(X_train[categorical_features], use_cat_names=True)\n",
        "dummies = onehotencode.fit_transform(X_train[categorical_features])\n",
        "lista_dummies = list(onehotencode.get_feature_names())\n",
        "print('Total de variáveis dummy:', len(lista_dummies))\n",
        "lista_dummies"
      ]
    },
    {
      "cell_type": "code",
      "execution_count": 31,
      "metadata": {
        "colab": {
          "base_uri": "https://localhost:8080/",
          "height": 324
        },
        "id": "nvuKpZkPaUVn",
        "outputId": "6246177b-c855-4d57-fae1-ea5d90131be7"
      },
      "outputs": [
        {
          "name": "stdout",
          "output_type": "stream",
          "text": [
            "(7622, 74)\n"
          ]
        },
        {
          "data": {
            "text/html": [
              "<div>\n",
              "<style scoped>\n",
              "    .dataframe tbody tr th:only-of-type {\n",
              "        vertical-align: middle;\n",
              "    }\n",
              "\n",
              "    .dataframe tbody tr th {\n",
              "        vertical-align: top;\n",
              "    }\n",
              "\n",
              "    .dataframe thead th {\n",
              "        text-align: right;\n",
              "    }\n",
              "</style>\n",
              "<table border=\"1\" class=\"dataframe\">\n",
              "  <thead>\n",
              "    <tr style=\"text-align: right;\">\n",
              "      <th></th>\n",
              "      <th>partido_PT</th>\n",
              "      <th>partido_PRONA</th>\n",
              "      <th>partido_OUTROS</th>\n",
              "      <th>partido_PPS</th>\n",
              "      <th>partido_PAN</th>\n",
              "      <th>partido_PSOL</th>\n",
              "      <th>partido_PSTU</th>\n",
              "      <th>partido_PSDC</th>\n",
              "      <th>partido_PDT</th>\n",
              "      <th>partido_PL</th>\n",
              "      <th>...</th>\n",
              "      <th>ocupacao_ESTUDANTE, BOLSISTA, ESTAGIÁRIO E ASSEMELHADOS</th>\n",
              "      <th>ocupacao_SERVIDOR PÚBLICO MUNICIPAL</th>\n",
              "      <th>ocupacao_PROFESSOR DE ENSINO FUNDAMENTAL</th>\n",
              "      <th>ocupacao_REPRESENTANTE COMERCIAL</th>\n",
              "      <th>ocupacao_BANCÁRIO E ECONOMIÁRIO</th>\n",
              "      <th>ocupacao_ECONOMISTA</th>\n",
              "      <th>ocupacao_POLICIAL MILITAR</th>\n",
              "      <th>ocupacao_SACERDOTE OU MEMBRO DE ORDEM OU SEITA RELIGIOSA</th>\n",
              "      <th>ocupacao_CONTADOR</th>\n",
              "      <th>ocupacao_CORRETOR DE IMÓVEIS, SEGUROS, TÍTULOS E VALORES</th>\n",
              "    </tr>\n",
              "  </thead>\n",
              "  <tbody>\n",
              "    <tr>\n",
              "      <th>0</th>\n",
              "      <td>1</td>\n",
              "      <td>0</td>\n",
              "      <td>0</td>\n",
              "      <td>0</td>\n",
              "      <td>0</td>\n",
              "      <td>0</td>\n",
              "      <td>0</td>\n",
              "      <td>0</td>\n",
              "      <td>0</td>\n",
              "      <td>0</td>\n",
              "      <td>...</td>\n",
              "      <td>0</td>\n",
              "      <td>0</td>\n",
              "      <td>0</td>\n",
              "      <td>0</td>\n",
              "      <td>0</td>\n",
              "      <td>0</td>\n",
              "      <td>0</td>\n",
              "      <td>0</td>\n",
              "      <td>0</td>\n",
              "      <td>0</td>\n",
              "    </tr>\n",
              "    <tr>\n",
              "      <th>1</th>\n",
              "      <td>1</td>\n",
              "      <td>0</td>\n",
              "      <td>0</td>\n",
              "      <td>0</td>\n",
              "      <td>0</td>\n",
              "      <td>0</td>\n",
              "      <td>0</td>\n",
              "      <td>0</td>\n",
              "      <td>0</td>\n",
              "      <td>0</td>\n",
              "      <td>...</td>\n",
              "      <td>0</td>\n",
              "      <td>0</td>\n",
              "      <td>0</td>\n",
              "      <td>0</td>\n",
              "      <td>0</td>\n",
              "      <td>0</td>\n",
              "      <td>0</td>\n",
              "      <td>0</td>\n",
              "      <td>0</td>\n",
              "      <td>0</td>\n",
              "    </tr>\n",
              "    <tr>\n",
              "      <th>2</th>\n",
              "      <td>1</td>\n",
              "      <td>0</td>\n",
              "      <td>0</td>\n",
              "      <td>0</td>\n",
              "      <td>0</td>\n",
              "      <td>0</td>\n",
              "      <td>0</td>\n",
              "      <td>0</td>\n",
              "      <td>0</td>\n",
              "      <td>0</td>\n",
              "      <td>...</td>\n",
              "      <td>0</td>\n",
              "      <td>0</td>\n",
              "      <td>0</td>\n",
              "      <td>0</td>\n",
              "      <td>0</td>\n",
              "      <td>0</td>\n",
              "      <td>0</td>\n",
              "      <td>0</td>\n",
              "      <td>0</td>\n",
              "      <td>0</td>\n",
              "    </tr>\n",
              "  </tbody>\n",
              "</table>\n",
              "<p>3 rows × 74 columns</p>\n",
              "</div>"
            ],
            "text/plain": [
              "   partido_PT  partido_PRONA  partido_OUTROS  partido_PPS  partido_PAN  \\\n",
              "0           1              0               0            0            0   \n",
              "1           1              0               0            0            0   \n",
              "2           1              0               0            0            0   \n",
              "\n",
              "   partido_PSOL  partido_PSTU  partido_PSDC  partido_PDT  partido_PL  ...  \\\n",
              "0             0             0             0            0           0  ...   \n",
              "1             0             0             0            0           0  ...   \n",
              "2             0             0             0            0           0  ...   \n",
              "\n",
              "   ocupacao_ESTUDANTE, BOLSISTA, ESTAGIÁRIO E ASSEMELHADOS  \\\n",
              "0                                                  0         \n",
              "1                                                  0         \n",
              "2                                                  0         \n",
              "\n",
              "   ocupacao_SERVIDOR PÚBLICO MUNICIPAL  \\\n",
              "0                                    0   \n",
              "1                                    0   \n",
              "2                                    0   \n",
              "\n",
              "   ocupacao_PROFESSOR DE ENSINO FUNDAMENTAL  ocupacao_REPRESENTANTE COMERCIAL  \\\n",
              "0                                         0                                 0   \n",
              "1                                         0                                 0   \n",
              "2                                         0                                 0   \n",
              "\n",
              "   ocupacao_BANCÁRIO E ECONOMIÁRIO  ocupacao_ECONOMISTA  \\\n",
              "0                                0                    0   \n",
              "1                                0                    0   \n",
              "2                                0                    0   \n",
              "\n",
              "   ocupacao_POLICIAL MILITAR  \\\n",
              "0                          0   \n",
              "1                          0   \n",
              "2                          0   \n",
              "\n",
              "   ocupacao_SACERDOTE OU MEMBRO DE ORDEM OU SEITA RELIGIOSA  \\\n",
              "0                                                  0          \n",
              "1                                                  0          \n",
              "2                                                  0          \n",
              "\n",
              "   ocupacao_CONTADOR  ocupacao_CORRETOR DE IMÓVEIS, SEGUROS, TÍTULOS E VALORES  \n",
              "0                  0                                                  0         \n",
              "1                  0                                                  0         \n",
              "2                  0                                                  0         \n",
              "\n",
              "[3 rows x 74 columns]"
            ]
          },
          "execution_count": 31,
          "metadata": {},
          "output_type": "execute_result"
        }
      ],
      "source": [
        "dummies = pd.DataFrame(dummies, columns = lista_dummies)\n",
        "print(dummies.shape)\n",
        "dummies.head(3)"
      ]
    },
    {
      "cell_type": "code",
      "execution_count": 32,
      "metadata": {
        "colab": {
          "base_uri": "https://localhost:8080/",
          "height": 324
        },
        "id": "PV9iudxoYXUx",
        "outputId": "7b91fac7-8973-498c-e2af-0f7d23122875"
      },
      "outputs": [
        {
          "name": "stdout",
          "output_type": "stream",
          "text": [
            "(7622, 87)\n"
          ]
        },
        {
          "data": {
            "text/html": [
              "<div>\n",
              "<style scoped>\n",
              "    .dataframe tbody tr th:only-of-type {\n",
              "        vertical-align: middle;\n",
              "    }\n",
              "\n",
              "    .dataframe tbody tr th {\n",
              "        vertical-align: top;\n",
              "    }\n",
              "\n",
              "    .dataframe thead th {\n",
              "        text-align: right;\n",
              "    }\n",
              "</style>\n",
              "<table border=\"1\" class=\"dataframe\">\n",
              "  <thead>\n",
              "    <tr style=\"text-align: right;\">\n",
              "      <th></th>\n",
              "      <th>quantidade_doacoes</th>\n",
              "      <th>quantidade_doadores</th>\n",
              "      <th>total_receita</th>\n",
              "      <th>media_receita</th>\n",
              "      <th>recursos_de_outros_candidatos.comites</th>\n",
              "      <th>recursos_de_pessoas_fisicas</th>\n",
              "      <th>recursos_de_pessoas_juridicas</th>\n",
              "      <th>recursos_proprios</th>\n",
              "      <th>recursos_de_partido_politico</th>\n",
              "      <th>quantidade_despesas</th>\n",
              "      <th>...</th>\n",
              "      <th>ocupacao_ESTUDANTE, BOLSISTA, ESTAGIÁRIO E ASSEMELHADOS</th>\n",
              "      <th>ocupacao_SERVIDOR PÚBLICO MUNICIPAL</th>\n",
              "      <th>ocupacao_PROFESSOR DE ENSINO FUNDAMENTAL</th>\n",
              "      <th>ocupacao_REPRESENTANTE COMERCIAL</th>\n",
              "      <th>ocupacao_BANCÁRIO E ECONOMIÁRIO</th>\n",
              "      <th>ocupacao_ECONOMISTA</th>\n",
              "      <th>ocupacao_POLICIAL MILITAR</th>\n",
              "      <th>ocupacao_SACERDOTE OU MEMBRO DE ORDEM OU SEITA RELIGIOSA</th>\n",
              "      <th>ocupacao_CONTADOR</th>\n",
              "      <th>ocupacao_CORRETOR DE IMÓVEIS, SEGUROS, TÍTULOS E VALORES</th>\n",
              "    </tr>\n",
              "  </thead>\n",
              "  <tbody>\n",
              "    <tr>\n",
              "      <th>0</th>\n",
              "      <td>0.153520</td>\n",
              "      <td>0.157133</td>\n",
              "      <td>0.624727</td>\n",
              "      <td>0.603972</td>\n",
              "      <td>0.000000</td>\n",
              "      <td>0.643280</td>\n",
              "      <td>0.584328</td>\n",
              "      <td>0.461896</td>\n",
              "      <td>0.0</td>\n",
              "      <td>0.236756</td>\n",
              "      <td>...</td>\n",
              "      <td>0</td>\n",
              "      <td>0</td>\n",
              "      <td>0</td>\n",
              "      <td>0</td>\n",
              "      <td>0</td>\n",
              "      <td>0</td>\n",
              "      <td>0</td>\n",
              "      <td>0</td>\n",
              "      <td>0</td>\n",
              "      <td>0</td>\n",
              "    </tr>\n",
              "    <tr>\n",
              "      <th>1</th>\n",
              "      <td>0.238463</td>\n",
              "      <td>0.244074</td>\n",
              "      <td>0.645203</td>\n",
              "      <td>0.569339</td>\n",
              "      <td>0.582155</td>\n",
              "      <td>0.679367</td>\n",
              "      <td>0.461450</td>\n",
              "      <td>0.341920</td>\n",
              "      <td>0.0</td>\n",
              "      <td>0.296779</td>\n",
              "      <td>...</td>\n",
              "      <td>0</td>\n",
              "      <td>0</td>\n",
              "      <td>0</td>\n",
              "      <td>0</td>\n",
              "      <td>0</td>\n",
              "      <td>0</td>\n",
              "      <td>0</td>\n",
              "      <td>0</td>\n",
              "      <td>0</td>\n",
              "      <td>0</td>\n",
              "    </tr>\n",
              "    <tr>\n",
              "      <th>2</th>\n",
              "      <td>0.269260</td>\n",
              "      <td>0.268426</td>\n",
              "      <td>0.769633</td>\n",
              "      <td>0.696350</td>\n",
              "      <td>0.510723</td>\n",
              "      <td>0.737490</td>\n",
              "      <td>0.737282</td>\n",
              "      <td>0.708136</td>\n",
              "      <td>0.0</td>\n",
              "      <td>0.484948</td>\n",
              "      <td>...</td>\n",
              "      <td>0</td>\n",
              "      <td>0</td>\n",
              "      <td>0</td>\n",
              "      <td>0</td>\n",
              "      <td>0</td>\n",
              "      <td>0</td>\n",
              "      <td>0</td>\n",
              "      <td>0</td>\n",
              "      <td>0</td>\n",
              "      <td>0</td>\n",
              "    </tr>\n",
              "  </tbody>\n",
              "</table>\n",
              "<p>3 rows × 87 columns</p>\n",
              "</div>"
            ],
            "text/plain": [
              "   quantidade_doacoes  quantidade_doadores  total_receita  media_receita  \\\n",
              "0            0.153520             0.157133       0.624727       0.603972   \n",
              "1            0.238463             0.244074       0.645203       0.569339   \n",
              "2            0.269260             0.268426       0.769633       0.696350   \n",
              "\n",
              "   recursos_de_outros_candidatos.comites  recursos_de_pessoas_fisicas  \\\n",
              "0                               0.000000                     0.643280   \n",
              "1                               0.582155                     0.679367   \n",
              "2                               0.510723                     0.737490   \n",
              "\n",
              "   recursos_de_pessoas_juridicas  recursos_proprios  \\\n",
              "0                       0.584328           0.461896   \n",
              "1                       0.461450           0.341920   \n",
              "2                       0.737282           0.708136   \n",
              "\n",
              "   recursos_de_partido_politico  quantidade_despesas  ...  \\\n",
              "0                           0.0             0.236756  ...   \n",
              "1                           0.0             0.296779  ...   \n",
              "2                           0.0             0.484948  ...   \n",
              "\n",
              "   ocupacao_ESTUDANTE, BOLSISTA, ESTAGIÁRIO E ASSEMELHADOS  \\\n",
              "0                                                  0         \n",
              "1                                                  0         \n",
              "2                                                  0         \n",
              "\n",
              "   ocupacao_SERVIDOR PÚBLICO MUNICIPAL  \\\n",
              "0                                    0   \n",
              "1                                    0   \n",
              "2                                    0   \n",
              "\n",
              "   ocupacao_PROFESSOR DE ENSINO FUNDAMENTAL  ocupacao_REPRESENTANTE COMERCIAL  \\\n",
              "0                                         0                                 0   \n",
              "1                                         0                                 0   \n",
              "2                                         0                                 0   \n",
              "\n",
              "   ocupacao_BANCÁRIO E ECONOMIÁRIO  ocupacao_ECONOMISTA  \\\n",
              "0                                0                    0   \n",
              "1                                0                    0   \n",
              "2                                0                    0   \n",
              "\n",
              "   ocupacao_POLICIAL MILITAR  \\\n",
              "0                          0   \n",
              "1                          0   \n",
              "2                          0   \n",
              "\n",
              "   ocupacao_SACERDOTE OU MEMBRO DE ORDEM OU SEITA RELIGIOSA  \\\n",
              "0                                                  0          \n",
              "1                                                  0          \n",
              "2                                                  0          \n",
              "\n",
              "   ocupacao_CONTADOR  ocupacao_CORRETOR DE IMÓVEIS, SEGUROS, TÍTULOS E VALORES  \n",
              "0                  0                                                  0         \n",
              "1                  0                                                  0         \n",
              "2                  0                                                  0         \n",
              "\n",
              "[3 rows x 87 columns]"
            ]
          },
          "execution_count": 32,
          "metadata": {},
          "output_type": "execute_result"
        }
      ],
      "source": [
        "X_train = pd.concat([X_train[numeric_features], dummies], axis=1)\n",
        "print(X_train.shape)\n",
        "X_train.head(3)"
      ]
    },
    {
      "cell_type": "code",
      "execution_count": 33,
      "metadata": {
        "colab": {
          "base_uri": "https://localhost:8080/"
        },
        "id": "NDOltWmPbnx4",
        "outputId": "742c0ec8-5a6e-4106-cba0-6428515c1db3"
      },
      "outputs": [
        {
          "data": {
            "text/plain": [
              "(4592, 18)"
            ]
          },
          "execution_count": 33,
          "metadata": {},
          "output_type": "execute_result"
        }
      ],
      "source": [
        "X_test.shape"
      ]
    },
    {
      "cell_type": "code",
      "execution_count": 34,
      "metadata": {
        "colab": {
          "base_uri": "https://localhost:8080/",
          "height": 324
        },
        "id": "cORC5zOvbp4-",
        "outputId": "54d439c0-7e56-415e-a996-64d1c7b9494f"
      },
      "outputs": [
        {
          "name": "stdout",
          "output_type": "stream",
          "text": [
            "(4592, 74)\n"
          ]
        },
        {
          "data": {
            "text/html": [
              "<div>\n",
              "<style scoped>\n",
              "    .dataframe tbody tr th:only-of-type {\n",
              "        vertical-align: middle;\n",
              "    }\n",
              "\n",
              "    .dataframe tbody tr th {\n",
              "        vertical-align: top;\n",
              "    }\n",
              "\n",
              "    .dataframe thead th {\n",
              "        text-align: right;\n",
              "    }\n",
              "</style>\n",
              "<table border=\"1\" class=\"dataframe\">\n",
              "  <thead>\n",
              "    <tr style=\"text-align: right;\">\n",
              "      <th></th>\n",
              "      <th>partido_PT</th>\n",
              "      <th>partido_PRONA</th>\n",
              "      <th>partido_OUTROS</th>\n",
              "      <th>partido_PPS</th>\n",
              "      <th>partido_PAN</th>\n",
              "      <th>partido_PSOL</th>\n",
              "      <th>partido_PSTU</th>\n",
              "      <th>partido_PSDC</th>\n",
              "      <th>partido_PDT</th>\n",
              "      <th>partido_PL</th>\n",
              "      <th>...</th>\n",
              "      <th>ocupacao_ESTUDANTE, BOLSISTA, ESTAGIÁRIO E ASSEMELHADOS</th>\n",
              "      <th>ocupacao_SERVIDOR PÚBLICO MUNICIPAL</th>\n",
              "      <th>ocupacao_PROFESSOR DE ENSINO FUNDAMENTAL</th>\n",
              "      <th>ocupacao_REPRESENTANTE COMERCIAL</th>\n",
              "      <th>ocupacao_BANCÁRIO E ECONOMIÁRIO</th>\n",
              "      <th>ocupacao_ECONOMISTA</th>\n",
              "      <th>ocupacao_POLICIAL MILITAR</th>\n",
              "      <th>ocupacao_SACERDOTE OU MEMBRO DE ORDEM OU SEITA RELIGIOSA</th>\n",
              "      <th>ocupacao_CONTADOR</th>\n",
              "      <th>ocupacao_CORRETOR DE IMÓVEIS, SEGUROS, TÍTULOS E VALORES</th>\n",
              "    </tr>\n",
              "  </thead>\n",
              "  <tbody>\n",
              "    <tr>\n",
              "      <th>0</th>\n",
              "      <td>1</td>\n",
              "      <td>0</td>\n",
              "      <td>0</td>\n",
              "      <td>0</td>\n",
              "      <td>0</td>\n",
              "      <td>0</td>\n",
              "      <td>0</td>\n",
              "      <td>0</td>\n",
              "      <td>0</td>\n",
              "      <td>0</td>\n",
              "      <td>...</td>\n",
              "      <td>0</td>\n",
              "      <td>0</td>\n",
              "      <td>0</td>\n",
              "      <td>0</td>\n",
              "      <td>0</td>\n",
              "      <td>0</td>\n",
              "      <td>0</td>\n",
              "      <td>0</td>\n",
              "      <td>0</td>\n",
              "      <td>0</td>\n",
              "    </tr>\n",
              "    <tr>\n",
              "      <th>1</th>\n",
              "      <td>1</td>\n",
              "      <td>0</td>\n",
              "      <td>0</td>\n",
              "      <td>0</td>\n",
              "      <td>0</td>\n",
              "      <td>0</td>\n",
              "      <td>0</td>\n",
              "      <td>0</td>\n",
              "      <td>0</td>\n",
              "      <td>0</td>\n",
              "      <td>...</td>\n",
              "      <td>0</td>\n",
              "      <td>0</td>\n",
              "      <td>0</td>\n",
              "      <td>0</td>\n",
              "      <td>0</td>\n",
              "      <td>0</td>\n",
              "      <td>0</td>\n",
              "      <td>0</td>\n",
              "      <td>0</td>\n",
              "      <td>0</td>\n",
              "    </tr>\n",
              "    <tr>\n",
              "      <th>2</th>\n",
              "      <td>1</td>\n",
              "      <td>0</td>\n",
              "      <td>0</td>\n",
              "      <td>0</td>\n",
              "      <td>0</td>\n",
              "      <td>0</td>\n",
              "      <td>0</td>\n",
              "      <td>0</td>\n",
              "      <td>0</td>\n",
              "      <td>0</td>\n",
              "      <td>...</td>\n",
              "      <td>0</td>\n",
              "      <td>0</td>\n",
              "      <td>0</td>\n",
              "      <td>0</td>\n",
              "      <td>0</td>\n",
              "      <td>0</td>\n",
              "      <td>0</td>\n",
              "      <td>0</td>\n",
              "      <td>0</td>\n",
              "      <td>0</td>\n",
              "    </tr>\n",
              "  </tbody>\n",
              "</table>\n",
              "<p>3 rows × 74 columns</p>\n",
              "</div>"
            ],
            "text/plain": [
              "   partido_PT  partido_PRONA  partido_OUTROS  partido_PPS  partido_PAN  \\\n",
              "0           1              0               0            0            0   \n",
              "1           1              0               0            0            0   \n",
              "2           1              0               0            0            0   \n",
              "\n",
              "   partido_PSOL  partido_PSTU  partido_PSDC  partido_PDT  partido_PL  ...  \\\n",
              "0             0             0             0            0           0  ...   \n",
              "1             0             0             0            0           0  ...   \n",
              "2             0             0             0            0           0  ...   \n",
              "\n",
              "   ocupacao_ESTUDANTE, BOLSISTA, ESTAGIÁRIO E ASSEMELHADOS  \\\n",
              "0                                                  0         \n",
              "1                                                  0         \n",
              "2                                                  0         \n",
              "\n",
              "   ocupacao_SERVIDOR PÚBLICO MUNICIPAL  \\\n",
              "0                                    0   \n",
              "1                                    0   \n",
              "2                                    0   \n",
              "\n",
              "   ocupacao_PROFESSOR DE ENSINO FUNDAMENTAL  ocupacao_REPRESENTANTE COMERCIAL  \\\n",
              "0                                         0                                 0   \n",
              "1                                         0                                 0   \n",
              "2                                         0                                 0   \n",
              "\n",
              "   ocupacao_BANCÁRIO E ECONOMIÁRIO  ocupacao_ECONOMISTA  \\\n",
              "0                                0                    0   \n",
              "1                                0                    0   \n",
              "2                                0                    0   \n",
              "\n",
              "   ocupacao_POLICIAL MILITAR  \\\n",
              "0                          0   \n",
              "1                          0   \n",
              "2                          0   \n",
              "\n",
              "   ocupacao_SACERDOTE OU MEMBRO DE ORDEM OU SEITA RELIGIOSA  \\\n",
              "0                                                  0          \n",
              "1                                                  0          \n",
              "2                                                  0          \n",
              "\n",
              "   ocupacao_CONTADOR  ocupacao_CORRETOR DE IMÓVEIS, SEGUROS, TÍTULOS E VALORES  \n",
              "0                  0                                                  0         \n",
              "1                  0                                                  0         \n",
              "2                  0                                                  0         \n",
              "\n",
              "[3 rows x 74 columns]"
            ]
          },
          "execution_count": 34,
          "metadata": {},
          "output_type": "execute_result"
        }
      ],
      "source": [
        "dummies_test = onehotencode.transform(X_test[categorical_features])\n",
        "dummies_test = pd.DataFrame(dummies_test, columns = lista_dummies)\n",
        "print(dummies_test.shape)\n",
        "dummies.head(3)"
      ]
    },
    {
      "cell_type": "code",
      "execution_count": 35,
      "metadata": {
        "colab": {
          "base_uri": "https://localhost:8080/",
          "height": 324
        },
        "id": "55eALBTjcFsi",
        "outputId": "a7248299-0d3f-4eb5-ffbd-106bb5492709"
      },
      "outputs": [
        {
          "name": "stdout",
          "output_type": "stream",
          "text": [
            "(4592, 87)\n"
          ]
        },
        {
          "data": {
            "text/html": [
              "<div>\n",
              "<style scoped>\n",
              "    .dataframe tbody tr th:only-of-type {\n",
              "        vertical-align: middle;\n",
              "    }\n",
              "\n",
              "    .dataframe tbody tr th {\n",
              "        vertical-align: top;\n",
              "    }\n",
              "\n",
              "    .dataframe thead th {\n",
              "        text-align: right;\n",
              "    }\n",
              "</style>\n",
              "<table border=\"1\" class=\"dataframe\">\n",
              "  <thead>\n",
              "    <tr style=\"text-align: right;\">\n",
              "      <th></th>\n",
              "      <th>quantidade_doacoes</th>\n",
              "      <th>quantidade_doadores</th>\n",
              "      <th>total_receita</th>\n",
              "      <th>media_receita</th>\n",
              "      <th>recursos_de_outros_candidatos.comites</th>\n",
              "      <th>recursos_de_pessoas_fisicas</th>\n",
              "      <th>recursos_de_pessoas_juridicas</th>\n",
              "      <th>recursos_proprios</th>\n",
              "      <th>recursos_de_partido_politico</th>\n",
              "      <th>quantidade_despesas</th>\n",
              "      <th>...</th>\n",
              "      <th>ocupacao_ESTUDANTE, BOLSISTA, ESTAGIÁRIO E ASSEMELHADOS</th>\n",
              "      <th>ocupacao_SERVIDOR PÚBLICO MUNICIPAL</th>\n",
              "      <th>ocupacao_PROFESSOR DE ENSINO FUNDAMENTAL</th>\n",
              "      <th>ocupacao_REPRESENTANTE COMERCIAL</th>\n",
              "      <th>ocupacao_BANCÁRIO E ECONOMIÁRIO</th>\n",
              "      <th>ocupacao_ECONOMISTA</th>\n",
              "      <th>ocupacao_POLICIAL MILITAR</th>\n",
              "      <th>ocupacao_SACERDOTE OU MEMBRO DE ORDEM OU SEITA RELIGIOSA</th>\n",
              "      <th>ocupacao_CONTADOR</th>\n",
              "      <th>ocupacao_CORRETOR DE IMÓVEIS, SEGUROS, TÍTULOS E VALORES</th>\n",
              "    </tr>\n",
              "  </thead>\n",
              "  <tbody>\n",
              "    <tr>\n",
              "      <th>0</th>\n",
              "      <td>0.118765</td>\n",
              "      <td>0.125674</td>\n",
              "      <td>0.463585</td>\n",
              "      <td>0.494318</td>\n",
              "      <td>0.00000</td>\n",
              "      <td>0.507273</td>\n",
              "      <td>0.00000</td>\n",
              "      <td>0.000000</td>\n",
              "      <td>0.282272</td>\n",
              "      <td>0.085859</td>\n",
              "      <td>...</td>\n",
              "      <td>0</td>\n",
              "      <td>0</td>\n",
              "      <td>0</td>\n",
              "      <td>0</td>\n",
              "      <td>0</td>\n",
              "      <td>0</td>\n",
              "      <td>0</td>\n",
              "      <td>0</td>\n",
              "      <td>0</td>\n",
              "      <td>1</td>\n",
              "    </tr>\n",
              "    <tr>\n",
              "      <th>1</th>\n",
              "      <td>0.188239</td>\n",
              "      <td>0.199188</td>\n",
              "      <td>0.508384</td>\n",
              "      <td>0.509484</td>\n",
              "      <td>0.00000</td>\n",
              "      <td>0.557598</td>\n",
              "      <td>0.00000</td>\n",
              "      <td>0.000000</td>\n",
              "      <td>0.282272</td>\n",
              "      <td>0.155178</td>\n",
              "      <td>...</td>\n",
              "      <td>0</td>\n",
              "      <td>0</td>\n",
              "      <td>0</td>\n",
              "      <td>0</td>\n",
              "      <td>0</td>\n",
              "      <td>0</td>\n",
              "      <td>0</td>\n",
              "      <td>0</td>\n",
              "      <td>0</td>\n",
              "      <td>0</td>\n",
              "    </tr>\n",
              "    <tr>\n",
              "      <th>2</th>\n",
              "      <td>0.517526</td>\n",
              "      <td>0.538563</td>\n",
              "      <td>0.807129</td>\n",
              "      <td>0.717417</td>\n",
              "      <td>0.52768</td>\n",
              "      <td>0.769373</td>\n",
              "      <td>0.78809</td>\n",
              "      <td>0.775677</td>\n",
              "      <td>0.000000</td>\n",
              "      <td>0.531452</td>\n",
              "      <td>...</td>\n",
              "      <td>0</td>\n",
              "      <td>0</td>\n",
              "      <td>0</td>\n",
              "      <td>0</td>\n",
              "      <td>0</td>\n",
              "      <td>0</td>\n",
              "      <td>0</td>\n",
              "      <td>0</td>\n",
              "      <td>0</td>\n",
              "      <td>0</td>\n",
              "    </tr>\n",
              "  </tbody>\n",
              "</table>\n",
              "<p>3 rows × 87 columns</p>\n",
              "</div>"
            ],
            "text/plain": [
              "   quantidade_doacoes  quantidade_doadores  total_receita  media_receita  \\\n",
              "0            0.118765             0.125674       0.463585       0.494318   \n",
              "1            0.188239             0.199188       0.508384       0.509484   \n",
              "2            0.517526             0.538563       0.807129       0.717417   \n",
              "\n",
              "   recursos_de_outros_candidatos.comites  recursos_de_pessoas_fisicas  \\\n",
              "0                                0.00000                     0.507273   \n",
              "1                                0.00000                     0.557598   \n",
              "2                                0.52768                     0.769373   \n",
              "\n",
              "   recursos_de_pessoas_juridicas  recursos_proprios  \\\n",
              "0                        0.00000           0.000000   \n",
              "1                        0.00000           0.000000   \n",
              "2                        0.78809           0.775677   \n",
              "\n",
              "   recursos_de_partido_politico  quantidade_despesas  ...  \\\n",
              "0                      0.282272             0.085859  ...   \n",
              "1                      0.282272             0.155178  ...   \n",
              "2                      0.000000             0.531452  ...   \n",
              "\n",
              "   ocupacao_ESTUDANTE, BOLSISTA, ESTAGIÁRIO E ASSEMELHADOS  \\\n",
              "0                                                  0         \n",
              "1                                                  0         \n",
              "2                                                  0         \n",
              "\n",
              "   ocupacao_SERVIDOR PÚBLICO MUNICIPAL  \\\n",
              "0                                    0   \n",
              "1                                    0   \n",
              "2                                    0   \n",
              "\n",
              "   ocupacao_PROFESSOR DE ENSINO FUNDAMENTAL  ocupacao_REPRESENTANTE COMERCIAL  \\\n",
              "0                                         0                                 0   \n",
              "1                                         0                                 0   \n",
              "2                                         0                                 0   \n",
              "\n",
              "   ocupacao_BANCÁRIO E ECONOMIÁRIO  ocupacao_ECONOMISTA  \\\n",
              "0                                0                    0   \n",
              "1                                0                    0   \n",
              "2                                0                    0   \n",
              "\n",
              "   ocupacao_POLICIAL MILITAR  \\\n",
              "0                          0   \n",
              "1                          0   \n",
              "2                          0   \n",
              "\n",
              "   ocupacao_SACERDOTE OU MEMBRO DE ORDEM OU SEITA RELIGIOSA  \\\n",
              "0                                                  0          \n",
              "1                                                  0          \n",
              "2                                                  0          \n",
              "\n",
              "   ocupacao_CONTADOR  ocupacao_CORRETOR DE IMÓVEIS, SEGUROS, TÍTULOS E VALORES  \n",
              "0                  0                                                  1         \n",
              "1                  0                                                  0         \n",
              "2                  0                                                  0         \n",
              "\n",
              "[3 rows x 87 columns]"
            ]
          },
          "execution_count": 35,
          "metadata": {},
          "output_type": "execute_result"
        }
      ],
      "source": [
        "X_test = pd.concat([X_test[numeric_features], dummies_test], axis=1)\n",
        "print(X_test.shape)\n",
        "X_test.head(3)"
      ]
    },
    {
      "cell_type": "code",
      "execution_count": 36,
      "metadata": {
        "colab": {
          "base_uri": "https://localhost:8080/"
        },
        "id": "psUsNzpjdjMa",
        "outputId": "014c52aa-f113-416c-c8d3-caab9ddf02e1"
      },
      "outputs": [
        {
          "data": {
            "text/plain": [
              "['quantidade_doacoes',\n",
              " 'quantidade_doadores',\n",
              " 'total_receita',\n",
              " 'media_receita',\n",
              " 'recursos_de_outros_candidatos.comites',\n",
              " 'recursos_de_pessoas_fisicas',\n",
              " 'recursos_de_pessoas_juridicas',\n",
              " 'recursos_proprios',\n",
              " 'recursos_de_partido_politico',\n",
              " 'quantidade_despesas',\n",
              " 'quantidade_fornecedores',\n",
              " 'total_despesa',\n",
              " 'media_despesa',\n",
              " 'partido_PT',\n",
              " 'partido_PRONA',\n",
              " 'partido_OUTROS',\n",
              " 'partido_PPS',\n",
              " 'partido_PAN',\n",
              " 'partido_PSOL',\n",
              " 'partido_PSTU',\n",
              " 'partido_PSDC',\n",
              " 'partido_PDT',\n",
              " 'partido_PL',\n",
              " 'partido_PFL',\n",
              " 'partido_PP',\n",
              " 'partido_PC do B',\n",
              " 'partido_PRTB',\n",
              " 'partido_PRB',\n",
              " 'partido_PSB',\n",
              " 'partido_PTB',\n",
              " 'partido_PMN',\n",
              " 'partido_PSC',\n",
              " 'partido_PTN',\n",
              " 'partido_PSDB',\n",
              " 'partido_PMDB',\n",
              " 'partido_PV',\n",
              " 'partido_PTC',\n",
              " 'partido_PT do B',\n",
              " 'partido_PHS',\n",
              " 'partido_PRP',\n",
              " 'partido_PSL',\n",
              " 'partido_PR',\n",
              " 'partido_DEM',\n",
              " 'sexo_MASCULINO',\n",
              " 'sexo_FEMININO',\n",
              " 'grau_ENSINO MÉDIO COMPLETO',\n",
              " 'grau_SUPERIOR COMPLETO',\n",
              " 'grau_ENSINO MÉDIO INCOMPLETO',\n",
              " 'grau_ENSINO FUNDAMENTAL COMPLETO',\n",
              " 'grau_SUPERIOR INCOMPLETO',\n",
              " 'grau_ENSINO FUNDAMENTAL INCOMPLETO',\n",
              " 'grau_LÊ E ESCREVE',\n",
              " 'estado_civil_CASADO(A)',\n",
              " 'estado_civil_SOLTEIRO(A)',\n",
              " 'estado_civil_VIÚVO(A)',\n",
              " 'estado_civil_DIVORCIADO(A)',\n",
              " 'estado_civil_SEPARADO(A) JUDICIALMENTE',\n",
              " 'ocupacao_VEREADOR',\n",
              " 'ocupacao_SERVIDOR PÚBLICO ESTADUAL',\n",
              " 'ocupacao_OUTROS',\n",
              " 'ocupacao_MILITAR REFORMADO',\n",
              " 'ocupacao_DEPUTADO',\n",
              " 'ocupacao_ENGENHEIRO',\n",
              " 'ocupacao_SERVIDOR PÚBLICO FEDERAL',\n",
              " 'ocupacao_MÉDICO',\n",
              " 'ocupacao_APOSENTADO (EXCETO SERVIDOR PÚBLICO)',\n",
              " 'ocupacao_ADVOGADO',\n",
              " 'ocupacao_COMERCIANTE',\n",
              " 'ocupacao_PROFESSOR DE ENSINO SUPERIOR',\n",
              " 'ocupacao_SERVIDOR PÚBLICO CIVIL APOSENTADO',\n",
              " 'ocupacao_ADMINISTRADOR',\n",
              " 'ocupacao_ODONTÓLOGO',\n",
              " 'ocupacao_JORNALISTA E REDATOR',\n",
              " 'ocupacao_AGRICULTOR',\n",
              " 'ocupacao_PROFESSOR DE ENSINO MÉDIO',\n",
              " 'ocupacao_EMPRESÁRIO',\n",
              " 'ocupacao_POLICIAL CIVIL',\n",
              " 'ocupacao_ESTUDANTE, BOLSISTA, ESTAGIÁRIO E ASSEMELHADOS',\n",
              " 'ocupacao_SERVIDOR PÚBLICO MUNICIPAL',\n",
              " 'ocupacao_PROFESSOR DE ENSINO FUNDAMENTAL',\n",
              " 'ocupacao_REPRESENTANTE COMERCIAL',\n",
              " 'ocupacao_BANCÁRIO E ECONOMIÁRIO',\n",
              " 'ocupacao_ECONOMISTA',\n",
              " 'ocupacao_POLICIAL MILITAR',\n",
              " 'ocupacao_SACERDOTE OU MEMBRO DE ORDEM OU SEITA RELIGIOSA',\n",
              " 'ocupacao_CONTADOR',\n",
              " 'ocupacao_CORRETOR DE IMÓVEIS, SEGUROS, TÍTULOS E VALORES']"
            ]
          },
          "execution_count": 36,
          "metadata": {},
          "output_type": "execute_result"
        }
      ],
      "source": [
        "features = list(X_train.dtypes.index)\n",
        "features"
      ]
    },
    {
      "cell_type": "markdown",
      "metadata": {
        "id": "SxZsBVUc5GEw"
      },
      "source": [
        "#### 2. Treine: um modelo de regressão logística, uma árvore de decisão, um modelo de adaboost, um modelo de random forest e um modelo de gradient boosting. Tune esses modelos usando validação cruzada e controle overfitting se necessário, considerando as particularidades de cada modelo.  (10 pts.)"
      ]
    },
    {
      "cell_type": "markdown",
      "metadata": {},
      "source": [
        "#### 3. Reporte precision, recall e f-measure no treino e validação. Há uma grande diferença de desempenho no treino/validação? Como você avalia os resultados? Justifique sua resposta. (10 pt.)"
      ]
    },
    {
      "cell_type": "markdown",
      "metadata": {},
      "source": [
        "#### 4. Interprete as saídas dos modelos. Quais atributos parecem ser mais importantes de acordo com cada modelo? (10 pts.)"
      ]
    },
    {
      "cell_type": "code",
      "execution_count": 37,
      "metadata": {
        "colab": {
          "base_uri": "https://localhost:8080/"
        },
        "id": "hPIOwR5gdssx",
        "outputId": "d258975d-3dd6-4bfc-97fb-2cab37c8ab64"
      },
      "outputs": [
        {
          "name": "stdout",
          "output_type": "stream",
          "text": [
            "X_train.shape = (6478, 87)\n",
            "y_train.shape = (6478,)\n",
            "X_test.shape = (1144, 87)\n",
            "y_test.shape = (1144,)\n"
          ]
        }
      ],
      "source": [
        "#Particionamento do conjunto de treino em treino e validação\n",
        "X_train, X_test, y_train, y_test = train_test_split(X_train, y_train, test_size=0.15, random_state=1)\n",
        "print('X_train.shape =', X_train.shape)\n",
        "print('y_train.shape =', y_train.shape)\n",
        "print('X_test.shape =', X_test.shape)\n",
        "print('y_test.shape =', y_test.shape)"
      ]
    },
    {
      "cell_type": "markdown",
      "metadata": {},
      "source": [
        "#### Random Forest"
      ]
    },
    {
      "cell_type": "code",
      "execution_count": 38,
      "metadata": {},
      "outputs": [
        {
          "data": {
            "text/html": [
              "<style>#sk-container-id-1 {color: black;background-color: white;}#sk-container-id-1 pre{padding: 0;}#sk-container-id-1 div.sk-toggleable {background-color: white;}#sk-container-id-1 label.sk-toggleable__label {cursor: pointer;display: block;width: 100%;margin-bottom: 0;padding: 0.3em;box-sizing: border-box;text-align: center;}#sk-container-id-1 label.sk-toggleable__label-arrow:before {content: \"▸\";float: left;margin-right: 0.25em;color: #696969;}#sk-container-id-1 label.sk-toggleable__label-arrow:hover:before {color: black;}#sk-container-id-1 div.sk-estimator:hover label.sk-toggleable__label-arrow:before {color: black;}#sk-container-id-1 div.sk-toggleable__content {max-height: 0;max-width: 0;overflow: hidden;text-align: left;background-color: #f0f8ff;}#sk-container-id-1 div.sk-toggleable__content pre {margin: 0.2em;color: black;border-radius: 0.25em;background-color: #f0f8ff;}#sk-container-id-1 input.sk-toggleable__control:checked~div.sk-toggleable__content {max-height: 200px;max-width: 100%;overflow: auto;}#sk-container-id-1 input.sk-toggleable__control:checked~label.sk-toggleable__label-arrow:before {content: \"▾\";}#sk-container-id-1 div.sk-estimator input.sk-toggleable__control:checked~label.sk-toggleable__label {background-color: #d4ebff;}#sk-container-id-1 div.sk-label input.sk-toggleable__control:checked~label.sk-toggleable__label {background-color: #d4ebff;}#sk-container-id-1 input.sk-hidden--visually {border: 0;clip: rect(1px 1px 1px 1px);clip: rect(1px, 1px, 1px, 1px);height: 1px;margin: -1px;overflow: hidden;padding: 0;position: absolute;width: 1px;}#sk-container-id-1 div.sk-estimator {font-family: monospace;background-color: #f0f8ff;border: 1px dotted black;border-radius: 0.25em;box-sizing: border-box;margin-bottom: 0.5em;}#sk-container-id-1 div.sk-estimator:hover {background-color: #d4ebff;}#sk-container-id-1 div.sk-parallel-item::after {content: \"\";width: 100%;border-bottom: 1px solid gray;flex-grow: 1;}#sk-container-id-1 div.sk-label:hover label.sk-toggleable__label {background-color: #d4ebff;}#sk-container-id-1 div.sk-serial::before {content: \"\";position: absolute;border-left: 1px solid gray;box-sizing: border-box;top: 0;bottom: 0;left: 50%;z-index: 0;}#sk-container-id-1 div.sk-serial {display: flex;flex-direction: column;align-items: center;background-color: white;padding-right: 0.2em;padding-left: 0.2em;position: relative;}#sk-container-id-1 div.sk-item {position: relative;z-index: 1;}#sk-container-id-1 div.sk-parallel {display: flex;align-items: stretch;justify-content: center;background-color: white;position: relative;}#sk-container-id-1 div.sk-item::before, #sk-container-id-1 div.sk-parallel-item::before {content: \"\";position: absolute;border-left: 1px solid gray;box-sizing: border-box;top: 0;bottom: 0;left: 50%;z-index: -1;}#sk-container-id-1 div.sk-parallel-item {display: flex;flex-direction: column;z-index: 1;position: relative;background-color: white;}#sk-container-id-1 div.sk-parallel-item:first-child::after {align-self: flex-end;width: 50%;}#sk-container-id-1 div.sk-parallel-item:last-child::after {align-self: flex-start;width: 50%;}#sk-container-id-1 div.sk-parallel-item:only-child::after {width: 0;}#sk-container-id-1 div.sk-dashed-wrapped {border: 1px dashed gray;margin: 0 0.4em 0.5em 0.4em;box-sizing: border-box;padding-bottom: 0.4em;background-color: white;}#sk-container-id-1 div.sk-label label {font-family: monospace;font-weight: bold;display: inline-block;line-height: 1.2em;}#sk-container-id-1 div.sk-label-container {text-align: center;}#sk-container-id-1 div.sk-container {/* jupyter's `normalize.less` sets `[hidden] { display: none; }` but bootstrap.min.css set `[hidden] { display: none !important; }` so we also need the `!important` here to be able to override the default hidden behavior on the sphinx rendered scikit-learn.org. See: https://github.com/scikit-learn/scikit-learn/issues/21755 */display: inline-block !important;position: relative;}#sk-container-id-1 div.sk-text-repr-fallback {display: none;}</style><div id=\"sk-container-id-1\" class=\"sk-top-container\"><div class=\"sk-text-repr-fallback\"><pre>RandomForestClassifier(n_jobs=6, random_state=22)</pre><b>In a Jupyter environment, please rerun this cell to show the HTML representation or trust the notebook. <br />On GitHub, the HTML representation is unable to render, please try loading this page with nbviewer.org.</b></div><div class=\"sk-container\" hidden><div class=\"sk-item\"><div class=\"sk-estimator sk-toggleable\"><input class=\"sk-toggleable__control sk-hidden--visually\" id=\"sk-estimator-id-1\" type=\"checkbox\" checked><label for=\"sk-estimator-id-1\" class=\"sk-toggleable__label sk-toggleable__label-arrow\">RandomForestClassifier</label><div class=\"sk-toggleable__content\"><pre>RandomForestClassifier(n_jobs=6, random_state=22)</pre></div></div></div></div></div>"
            ],
            "text/plain": [
              "RandomForestClassifier(n_jobs=6, random_state=22)"
            ]
          },
          "execution_count": 38,
          "metadata": {},
          "output_type": "execute_result"
        }
      ],
      "source": [
        "mdl = RandomForestClassifier(n_jobs=6, n_estimators=100, random_state=22)\n",
        "mdl.fit(X_train, y_train)"
      ]
    },
    {
      "cell_type": "code",
      "execution_count": 39,
      "metadata": {},
      "outputs": [],
      "source": [
        "predict_ohe = mdl.predict(X_test)"
      ]
    },
    {
      "cell_type": "code",
      "execution_count": 40,
      "metadata": {},
      "outputs": [
        {
          "data": {
            "text/plain": [
              "0.08653846153846154"
            ]
          },
          "execution_count": 40,
          "metadata": {},
          "output_type": "execute_result"
        }
      ],
      "source": [
        "from sklearn.metrics import mean_absolute_error\n",
        "mean_absolute_error(y_test, predict_ohe)"
      ]
    },
    {
      "cell_type": "code",
      "execution_count": 41,
      "metadata": {},
      "outputs": [
        {
          "name": "stdout",
          "output_type": "stream",
          "text": [
            "Acurácia da Árvore de Decisão: 91.346%\n"
          ]
        }
      ],
      "source": [
        "predict_random_forest = mdl.predict(X_test)\n",
        "accuracy = accuracy_score(y_test, predict_random_forest)\n",
        "print('Acurácia da Árvore de Decisão: %.3f%%' % (accuracy * 100))"
      ]
    },
    {
      "cell_type": "code",
      "execution_count": 42,
      "metadata": {},
      "outputs": [
        {
          "name": "stdout",
          "output_type": "stream",
          "text": [
            "              precision    recall  f1-score   support\n",
            "\n",
            "           0       0.95      0.96      0.95       993\n",
            "           1       0.69      0.64      0.66       151\n",
            "\n",
            "    accuracy                           0.91      1144\n",
            "   macro avg       0.82      0.80      0.81      1144\n",
            "weighted avg       0.91      0.91      0.91      1144\n",
            "\n"
          ]
        }
      ],
      "source": [
        "print(classification_report(y_test, predict_random_forest))"
      ]
    },
    {
      "cell_type": "code",
      "execution_count": 63,
      "metadata": {},
      "outputs": [
        {
          "data": {
            "text/plain": [
              "Text(0.5, 1.0, 'Coeficientes Random Forests')"
            ]
          },
          "execution_count": 63,
          "metadata": {},
          "output_type": "execute_result"
        },
        {
          "data": {
            "image/png": "[encoded data removed]",
            "text/plain": [
              "<Figure size 640x480 with 1 Axes>"
            ]
          },
          "metadata": {},
          "output_type": "display_data"
        }
      ],
      "source": [
        "rf_coef =  pd.Series(mdl.feature_importances_, index=X_train.columns)\n",
        "rf_imp_coef = pd.concat([rf_coef.sort_values().tail(5)])\n",
        "rf_imp_coef.plot(kind = \"barh\")\n",
        "plt.title(\"Coeficientes Random Forests\")"
      ]
    },
    {
      "cell_type": "markdown",
      "metadata": {},
      "source": [
        "#### Decision Tree"
      ]
    },
    {
      "cell_type": "code",
      "execution_count": 43,
      "metadata": {},
      "outputs": [
        {
          "data": {
            "text/html": [
              "<style>#sk-container-id-2 {color: black;background-color: white;}#sk-container-id-2 pre{padding: 0;}#sk-container-id-2 div.sk-toggleable {background-color: white;}#sk-container-id-2 label.sk-toggleable__label {cursor: pointer;display: block;width: 100%;margin-bottom: 0;padding: 0.3em;box-sizing: border-box;text-align: center;}#sk-container-id-2 label.sk-toggleable__label-arrow:before {content: \"▸\";float: left;margin-right: 0.25em;color: #696969;}#sk-container-id-2 label.sk-toggleable__label-arrow:hover:before {color: black;}#sk-container-id-2 div.sk-estimator:hover label.sk-toggleable__label-arrow:before {color: black;}#sk-container-id-2 div.sk-toggleable__content {max-height: 0;max-width: 0;overflow: hidden;text-align: left;background-color: #f0f8ff;}#sk-container-id-2 div.sk-toggleable__content pre {margin: 0.2em;color: black;border-radius: 0.25em;background-color: #f0f8ff;}#sk-container-id-2 input.sk-toggleable__control:checked~div.sk-toggleable__content {max-height: 200px;max-width: 100%;overflow: auto;}#sk-container-id-2 input.sk-toggleable__control:checked~label.sk-toggleable__label-arrow:before {content: \"▾\";}#sk-container-id-2 div.sk-estimator input.sk-toggleable__control:checked~label.sk-toggleable__label {background-color: #d4ebff;}#sk-container-id-2 div.sk-label input.sk-toggleable__control:checked~label.sk-toggleable__label {background-color: #d4ebff;}#sk-container-id-2 input.sk-hidden--visually {border: 0;clip: rect(1px 1px 1px 1px);clip: rect(1px, 1px, 1px, 1px);height: 1px;margin: -1px;overflow: hidden;padding: 0;position: absolute;width: 1px;}#sk-container-id-2 div.sk-estimator {font-family: monospace;background-color: #f0f8ff;border: 1px dotted black;border-radius: 0.25em;box-sizing: border-box;margin-bottom: 0.5em;}#sk-container-id-2 div.sk-estimator:hover {background-color: #d4ebff;}#sk-container-id-2 div.sk-parallel-item::after {content: \"\";width: 100%;border-bottom: 1px solid gray;flex-grow: 1;}#sk-container-id-2 div.sk-label:hover label.sk-toggleable__label {background-color: #d4ebff;}#sk-container-id-2 div.sk-serial::before {content: \"\";position: absolute;border-left: 1px solid gray;box-sizing: border-box;top: 0;bottom: 0;left: 50%;z-index: 0;}#sk-container-id-2 div.sk-serial {display: flex;flex-direction: column;align-items: center;background-color: white;padding-right: 0.2em;padding-left: 0.2em;position: relative;}#sk-container-id-2 div.sk-item {position: relative;z-index: 1;}#sk-container-id-2 div.sk-parallel {display: flex;align-items: stretch;justify-content: center;background-color: white;position: relative;}#sk-container-id-2 div.sk-item::before, #sk-container-id-2 div.sk-parallel-item::before {content: \"\";position: absolute;border-left: 1px solid gray;box-sizing: border-box;top: 0;bottom: 0;left: 50%;z-index: -1;}#sk-container-id-2 div.sk-parallel-item {display: flex;flex-direction: column;z-index: 1;position: relative;background-color: white;}#sk-container-id-2 div.sk-parallel-item:first-child::after {align-self: flex-end;width: 50%;}#sk-container-id-2 div.sk-parallel-item:last-child::after {align-self: flex-start;width: 50%;}#sk-container-id-2 div.sk-parallel-item:only-child::after {width: 0;}#sk-container-id-2 div.sk-dashed-wrapped {border: 1px dashed gray;margin: 0 0.4em 0.5em 0.4em;box-sizing: border-box;padding-bottom: 0.4em;background-color: white;}#sk-container-id-2 div.sk-label label {font-family: monospace;font-weight: bold;display: inline-block;line-height: 1.2em;}#sk-container-id-2 div.sk-label-container {text-align: center;}#sk-container-id-2 div.sk-container {/* jupyter's `normalize.less` sets `[hidden] { display: none; }` but bootstrap.min.css set `[hidden] { display: none !important; }` so we also need the `!important` here to be able to override the default hidden behavior on the sphinx rendered scikit-learn.org. See: https://github.com/scikit-learn/scikit-learn/issues/21755 */display: inline-block !important;position: relative;}#sk-container-id-2 div.sk-text-repr-fallback {display: none;}</style><div id=\"sk-container-id-2\" class=\"sk-top-container\"><div class=\"sk-text-repr-fallback\"><pre>DecisionTreeClassifier(max_depth=4, min_samples_leaf=0.16, random_state=42)</pre><b>In a Jupyter environment, please rerun this cell to show the HTML representation or trust the notebook. <br />On GitHub, the HTML representation is unable to render, please try loading this page with nbviewer.org.</b></div><div class=\"sk-container\" hidden><div class=\"sk-item\"><div class=\"sk-estimator sk-toggleable\"><input class=\"sk-toggleable__control sk-hidden--visually\" id=\"sk-estimator-id-2\" type=\"checkbox\" checked><label for=\"sk-estimator-id-2\" class=\"sk-toggleable__label sk-toggleable__label-arrow\">DecisionTreeClassifier</label><div class=\"sk-toggleable__content\"><pre>DecisionTreeClassifier(max_depth=4, min_samples_leaf=0.16, random_state=42)</pre></div></div></div></div></div>"
            ],
            "text/plain": [
              "DecisionTreeClassifier(max_depth=4, min_samples_leaf=0.16, random_state=42)"
            ]
          },
          "execution_count": 43,
          "metadata": {},
          "output_type": "execute_result"
        }
      ],
      "source": [
        "decision_tree = DecisionTreeClassifier(max_depth=4, min_samples_leaf=0.16, random_state=42)\n",
        "decision_tree.fit(X_train, y_train)"
      ]
    },
    {
      "cell_type": "code",
      "execution_count": 44,
      "metadata": {},
      "outputs": [
        {
          "data": {
            "text/plain": [
              "0.08653846153846154"
            ]
          },
          "execution_count": 44,
          "metadata": {},
          "output_type": "execute_result"
        }
      ],
      "source": [
        "mean_absolute_error(y_test, predict_ohe)"
      ]
    },
    {
      "cell_type": "markdown",
      "metadata": {},
      "source": [
        "#### Acurácia da Árvore de Decisão"
      ]
    },
    {
      "cell_type": "code",
      "execution_count": 45,
      "metadata": {},
      "outputs": [
        {
          "name": "stdout",
          "output_type": "stream",
          "text": [
            "Acurácia da Árvore de Decisão: 90.647%\n"
          ]
        }
      ],
      "source": [
        "predict_tree = decision_tree.predict(X_test)\n",
        "accuracy = accuracy_score(y_test, predict_tree)\n",
        "print('Acurácia da Árvore de Decisão: %.3f%%' % (accuracy * 100))"
      ]
    },
    {
      "cell_type": "code",
      "execution_count": 46,
      "metadata": {},
      "outputs": [
        {
          "name": "stdout",
          "output_type": "stream",
          "text": [
            "              precision    recall  f1-score   support\n",
            "\n",
            "           0       0.97      0.92      0.94       993\n",
            "           1       0.61      0.82      0.70       151\n",
            "\n",
            "    accuracy                           0.91      1144\n",
            "   macro avg       0.79      0.87      0.82      1144\n",
            "weighted avg       0.92      0.91      0.91      1144\n",
            "\n"
          ]
        }
      ],
      "source": [
        "print(classification_report(y_test, predict_tree))"
      ]
    },
    {
      "cell_type": "code",
      "execution_count": 47,
      "metadata": {},
      "outputs": [
        {
          "data": {
            "image/svg+xml": "<?xml version=\"1.0\" encoding=\"UTF-8\" standalone=\"no\"?>\n<!DOCTYPE svg PUBLIC \"-//W3C//DTD SVG 1.1//EN\"\n \"http://www.w3.org/Graphics/SVG/1.1/DTD/svg11.dtd\">\n<!-- Generated by graphviz version 6.0.2 (20221011.1828)\n -->\n<!-- Title: Tree Pages: 1 -->\n<svg width=\"456pt\" height=\"433pt\"\n viewBox=\"0.00 0.00 455.50 433.00\" xmlns=\"http://www.w3.org/2000/svg\" xmlns:xlink=\"http://www.w3.org/1999/xlink\">\n<g id=\"graph0\" class=\"graph\" transform=\"scale(1 1) rotate(0) translate(4 429)\">\n<title>Tree</title>\n<polygon fill=\"white\" stroke=\"none\" points=\"-4,4 -4,-429 451.5,-429 451.5,4 -4,4\"/>\n<!-- 0 -->\n<g id=\"node1\" class=\"node\">\n<title>0</title>\n<path fill=\"#e99558\" stroke=\"black\" d=\"M362.5,-425C362.5,-425 240.5,-425 240.5,-425 234.5,-425 228.5,-419 228.5,-413 228.5,-413 228.5,-354 228.5,-354 228.5,-348 234.5,-342 240.5,-342 240.5,-342 362.5,-342 362.5,-342 368.5,-342 374.5,-348 374.5,-354 374.5,-354 374.5,-413 374.5,-413 374.5,-419 368.5,-425 362.5,-425\"/>\n<text text-anchor=\"start\" x=\"236.5\" y=\"-409.8\" font-family=\"Helvetica,sans-Serif\" font-size=\"14.00\">total_receita ≤ 0.786</text>\n<text text-anchor=\"start\" x=\"264\" y=\"-394.8\" font-family=\"Helvetica,sans-Serif\" font-size=\"14.00\">gini = 0.234</text>\n<text text-anchor=\"start\" x=\"250\" y=\"-379.8\" font-family=\"Helvetica,sans-Serif\" font-size=\"14.00\">samples = 6478</text>\n<text text-anchor=\"start\" x=\"240.5\" y=\"-364.8\" font-family=\"Helvetica,sans-Serif\" font-size=\"14.00\">value = [5603, 875]</text>\n<text text-anchor=\"start\" x=\"244\" y=\"-349.8\" font-family=\"Helvetica,sans-Serif\" font-size=\"14.00\">class = Nao Eleito</text>\n</g>\n<!-- 1 -->\n<g id=\"node2\" class=\"node\">\n<title>1</title>\n<path fill=\"#e6853f\" stroke=\"black\" d=\"M287.5,-306C287.5,-306 153.5,-306 153.5,-306 147.5,-306 141.5,-300 141.5,-294 141.5,-294 141.5,-235 141.5,-235 141.5,-229 147.5,-223 153.5,-223 153.5,-223 287.5,-223 287.5,-223 293.5,-223 299.5,-229 299.5,-235 299.5,-235 299.5,-294 299.5,-294 299.5,-300 293.5,-306 287.5,-306\"/>\n<text text-anchor=\"start\" x=\"149.5\" y=\"-290.8\" font-family=\"Helvetica,sans-Serif\" font-size=\"14.00\">total_despesa ≤ 0.689</text>\n<text text-anchor=\"start\" x=\"183\" y=\"-275.8\" font-family=\"Helvetica,sans-Serif\" font-size=\"14.00\">gini = 0.053</text>\n<text text-anchor=\"start\" x=\"169\" y=\"-260.8\" font-family=\"Helvetica,sans-Serif\" font-size=\"14.00\">samples = 5263</text>\n<text text-anchor=\"start\" x=\"159.5\" y=\"-245.8\" font-family=\"Helvetica,sans-Serif\" font-size=\"14.00\">value = [5120, 143]</text>\n<text text-anchor=\"start\" x=\"163\" y=\"-230.8\" font-family=\"Helvetica,sans-Serif\" font-size=\"14.00\">class = Nao Eleito</text>\n</g>\n<!-- 0&#45;&gt;1 -->\n<g id=\"edge1\" class=\"edge\">\n<title>0&#45;&gt;1</title>\n<path fill=\"none\" stroke=\"black\" d=\"M273.4,-341.91C267.24,-333.01 260.66,-323.51 254.31,-314.33\"/>\n<polygon fill=\"black\" stroke=\"black\" points=\"257.12,-312.25 248.55,-306.02 251.37,-316.24 257.12,-312.25\"/>\n<text text-anchor=\"middle\" x=\"244.08\" y=\"-326.92\" font-family=\"Helvetica,sans-Serif\" font-size=\"14.00\">True</text>\n</g>\n<!-- 6 -->\n<g id=\"node7\" class=\"node\">\n<title>6</title>\n<path fill=\"#bcdef6\" stroke=\"black\" d=\"M435.5,-298.5C435.5,-298.5 329.5,-298.5 329.5,-298.5 323.5,-298.5 317.5,-292.5 317.5,-286.5 317.5,-286.5 317.5,-242.5 317.5,-242.5 317.5,-236.5 323.5,-230.5 329.5,-230.5 329.5,-230.5 435.5,-230.5 435.5,-230.5 441.5,-230.5 447.5,-236.5 447.5,-242.5 447.5,-242.5 447.5,-286.5 447.5,-286.5 447.5,-292.5 441.5,-298.5 435.5,-298.5\"/>\n<text text-anchor=\"start\" x=\"345\" y=\"-283.3\" font-family=\"Helvetica,sans-Serif\" font-size=\"14.00\">gini = 0.479</text>\n<text text-anchor=\"start\" x=\"331\" y=\"-268.3\" font-family=\"Helvetica,sans-Serif\" font-size=\"14.00\">samples = 1215</text>\n<text text-anchor=\"start\" x=\"325.5\" y=\"-253.3\" font-family=\"Helvetica,sans-Serif\" font-size=\"14.00\">value = [483, 732]</text>\n<text text-anchor=\"start\" x=\"340\" y=\"-238.3\" font-family=\"Helvetica,sans-Serif\" font-size=\"14.00\">class = Eleito</text>\n</g>\n<!-- 0&#45;&gt;6 -->\n<g id=\"edge6\" class=\"edge\">\n<title>0&#45;&gt;6</title>\n<path fill=\"none\" stroke=\"black\" d=\"M329.6,-341.91C337.39,-330.65 345.86,-318.42 353.7,-307.11\"/>\n<polygon fill=\"black\" stroke=\"black\" points=\"356.72,-308.88 359.54,-298.67 350.97,-304.9 356.72,-308.88\"/>\n<text text-anchor=\"middle\" x=\"364.01\" y=\"-319.56\" font-family=\"Helvetica,sans-Serif\" font-size=\"14.00\">False</text>\n</g>\n<!-- 2 -->\n<g id=\"node3\" class=\"node\">\n<title>2</title>\n<path fill=\"#e58139\" stroke=\"black\" d=\"M206.5,-187C206.5,-187 72.5,-187 72.5,-187 66.5,-187 60.5,-181 60.5,-175 60.5,-175 60.5,-116 60.5,-116 60.5,-110 66.5,-104 72.5,-104 72.5,-104 206.5,-104 206.5,-104 212.5,-104 218.5,-110 218.5,-116 218.5,-116 218.5,-175 218.5,-175 218.5,-181 212.5,-187 206.5,-187\"/>\n<text text-anchor=\"start\" x=\"68.5\" y=\"-171.8\" font-family=\"Helvetica,sans-Serif\" font-size=\"14.00\">total_despesa ≤ 0.559</text>\n<text text-anchor=\"start\" x=\"102\" y=\"-156.8\" font-family=\"Helvetica,sans-Serif\" font-size=\"14.00\">gini = 0.005</text>\n<text text-anchor=\"start\" x=\"88\" y=\"-141.8\" font-family=\"Helvetica,sans-Serif\" font-size=\"14.00\">samples = 4226</text>\n<text text-anchor=\"start\" x=\"82.5\" y=\"-126.8\" font-family=\"Helvetica,sans-Serif\" font-size=\"14.00\">value = [4216, 10]</text>\n<text text-anchor=\"start\" x=\"82\" y=\"-111.8\" font-family=\"Helvetica,sans-Serif\" font-size=\"14.00\">class = Nao Eleito</text>\n</g>\n<!-- 1&#45;&gt;2 -->\n<g id=\"edge2\" class=\"edge\">\n<title>1&#45;&gt;2</title>\n<path fill=\"none\" stroke=\"black\" d=\"M192.4,-222.91C186.24,-214.01 179.66,-204.51 173.31,-195.33\"/>\n<polygon fill=\"black\" stroke=\"black\" points=\"176.12,-193.25 167.55,-187.02 170.37,-197.24 176.12,-193.25\"/>\n</g>\n<!-- 5 -->\n<g id=\"node6\" class=\"node\">\n<title>5</title>\n<path fill=\"#e99456\" stroke=\"black\" d=\"M356,-179.5C356,-179.5 249,-179.5 249,-179.5 243,-179.5 237,-173.5 237,-167.5 237,-167.5 237,-123.5 237,-123.5 237,-117.5 243,-111.5 249,-111.5 249,-111.5 356,-111.5 356,-111.5 362,-111.5 368,-117.5 368,-123.5 368,-123.5 368,-167.5 368,-167.5 368,-173.5 362,-179.5 356,-179.5\"/>\n<text text-anchor=\"start\" x=\"265\" y=\"-164.3\" font-family=\"Helvetica,sans-Serif\" font-size=\"14.00\">gini = 0.224</text>\n<text text-anchor=\"start\" x=\"251\" y=\"-149.3\" font-family=\"Helvetica,sans-Serif\" font-size=\"14.00\">samples = 1037</text>\n<text text-anchor=\"start\" x=\"245.5\" y=\"-134.3\" font-family=\"Helvetica,sans-Serif\" font-size=\"14.00\">value = [904, 133]</text>\n<text text-anchor=\"start\" x=\"245\" y=\"-119.3\" font-family=\"Helvetica,sans-Serif\" font-size=\"14.00\">class = Nao Eleito</text>\n</g>\n<!-- 1&#45;&gt;5 -->\n<g id=\"edge5\" class=\"edge\">\n<title>1&#45;&gt;5</title>\n<path fill=\"none\" stroke=\"black\" d=\"M248.95,-222.91C256.84,-211.65 265.41,-199.42 273.34,-188.11\"/>\n<polygon fill=\"black\" stroke=\"black\" points=\"276.38,-189.86 279.25,-179.67 270.65,-185.85 276.38,-189.86\"/>\n</g>\n<!-- 3 -->\n<g id=\"node4\" class=\"node\">\n<title>3</title>\n<path fill=\"#e58139\" stroke=\"black\" d=\"M119,-68C119,-68 12,-68 12,-68 6,-68 0,-62 0,-56 0,-56 0,-12 0,-12 0,-6 6,0 12,0 12,0 119,0 119,0 125,0 131,-6 131,-12 131,-12 131,-56 131,-56 131,-62 125,-68 119,-68\"/>\n<text text-anchor=\"start\" x=\"36.5\" y=\"-52.8\" font-family=\"Helvetica,sans-Serif\" font-size=\"14.00\">gini = 0.0</text>\n<text text-anchor=\"start\" x=\"14\" y=\"-37.8\" font-family=\"Helvetica,sans-Serif\" font-size=\"14.00\">samples = 2393</text>\n<text text-anchor=\"start\" x=\"12.5\" y=\"-22.8\" font-family=\"Helvetica,sans-Serif\" font-size=\"14.00\">value = [2393, 0]</text>\n<text text-anchor=\"start\" x=\"8\" y=\"-7.8\" font-family=\"Helvetica,sans-Serif\" font-size=\"14.00\">class = Nao Eleito</text>\n</g>\n<!-- 2&#45;&gt;3 -->\n<g id=\"edge3\" class=\"edge\">\n<title>2&#45;&gt;3</title>\n<path fill=\"none\" stroke=\"black\" d=\"M111.95,-103.73C105.97,-94.88 99.63,-85.51 93.63,-76.63\"/>\n<polygon fill=\"black\" stroke=\"black\" points=\"96.5,-74.63 88,-68.3 90.7,-78.54 96.5,-74.63\"/>\n</g>\n<!-- 4 -->\n<g id=\"node5\" class=\"node\">\n<title>4</title>\n<path fill=\"#e5823a\" stroke=\"black\" d=\"M268,-68C268,-68 161,-68 161,-68 155,-68 149,-62 149,-56 149,-56 149,-12 149,-12 149,-6 155,0 161,0 161,0 268,0 268,0 274,0 280,-6 280,-12 280,-12 280,-56 280,-56 280,-62 274,-68 268,-68\"/>\n<text text-anchor=\"start\" x=\"177\" y=\"-52.8\" font-family=\"Helvetica,sans-Serif\" font-size=\"14.00\">gini = 0.011</text>\n<text text-anchor=\"start\" x=\"163\" y=\"-37.8\" font-family=\"Helvetica,sans-Serif\" font-size=\"14.00\">samples = 1833</text>\n<text text-anchor=\"start\" x=\"157.5\" y=\"-22.8\" font-family=\"Helvetica,sans-Serif\" font-size=\"14.00\">value = [1823, 10]</text>\n<text text-anchor=\"start\" x=\"157\" y=\"-7.8\" font-family=\"Helvetica,sans-Serif\" font-size=\"14.00\">class = Nao Eleito</text>\n</g>\n<!-- 2&#45;&gt;4 -->\n<g id=\"edge4\" class=\"edge\">\n<title>2&#45;&gt;4</title>\n<path fill=\"none\" stroke=\"black\" d=\"M167.43,-103.73C173.49,-94.88 179.9,-85.51 185.99,-76.63\"/>\n<polygon fill=\"black\" stroke=\"black\" points=\"188.93,-78.53 191.69,-68.3 183.15,-74.57 188.93,-78.53\"/>\n</g>\n</g>\n</svg>\n",
            "text/plain": [
              "<graphviz.sources.Source at 0x1e25e36cf10>"
            ]
          },
          "execution_count": 47,
          "metadata": {},
          "output_type": "execute_result"
        }
      ],
      "source": [
        "decision_tree_graph = tree.export_graphviz(decision_tree, out_file=None, \n",
        "                     feature_names=X_train.columns,\n",
        "                     class_names=['Nao Eleito','Eleito'],  \n",
        "                     filled=True, rounded=True,  \n",
        "                     special_characters=True)  \n",
        "graph = graphviz.Source(decision_tree_graph)  \n",
        "graph"
      ]
    },
    {
      "cell_type": "markdown",
      "metadata": {},
      "source": [
        "#### AdaBoost"
      ]
    },
    {
      "cell_type": "code",
      "execution_count": 72,
      "metadata": {},
      "outputs": [
        {
          "data": {
            "text/html": [
              "<style>#sk-container-id-8 {color: black;background-color: white;}#sk-container-id-8 pre{padding: 0;}#sk-container-id-8 div.sk-toggleable {background-color: white;}#sk-container-id-8 label.sk-toggleable__label {cursor: pointer;display: block;width: 100%;margin-bottom: 0;padding: 0.3em;box-sizing: border-box;text-align: center;}#sk-container-id-8 label.sk-toggleable__label-arrow:before {content: \"▸\";float: left;margin-right: 0.25em;color: #696969;}#sk-container-id-8 label.sk-toggleable__label-arrow:hover:before {color: black;}#sk-container-id-8 div.sk-estimator:hover label.sk-toggleable__label-arrow:before {color: black;}#sk-container-id-8 div.sk-toggleable__content {max-height: 0;max-width: 0;overflow: hidden;text-align: left;background-color: #f0f8ff;}#sk-container-id-8 div.sk-toggleable__content pre {margin: 0.2em;color: black;border-radius: 0.25em;background-color: #f0f8ff;}#sk-container-id-8 input.sk-toggleable__control:checked~div.sk-toggleable__content {max-height: 200px;max-width: 100%;overflow: auto;}#sk-container-id-8 input.sk-toggleable__control:checked~label.sk-toggleable__label-arrow:before {content: \"▾\";}#sk-container-id-8 div.sk-estimator input.sk-toggleable__control:checked~label.sk-toggleable__label {background-color: #d4ebff;}#sk-container-id-8 div.sk-label input.sk-toggleable__control:checked~label.sk-toggleable__label {background-color: #d4ebff;}#sk-container-id-8 input.sk-hidden--visually {border: 0;clip: rect(1px 1px 1px 1px);clip: rect(1px, 1px, 1px, 1px);height: 1px;margin: -1px;overflow: hidden;padding: 0;position: absolute;width: 1px;}#sk-container-id-8 div.sk-estimator {font-family: monospace;background-color: #f0f8ff;border: 1px dotted black;border-radius: 0.25em;box-sizing: border-box;margin-bottom: 0.5em;}#sk-container-id-8 div.sk-estimator:hover {background-color: #d4ebff;}#sk-container-id-8 div.sk-parallel-item::after {content: \"\";width: 100%;border-bottom: 1px solid gray;flex-grow: 1;}#sk-container-id-8 div.sk-label:hover label.sk-toggleable__label {background-color: #d4ebff;}#sk-container-id-8 div.sk-serial::before {content: \"\";position: absolute;border-left: 1px solid gray;box-sizing: border-box;top: 0;bottom: 0;left: 50%;z-index: 0;}#sk-container-id-8 div.sk-serial {display: flex;flex-direction: column;align-items: center;background-color: white;padding-right: 0.2em;padding-left: 0.2em;position: relative;}#sk-container-id-8 div.sk-item {position: relative;z-index: 1;}#sk-container-id-8 div.sk-parallel {display: flex;align-items: stretch;justify-content: center;background-color: white;position: relative;}#sk-container-id-8 div.sk-item::before, #sk-container-id-8 div.sk-parallel-item::before {content: \"\";position: absolute;border-left: 1px solid gray;box-sizing: border-box;top: 0;bottom: 0;left: 50%;z-index: -1;}#sk-container-id-8 div.sk-parallel-item {display: flex;flex-direction: column;z-index: 1;position: relative;background-color: white;}#sk-container-id-8 div.sk-parallel-item:first-child::after {align-self: flex-end;width: 50%;}#sk-container-id-8 div.sk-parallel-item:last-child::after {align-self: flex-start;width: 50%;}#sk-container-id-8 div.sk-parallel-item:only-child::after {width: 0;}#sk-container-id-8 div.sk-dashed-wrapped {border: 1px dashed gray;margin: 0 0.4em 0.5em 0.4em;box-sizing: border-box;padding-bottom: 0.4em;background-color: white;}#sk-container-id-8 div.sk-label label {font-family: monospace;font-weight: bold;display: inline-block;line-height: 1.2em;}#sk-container-id-8 div.sk-label-container {text-align: center;}#sk-container-id-8 div.sk-container {/* jupyter's `normalize.less` sets `[hidden] { display: none; }` but bootstrap.min.css set `[hidden] { display: none !important; }` so we also need the `!important` here to be able to override the default hidden behavior on the sphinx rendered scikit-learn.org. See: https://github.com/scikit-learn/scikit-learn/issues/21755 */display: inline-block !important;position: relative;}#sk-container-id-8 div.sk-text-repr-fallback {display: none;}</style><div id=\"sk-container-id-8\" class=\"sk-top-container\"><div class=\"sk-text-repr-fallback\"><pre>AdaBoostClassifier(base_estimator=DecisionTreeClassifier(max_depth=4,\n",
              "                                                         random_state=42),\n",
              "                   learning_rate=0.5, n_estimators=200)</pre><b>In a Jupyter environment, please rerun this cell to show the HTML representation or trust the notebook. <br />On GitHub, the HTML representation is unable to render, please try loading this page with nbviewer.org.</b></div><div class=\"sk-container\" hidden><div class=\"sk-item sk-dashed-wrapped\"><div class=\"sk-label-container\"><div class=\"sk-label sk-toggleable\"><input class=\"sk-toggleable__control sk-hidden--visually\" id=\"sk-estimator-id-14\" type=\"checkbox\" ><label for=\"sk-estimator-id-14\" class=\"sk-toggleable__label sk-toggleable__label-arrow\">AdaBoostClassifier</label><div class=\"sk-toggleable__content\"><pre>AdaBoostClassifier(base_estimator=DecisionTreeClassifier(max_depth=4,\n",
              "                                                         random_state=42),\n",
              "                   learning_rate=0.5, n_estimators=200)</pre></div></div></div><div class=\"sk-parallel\"><div class=\"sk-parallel-item\"><div class=\"sk-item\"><div class=\"sk-label-container\"><div class=\"sk-label sk-toggleable\"><input class=\"sk-toggleable__control sk-hidden--visually\" id=\"sk-estimator-id-15\" type=\"checkbox\" ><label for=\"sk-estimator-id-15\" class=\"sk-toggleable__label sk-toggleable__label-arrow\">base_estimator: DecisionTreeClassifier</label><div class=\"sk-toggleable__content\"><pre>DecisionTreeClassifier(max_depth=4, random_state=42)</pre></div></div></div><div class=\"sk-serial\"><div class=\"sk-item\"><div class=\"sk-estimator sk-toggleable\"><input class=\"sk-toggleable__control sk-hidden--visually\" id=\"sk-estimator-id-16\" type=\"checkbox\" ><label for=\"sk-estimator-id-16\" class=\"sk-toggleable__label sk-toggleable__label-arrow\">DecisionTreeClassifier</label><div class=\"sk-toggleable__content\"><pre>DecisionTreeClassifier(max_depth=4, random_state=42)</pre></div></div></div></div></div></div></div></div></div></div>"
            ],
            "text/plain": [
              "AdaBoostClassifier(base_estimator=DecisionTreeClassifier(max_depth=4,\n",
              "                                                         random_state=42),\n",
              "                   learning_rate=0.5, n_estimators=200)"
            ]
          },
          "execution_count": 72,
          "metadata": {},
          "output_type": "execute_result"
        }
      ],
      "source": [
        "decision_tree2 = DecisionTreeClassifier(max_depth=4, random_state=42)\n",
        "ada_clf = AdaBoostClassifier(decision_tree2, n_estimators=200, learning_rate=0.5)\n",
        "ada_clf.fit(X_train, y_train)"
      ]
    },
    {
      "cell_type": "markdown",
      "metadata": {},
      "source": [
        "#### Acurácia AdaBoost"
      ]
    },
    {
      "cell_type": "code",
      "execution_count": 74,
      "metadata": {},
      "outputs": [
        {
          "name": "stdout",
          "output_type": "stream",
          "text": [
            "Acurácia AdaBoost: 89.336%\n"
          ]
        }
      ],
      "source": [
        "predict_ada = ada_clf.predict(X_test)\n",
        "accuracy = accuracy_score(y_test, predict_ada)\n",
        "print('Acurácia AdaBoost: %.3f%%' % (accuracy * 100))"
      ]
    },
    {
      "cell_type": "code",
      "execution_count": 70,
      "metadata": {},
      "outputs": [
        {
          "name": "stdout",
          "output_type": "stream",
          "text": [
            "              precision    recall  f1-score   support\n",
            "\n",
            "           0       0.93      0.96      0.94       993\n",
            "           1       0.65      0.52      0.58       151\n",
            "\n",
            "    accuracy                           0.90      1144\n",
            "   macro avg       0.79      0.74      0.76      1144\n",
            "weighted avg       0.89      0.90      0.89      1144\n",
            "\n"
          ]
        }
      ],
      "source": [
        "print(classification_report(y_test, predict_ada))"
      ]
    },
    {
      "cell_type": "code",
      "execution_count": 75,
      "metadata": {},
      "outputs": [
        {
          "data": {
            "text/plain": [
              "Text(0.5, 1.0, 'Coeficientes Adaboost')"
            ]
          },
          "execution_count": 75,
          "metadata": {},
          "output_type": "execute_result"
        },
        {
          "data": {
            "image/png": "[encoded data removed]",
            "text/plain": [
              "<Figure size 640x480 with 1 Axes>"
            ]
          },
          "metadata": {},
          "output_type": "display_data"
        }
      ],
      "source": [
        "ab_coef =  pd.Series(ada_clf.feature_importances_, index=X_train.columns)\n",
        "ab_imp_coef = pd.concat([ab_coef.sort_values().tail(5)])\n",
        "ab_imp_coef.plot(kind = \"barh\")\n",
        "plt.title(\"Coeficientes Adaboost\")"
      ]
    },
    {
      "cell_type": "markdown",
      "metadata": {},
      "source": [
        "#### Regressão Logística"
      ]
    },
    {
      "cell_type": "markdown",
      "metadata": {},
      "source": [
        "Regressão Logística com AdaBoosta"
      ]
    },
    {
      "cell_type": "code",
      "execution_count": 51,
      "metadata": {},
      "outputs": [
        {
          "data": {
            "text/html": [
              "<style>#sk-container-id-4 {color: black;background-color: white;}#sk-container-id-4 pre{padding: 0;}#sk-container-id-4 div.sk-toggleable {background-color: white;}#sk-container-id-4 label.sk-toggleable__label {cursor: pointer;display: block;width: 100%;margin-bottom: 0;padding: 0.3em;box-sizing: border-box;text-align: center;}#sk-container-id-4 label.sk-toggleable__label-arrow:before {content: \"▸\";float: left;margin-right: 0.25em;color: #696969;}#sk-container-id-4 label.sk-toggleable__label-arrow:hover:before {color: black;}#sk-container-id-4 div.sk-estimator:hover label.sk-toggleable__label-arrow:before {color: black;}#sk-container-id-4 div.sk-toggleable__content {max-height: 0;max-width: 0;overflow: hidden;text-align: left;background-color: #f0f8ff;}#sk-container-id-4 div.sk-toggleable__content pre {margin: 0.2em;color: black;border-radius: 0.25em;background-color: #f0f8ff;}#sk-container-id-4 input.sk-toggleable__control:checked~div.sk-toggleable__content {max-height: 200px;max-width: 100%;overflow: auto;}#sk-container-id-4 input.sk-toggleable__control:checked~label.sk-toggleable__label-arrow:before {content: \"▾\";}#sk-container-id-4 div.sk-estimator input.sk-toggleable__control:checked~label.sk-toggleable__label {background-color: #d4ebff;}#sk-container-id-4 div.sk-label input.sk-toggleable__control:checked~label.sk-toggleable__label {background-color: #d4ebff;}#sk-container-id-4 input.sk-hidden--visually {border: 0;clip: rect(1px 1px 1px 1px);clip: rect(1px, 1px, 1px, 1px);height: 1px;margin: -1px;overflow: hidden;padding: 0;position: absolute;width: 1px;}#sk-container-id-4 div.sk-estimator {font-family: monospace;background-color: #f0f8ff;border: 1px dotted black;border-radius: 0.25em;box-sizing: border-box;margin-bottom: 0.5em;}#sk-container-id-4 div.sk-estimator:hover {background-color: #d4ebff;}#sk-container-id-4 div.sk-parallel-item::after {content: \"\";width: 100%;border-bottom: 1px solid gray;flex-grow: 1;}#sk-container-id-4 div.sk-label:hover label.sk-toggleable__label {background-color: #d4ebff;}#sk-container-id-4 div.sk-serial::before {content: \"\";position: absolute;border-left: 1px solid gray;box-sizing: border-box;top: 0;bottom: 0;left: 50%;z-index: 0;}#sk-container-id-4 div.sk-serial {display: flex;flex-direction: column;align-items: center;background-color: white;padding-right: 0.2em;padding-left: 0.2em;position: relative;}#sk-container-id-4 div.sk-item {position: relative;z-index: 1;}#sk-container-id-4 div.sk-parallel {display: flex;align-items: stretch;justify-content: center;background-color: white;position: relative;}#sk-container-id-4 div.sk-item::before, #sk-container-id-4 div.sk-parallel-item::before {content: \"\";position: absolute;border-left: 1px solid gray;box-sizing: border-box;top: 0;bottom: 0;left: 50%;z-index: -1;}#sk-container-id-4 div.sk-parallel-item {display: flex;flex-direction: column;z-index: 1;position: relative;background-color: white;}#sk-container-id-4 div.sk-parallel-item:first-child::after {align-self: flex-end;width: 50%;}#sk-container-id-4 div.sk-parallel-item:last-child::after {align-self: flex-start;width: 50%;}#sk-container-id-4 div.sk-parallel-item:only-child::after {width: 0;}#sk-container-id-4 div.sk-dashed-wrapped {border: 1px dashed gray;margin: 0 0.4em 0.5em 0.4em;box-sizing: border-box;padding-bottom: 0.4em;background-color: white;}#sk-container-id-4 div.sk-label label {font-family: monospace;font-weight: bold;display: inline-block;line-height: 1.2em;}#sk-container-id-4 div.sk-label-container {text-align: center;}#sk-container-id-4 div.sk-container {/* jupyter's `normalize.less` sets `[hidden] { display: none; }` but bootstrap.min.css set `[hidden] { display: none !important; }` so we also need the `!important` here to be able to override the default hidden behavior on the sphinx rendered scikit-learn.org. See: https://github.com/scikit-learn/scikit-learn/issues/21755 */display: inline-block !important;position: relative;}#sk-container-id-4 div.sk-text-repr-fallback {display: none;}</style><div id=\"sk-container-id-4\" class=\"sk-top-container\"><div class=\"sk-text-repr-fallback\"><pre>AdaBoostClassifier(base_estimator=LogisticRegression(max_iter=1000,\n",
              "                                                     random_state=42),\n",
              "                   learning_rate=0.5, n_estimators=200)</pre><b>In a Jupyter environment, please rerun this cell to show the HTML representation or trust the notebook. <br />On GitHub, the HTML representation is unable to render, please try loading this page with nbviewer.org.</b></div><div class=\"sk-container\" hidden><div class=\"sk-item sk-dashed-wrapped\"><div class=\"sk-label-container\"><div class=\"sk-label sk-toggleable\"><input class=\"sk-toggleable__control sk-hidden--visually\" id=\"sk-estimator-id-6\" type=\"checkbox\" ><label for=\"sk-estimator-id-6\" class=\"sk-toggleable__label sk-toggleable__label-arrow\">AdaBoostClassifier</label><div class=\"sk-toggleable__content\"><pre>AdaBoostClassifier(base_estimator=LogisticRegression(max_iter=1000,\n",
              "                                                     random_state=42),\n",
              "                   learning_rate=0.5, n_estimators=200)</pre></div></div></div><div class=\"sk-parallel\"><div class=\"sk-parallel-item\"><div class=\"sk-item\"><div class=\"sk-label-container\"><div class=\"sk-label sk-toggleable\"><input class=\"sk-toggleable__control sk-hidden--visually\" id=\"sk-estimator-id-7\" type=\"checkbox\" ><label for=\"sk-estimator-id-7\" class=\"sk-toggleable__label sk-toggleable__label-arrow\">base_estimator: LogisticRegression</label><div class=\"sk-toggleable__content\"><pre>LogisticRegression(max_iter=1000, random_state=42)</pre></div></div></div><div class=\"sk-serial\"><div class=\"sk-item\"><div class=\"sk-estimator sk-toggleable\"><input class=\"sk-toggleable__control sk-hidden--visually\" id=\"sk-estimator-id-8\" type=\"checkbox\" ><label for=\"sk-estimator-id-8\" class=\"sk-toggleable__label sk-toggleable__label-arrow\">LogisticRegression</label><div class=\"sk-toggleable__content\"><pre>LogisticRegression(max_iter=1000, random_state=42)</pre></div></div></div></div></div></div></div></div></div></div>"
            ],
            "text/plain": [
              "AdaBoostClassifier(base_estimator=LogisticRegression(max_iter=1000,\n",
              "                                                     random_state=42),\n",
              "                   learning_rate=0.5, n_estimators=200)"
            ]
          },
          "execution_count": 51,
          "metadata": {},
          "output_type": "execute_result"
        }
      ],
      "source": [
        "lr_ada = LogisticRegression(random_state=42, max_iter=1000)\n",
        "ada_clf2 = AdaBoostClassifier(lr_ada, n_estimators=200, learning_rate=0.5)\n",
        "ada_clf2.fit(X_train, y_train)"
      ]
    },
    {
      "cell_type": "markdown",
      "metadata": {},
      "source": [
        "Acurácia Regressão Logística com AdaBoosta"
      ]
    },
    {
      "cell_type": "code",
      "execution_count": 52,
      "metadata": {},
      "outputs": [
        {
          "name": "stdout",
          "output_type": "stream",
          "text": [
            "Acurácia Regressão Logística: 91.958%\n"
          ]
        }
      ],
      "source": [
        "predict_lr_ada = ada_clf2.predict(X_test)\n",
        "accuracy = accuracy_score(y_test, predict_lr_ada)\n",
        "print('Acurácia Regressão Logística: %.3f%%' % (accuracy * 100))"
      ]
    },
    {
      "cell_type": "code",
      "execution_count": 53,
      "metadata": {},
      "outputs": [
        {
          "name": "stdout",
          "output_type": "stream",
          "text": [
            "              precision    recall  f1-score   support\n",
            "\n",
            "           0       0.93      0.98      0.95       993\n",
            "           1       0.78      0.55      0.64       151\n",
            "\n",
            "    accuracy                           0.92      1144\n",
            "   macro avg       0.86      0.76      0.80      1144\n",
            "weighted avg       0.91      0.92      0.91      1144\n",
            "\n"
          ]
        }
      ],
      "source": [
        "print(classification_report(y_test, predict_lr_ada))"
      ]
    },
    {
      "cell_type": "markdown",
      "metadata": {},
      "source": [
        "Regressão Logística sem AdaBoost"
      ]
    },
    {
      "cell_type": "code",
      "execution_count": 54,
      "metadata": {},
      "outputs": [
        {
          "data": {
            "text/html": [
              "<style>#sk-container-id-5 {color: black;background-color: white;}#sk-container-id-5 pre{padding: 0;}#sk-container-id-5 div.sk-toggleable {background-color: white;}#sk-container-id-5 label.sk-toggleable__label {cursor: pointer;display: block;width: 100%;margin-bottom: 0;padding: 0.3em;box-sizing: border-box;text-align: center;}#sk-container-id-5 label.sk-toggleable__label-arrow:before {content: \"▸\";float: left;margin-right: 0.25em;color: #696969;}#sk-container-id-5 label.sk-toggleable__label-arrow:hover:before {color: black;}#sk-container-id-5 div.sk-estimator:hover label.sk-toggleable__label-arrow:before {color: black;}#sk-container-id-5 div.sk-toggleable__content {max-height: 0;max-width: 0;overflow: hidden;text-align: left;background-color: #f0f8ff;}#sk-container-id-5 div.sk-toggleable__content pre {margin: 0.2em;color: black;border-radius: 0.25em;background-color: #f0f8ff;}#sk-container-id-5 input.sk-toggleable__control:checked~div.sk-toggleable__content {max-height: 200px;max-width: 100%;overflow: auto;}#sk-container-id-5 input.sk-toggleable__control:checked~label.sk-toggleable__label-arrow:before {content: \"▾\";}#sk-container-id-5 div.sk-estimator input.sk-toggleable__control:checked~label.sk-toggleable__label {background-color: #d4ebff;}#sk-container-id-5 div.sk-label input.sk-toggleable__control:checked~label.sk-toggleable__label {background-color: #d4ebff;}#sk-container-id-5 input.sk-hidden--visually {border: 0;clip: rect(1px 1px 1px 1px);clip: rect(1px, 1px, 1px, 1px);height: 1px;margin: -1px;overflow: hidden;padding: 0;position: absolute;width: 1px;}#sk-container-id-5 div.sk-estimator {font-family: monospace;background-color: #f0f8ff;border: 1px dotted black;border-radius: 0.25em;box-sizing: border-box;margin-bottom: 0.5em;}#sk-container-id-5 div.sk-estimator:hover {background-color: #d4ebff;}#sk-container-id-5 div.sk-parallel-item::after {content: \"\";width: 100%;border-bottom: 1px solid gray;flex-grow: 1;}#sk-container-id-5 div.sk-label:hover label.sk-toggleable__label {background-color: #d4ebff;}#sk-container-id-5 div.sk-serial::before {content: \"\";position: absolute;border-left: 1px solid gray;box-sizing: border-box;top: 0;bottom: 0;left: 50%;z-index: 0;}#sk-container-id-5 div.sk-serial {display: flex;flex-direction: column;align-items: center;background-color: white;padding-right: 0.2em;padding-left: 0.2em;position: relative;}#sk-container-id-5 div.sk-item {position: relative;z-index: 1;}#sk-container-id-5 div.sk-parallel {display: flex;align-items: stretch;justify-content: center;background-color: white;position: relative;}#sk-container-id-5 div.sk-item::before, #sk-container-id-5 div.sk-parallel-item::before {content: \"\";position: absolute;border-left: 1px solid gray;box-sizing: border-box;top: 0;bottom: 0;left: 50%;z-index: -1;}#sk-container-id-5 div.sk-parallel-item {display: flex;flex-direction: column;z-index: 1;position: relative;background-color: white;}#sk-container-id-5 div.sk-parallel-item:first-child::after {align-self: flex-end;width: 50%;}#sk-container-id-5 div.sk-parallel-item:last-child::after {align-self: flex-start;width: 50%;}#sk-container-id-5 div.sk-parallel-item:only-child::after {width: 0;}#sk-container-id-5 div.sk-dashed-wrapped {border: 1px dashed gray;margin: 0 0.4em 0.5em 0.4em;box-sizing: border-box;padding-bottom: 0.4em;background-color: white;}#sk-container-id-5 div.sk-label label {font-family: monospace;font-weight: bold;display: inline-block;line-height: 1.2em;}#sk-container-id-5 div.sk-label-container {text-align: center;}#sk-container-id-5 div.sk-container {/* jupyter's `normalize.less` sets `[hidden] { display: none; }` but bootstrap.min.css set `[hidden] { display: none !important; }` so we also need the `!important` here to be able to override the default hidden behavior on the sphinx rendered scikit-learn.org. See: https://github.com/scikit-learn/scikit-learn/issues/21755 */display: inline-block !important;position: relative;}#sk-container-id-5 div.sk-text-repr-fallback {display: none;}</style><div id=\"sk-container-id-5\" class=\"sk-top-container\"><div class=\"sk-text-repr-fallback\"><pre>LogisticRegression(max_iter=1000, random_state=42)</pre><b>In a Jupyter environment, please rerun this cell to show the HTML representation or trust the notebook. <br />On GitHub, the HTML representation is unable to render, please try loading this page with nbviewer.org.</b></div><div class=\"sk-container\" hidden><div class=\"sk-item\"><div class=\"sk-estimator sk-toggleable\"><input class=\"sk-toggleable__control sk-hidden--visually\" id=\"sk-estimator-id-9\" type=\"checkbox\" checked><label for=\"sk-estimator-id-9\" class=\"sk-toggleable__label sk-toggleable__label-arrow\">LogisticRegression</label><div class=\"sk-toggleable__content\"><pre>LogisticRegression(max_iter=1000, random_state=42)</pre></div></div></div></div></div>"
            ],
            "text/plain": [
              "LogisticRegression(max_iter=1000, random_state=42)"
            ]
          },
          "execution_count": 54,
          "metadata": {},
          "output_type": "execute_result"
        }
      ],
      "source": [
        "lr = LogisticRegression(random_state=42, max_iter=1000)\n",
        "lr.fit(X_train, y_train)"
      ]
    },
    {
      "cell_type": "markdown",
      "metadata": {},
      "source": [
        "Acurácia Regressão Logística"
      ]
    },
    {
      "cell_type": "code",
      "execution_count": 55,
      "metadata": {},
      "outputs": [
        {
          "name": "stdout",
          "output_type": "stream",
          "text": [
            "Acurácia Regressão Logística: 92.220%\n"
          ]
        }
      ],
      "source": [
        "predict_lr = lr.predict(X_test)\n",
        "accuracy = accuracy_score(y_test, predict_lr)\n",
        "print('Acurácia Regressão Logística: %.3f%%' % (accuracy * 100))"
      ]
    },
    {
      "cell_type": "code",
      "execution_count": 56,
      "metadata": {},
      "outputs": [
        {
          "name": "stdout",
          "output_type": "stream",
          "text": [
            "              precision    recall  f1-score   support\n",
            "\n",
            "           0       0.94      0.97      0.96       993\n",
            "           1       0.77      0.59      0.67       151\n",
            "\n",
            "    accuracy                           0.92      1144\n",
            "   macro avg       0.85      0.78      0.81      1144\n",
            "weighted avg       0.92      0.92      0.92      1144\n",
            "\n"
          ]
        }
      ],
      "source": [
        "print(classification_report(y_test, predict_lr))"
      ]
    },
    {
      "cell_type": "code",
      "execution_count": 57,
      "metadata": {},
      "outputs": [
        {
          "data": {
            "text/plain": [
              "Text(0.5, 1.0, 'Coeficientes Regressao Logística')"
            ]
          },
          "execution_count": 57,
          "metadata": {},
          "output_type": "execute_result"
        },
        {
          "data": {
            "image/png": "[encoded data removed]",
            "text/plain": [
              "<Figure size 640x480 with 1 Axes>"
            ]
          },
          "metadata": {},
          "output_type": "display_data"
        }
      ],
      "source": [
        "lr_coef =  pd.Series(lr.coef_[0], index=X_train.columns)\n",
        "lr_imp_coef = pd.concat([lr_coef.sort_values().head(5)])\n",
        "lr_imp_coef.plot(kind = \"barh\")\n",
        "plt.title(\"Coeficientes Regressao Logística\")"
      ]
    },
    {
      "cell_type": "markdown",
      "metadata": {},
      "source": [
        "GradientBoost"
      ]
    },
    {
      "cell_type": "code",
      "execution_count": 58,
      "metadata": {},
      "outputs": [
        {
          "data": {
            "text/html": [
              "<style>#sk-container-id-6 {color: black;background-color: white;}#sk-container-id-6 pre{padding: 0;}#sk-container-id-6 div.sk-toggleable {background-color: white;}#sk-container-id-6 label.sk-toggleable__label {cursor: pointer;display: block;width: 100%;margin-bottom: 0;padding: 0.3em;box-sizing: border-box;text-align: center;}#sk-container-id-6 label.sk-toggleable__label-arrow:before {content: \"▸\";float: left;margin-right: 0.25em;color: #696969;}#sk-container-id-6 label.sk-toggleable__label-arrow:hover:before {color: black;}#sk-container-id-6 div.sk-estimator:hover label.sk-toggleable__label-arrow:before {color: black;}#sk-container-id-6 div.sk-toggleable__content {max-height: 0;max-width: 0;overflow: hidden;text-align: left;background-color: #f0f8ff;}#sk-container-id-6 div.sk-toggleable__content pre {margin: 0.2em;color: black;border-radius: 0.25em;background-color: #f0f8ff;}#sk-container-id-6 input.sk-toggleable__control:checked~div.sk-toggleable__content {max-height: 200px;max-width: 100%;overflow: auto;}#sk-container-id-6 input.sk-toggleable__control:checked~label.sk-toggleable__label-arrow:before {content: \"▾\";}#sk-container-id-6 div.sk-estimator input.sk-toggleable__control:checked~label.sk-toggleable__label {background-color: #d4ebff;}#sk-container-id-6 div.sk-label input.sk-toggleable__control:checked~label.sk-toggleable__label {background-color: #d4ebff;}#sk-container-id-6 input.sk-hidden--visually {border: 0;clip: rect(1px 1px 1px 1px);clip: rect(1px, 1px, 1px, 1px);height: 1px;margin: -1px;overflow: hidden;padding: 0;position: absolute;width: 1px;}#sk-container-id-6 div.sk-estimator {font-family: monospace;background-color: #f0f8ff;border: 1px dotted black;border-radius: 0.25em;box-sizing: border-box;margin-bottom: 0.5em;}#sk-container-id-6 div.sk-estimator:hover {background-color: #d4ebff;}#sk-container-id-6 div.sk-parallel-item::after {content: \"\";width: 100%;border-bottom: 1px solid gray;flex-grow: 1;}#sk-container-id-6 div.sk-label:hover label.sk-toggleable__label {background-color: #d4ebff;}#sk-container-id-6 div.sk-serial::before {content: \"\";position: absolute;border-left: 1px solid gray;box-sizing: border-box;top: 0;bottom: 0;left: 50%;z-index: 0;}#sk-container-id-6 div.sk-serial {display: flex;flex-direction: column;align-items: center;background-color: white;padding-right: 0.2em;padding-left: 0.2em;position: relative;}#sk-container-id-6 div.sk-item {position: relative;z-index: 1;}#sk-container-id-6 div.sk-parallel {display: flex;align-items: stretch;justify-content: center;background-color: white;position: relative;}#sk-container-id-6 div.sk-item::before, #sk-container-id-6 div.sk-parallel-item::before {content: \"\";position: absolute;border-left: 1px solid gray;box-sizing: border-box;top: 0;bottom: 0;left: 50%;z-index: -1;}#sk-container-id-6 div.sk-parallel-item {display: flex;flex-direction: column;z-index: 1;position: relative;background-color: white;}#sk-container-id-6 div.sk-parallel-item:first-child::after {align-self: flex-end;width: 50%;}#sk-container-id-6 div.sk-parallel-item:last-child::after {align-self: flex-start;width: 50%;}#sk-container-id-6 div.sk-parallel-item:only-child::after {width: 0;}#sk-container-id-6 div.sk-dashed-wrapped {border: 1px dashed gray;margin: 0 0.4em 0.5em 0.4em;box-sizing: border-box;padding-bottom: 0.4em;background-color: white;}#sk-container-id-6 div.sk-label label {font-family: monospace;font-weight: bold;display: inline-block;line-height: 1.2em;}#sk-container-id-6 div.sk-label-container {text-align: center;}#sk-container-id-6 div.sk-container {/* jupyter's `normalize.less` sets `[hidden] { display: none; }` but bootstrap.min.css set `[hidden] { display: none !important; }` so we also need the `!important` here to be able to override the default hidden behavior on the sphinx rendered scikit-learn.org. See: https://github.com/scikit-learn/scikit-learn/issues/21755 */display: inline-block !important;position: relative;}#sk-container-id-6 div.sk-text-repr-fallback {display: none;}</style><div id=\"sk-container-id-6\" class=\"sk-top-container\"><div class=\"sk-text-repr-fallback\"><pre>GradientBoostingClassifier(learning_rate=0.5, n_estimators=200, random_state=42)</pre><b>In a Jupyter environment, please rerun this cell to show the HTML representation or trust the notebook. <br />On GitHub, the HTML representation is unable to render, please try loading this page with nbviewer.org.</b></div><div class=\"sk-container\" hidden><div class=\"sk-item\"><div class=\"sk-estimator sk-toggleable\"><input class=\"sk-toggleable__control sk-hidden--visually\" id=\"sk-estimator-id-10\" type=\"checkbox\" checked><label for=\"sk-estimator-id-10\" class=\"sk-toggleable__label sk-toggleable__label-arrow\">GradientBoostingClassifier</label><div class=\"sk-toggleable__content\"><pre>GradientBoostingClassifier(learning_rate=0.5, n_estimators=200, random_state=42)</pre></div></div></div></div></div>"
            ],
            "text/plain": [
              "GradientBoostingClassifier(learning_rate=0.5, n_estimators=200, random_state=42)"
            ]
          },
          "execution_count": 58,
          "metadata": {},
          "output_type": "execute_result"
        }
      ],
      "source": [
        "gb_clf = GradientBoostingClassifier(n_estimators=200, learning_rate=0.5, random_state=42)\n",
        "gb_clf.fit(X_train, y_train)"
      ]
    },
    {
      "cell_type": "markdown",
      "metadata": {},
      "source": [
        "Acurácia GradientBoost"
      ]
    },
    {
      "cell_type": "code",
      "execution_count": 59,
      "metadata": {},
      "outputs": [
        {
          "name": "stdout",
          "output_type": "stream",
          "text": [
            "Acurácia GradientBoost: 90.997%\n"
          ]
        }
      ],
      "source": [
        "predict_gb_clf = gb_clf.predict(X_test)\n",
        "accuracy = accuracy_score(y_test, predict_gb_clf)\n",
        "print('Acurácia GradientBoost: %.3f%%' % (accuracy * 100))"
      ]
    },
    {
      "cell_type": "code",
      "execution_count": 60,
      "metadata": {},
      "outputs": [
        {
          "name": "stdout",
          "output_type": "stream",
          "text": [
            "              precision    recall  f1-score   support\n",
            "\n",
            "           0       0.95      0.95      0.95       993\n",
            "           1       0.66      0.64      0.65       151\n",
            "\n",
            "    accuracy                           0.91      1144\n",
            "   macro avg       0.81      0.80      0.80      1144\n",
            "weighted avg       0.91      0.91      0.91      1144\n",
            "\n"
          ]
        }
      ],
      "source": [
        "print(classification_report(y_test, predict_gb_clf))"
      ]
    },
    {
      "cell_type": "code",
      "execution_count": 62,
      "metadata": {},
      "outputs": [
        {
          "data": {
            "text/plain": [
              "Text(0.5, 1.0, 'Coeficientes Gradient Boosting')"
            ]
          },
          "execution_count": 62,
          "metadata": {},
          "output_type": "execute_result"
        },
        {
          "data": {
            "image/png": "[encoded data removed]",
            "text/plain": [
              "<Figure size 640x480 with 1 Axes>"
            ]
          },
          "metadata": {},
          "output_type": "display_data"
        }
      ],
      "source": [
        "gb_coef =  pd.Series(gb_clf.feature_importances_, index=X_train.columns)\n",
        "gb_imp_coef = pd.concat([gb_coef.sort_values().tail(5)])\n",
        "gb_imp_coef.plot(kind = \"barh\")\n",
        "plt.title(\"Coeficientes Gradient Boosting\")"
      ]
    },
    {
      "cell_type": "markdown",
      "metadata": {
        "id": "GS4D1CewBVp9"
      },
      "source": [
        "### As caracteríticas predominates nos modelos são `total_receita` e `total_despesa`, aparecendo em 4 dos 5 modelos plotados"
      ]
    },
    {
      "cell_type": "markdown",
      "metadata": {
        "id": "mqUg5Q5HB3Oq"
      },
      "source": [
        "#### 5. Envie seus melhores modelos conforme resultados nos dados de teste. Sugestões para melhorar o modelo: (10 pts.)\n",
        "\n",
        "    - 1. Experimente outros modelos (e.g. SVM, RandomForests e GradientBoosting).\n",
        "    - 2. Experimente balancear as classes,  caso estejam desbalanceadas."
      ]
    },
    {
      "cell_type": "code",
      "execution_count": 79,
      "metadata": {
        "id": "OldotYQvBUkC"
      },
      "outputs": [
        {
          "data": {
            "text/html": [
              "<style>#sk-container-id-9 {color: black;background-color: white;}#sk-container-id-9 pre{padding: 0;}#sk-container-id-9 div.sk-toggleable {background-color: white;}#sk-container-id-9 label.sk-toggleable__label {cursor: pointer;display: block;width: 100%;margin-bottom: 0;padding: 0.3em;box-sizing: border-box;text-align: center;}#sk-container-id-9 label.sk-toggleable__label-arrow:before {content: \"▸\";float: left;margin-right: 0.25em;color: #696969;}#sk-container-id-9 label.sk-toggleable__label-arrow:hover:before {color: black;}#sk-container-id-9 div.sk-estimator:hover label.sk-toggleable__label-arrow:before {color: black;}#sk-container-id-9 div.sk-toggleable__content {max-height: 0;max-width: 0;overflow: hidden;text-align: left;background-color: #f0f8ff;}#sk-container-id-9 div.sk-toggleable__content pre {margin: 0.2em;color: black;border-radius: 0.25em;background-color: #f0f8ff;}#sk-container-id-9 input.sk-toggleable__control:checked~div.sk-toggleable__content {max-height: 200px;max-width: 100%;overflow: auto;}#sk-container-id-9 input.sk-toggleable__control:checked~label.sk-toggleable__label-arrow:before {content: \"▾\";}#sk-container-id-9 div.sk-estimator input.sk-toggleable__control:checked~label.sk-toggleable__label {background-color: #d4ebff;}#sk-container-id-9 div.sk-label input.sk-toggleable__control:checked~label.sk-toggleable__label {background-color: #d4ebff;}#sk-container-id-9 input.sk-hidden--visually {border: 0;clip: rect(1px 1px 1px 1px);clip: rect(1px, 1px, 1px, 1px);height: 1px;margin: -1px;overflow: hidden;padding: 0;position: absolute;width: 1px;}#sk-container-id-9 div.sk-estimator {font-family: monospace;background-color: #f0f8ff;border: 1px dotted black;border-radius: 0.25em;box-sizing: border-box;margin-bottom: 0.5em;}#sk-container-id-9 div.sk-estimator:hover {background-color: #d4ebff;}#sk-container-id-9 div.sk-parallel-item::after {content: \"\";width: 100%;border-bottom: 1px solid gray;flex-grow: 1;}#sk-container-id-9 div.sk-label:hover label.sk-toggleable__label {background-color: #d4ebff;}#sk-container-id-9 div.sk-serial::before {content: \"\";position: absolute;border-left: 1px solid gray;box-sizing: border-box;top: 0;bottom: 0;left: 50%;z-index: 0;}#sk-container-id-9 div.sk-serial {display: flex;flex-direction: column;align-items: center;background-color: white;padding-right: 0.2em;padding-left: 0.2em;position: relative;}#sk-container-id-9 div.sk-item {position: relative;z-index: 1;}#sk-container-id-9 div.sk-parallel {display: flex;align-items: stretch;justify-content: center;background-color: white;position: relative;}#sk-container-id-9 div.sk-item::before, #sk-container-id-9 div.sk-parallel-item::before {content: \"\";position: absolute;border-left: 1px solid gray;box-sizing: border-box;top: 0;bottom: 0;left: 50%;z-index: -1;}#sk-container-id-9 div.sk-parallel-item {display: flex;flex-direction: column;z-index: 1;position: relative;background-color: white;}#sk-container-id-9 div.sk-parallel-item:first-child::after {align-self: flex-end;width: 50%;}#sk-container-id-9 div.sk-parallel-item:last-child::after {align-self: flex-start;width: 50%;}#sk-container-id-9 div.sk-parallel-item:only-child::after {width: 0;}#sk-container-id-9 div.sk-dashed-wrapped {border: 1px dashed gray;margin: 0 0.4em 0.5em 0.4em;box-sizing: border-box;padding-bottom: 0.4em;background-color: white;}#sk-container-id-9 div.sk-label label {font-family: monospace;font-weight: bold;display: inline-block;line-height: 1.2em;}#sk-container-id-9 div.sk-label-container {text-align: center;}#sk-container-id-9 div.sk-container {/* jupyter's `normalize.less` sets `[hidden] { display: none; }` but bootstrap.min.css set `[hidden] { display: none !important; }` so we also need the `!important` here to be able to override the default hidden behavior on the sphinx rendered scikit-learn.org. See: https://github.com/scikit-learn/scikit-learn/issues/21755 */display: inline-block !important;position: relative;}#sk-container-id-9 div.sk-text-repr-fallback {display: none;}</style><div id=\"sk-container-id-9\" class=\"sk-top-container\"><div class=\"sk-text-repr-fallback\"><pre>SVC()</pre><b>In a Jupyter environment, please rerun this cell to show the HTML representation or trust the notebook. <br />On GitHub, the HTML representation is unable to render, please try loading this page with nbviewer.org.</b></div><div class=\"sk-container\" hidden><div class=\"sk-item\"><div class=\"sk-estimator sk-toggleable\"><input class=\"sk-toggleable__control sk-hidden--visually\" id=\"sk-estimator-id-17\" type=\"checkbox\" checked><label for=\"sk-estimator-id-17\" class=\"sk-toggleable__label sk-toggleable__label-arrow\">SVC</label><div class=\"sk-toggleable__content\"><pre>SVC()</pre></div></div></div></div></div>"
            ],
            "text/plain": [
              "SVC()"
            ]
          },
          "execution_count": 79,
          "metadata": {},
          "output_type": "execute_result"
        }
      ],
      "source": [
        "svm = SVC(kernel='rbf')\n",
        "svm.fit(X_train, y_train)"
      ]
    },
    {
      "cell_type": "code",
      "execution_count": 82,
      "metadata": {},
      "outputs": [
        {
          "name": "stdout",
          "output_type": "stream",
          "text": [
            "Acurácia SVM: 91.608%\n"
          ]
        }
      ],
      "source": [
        "predict_svm = svm.predict(X_test)\n",
        "accuracy = accuracy_score(y_test, predict_svm)\n",
        "print('Acurácia SVM: %.3f%%' % (accuracy * 100))"
      ]
    },
    {
      "cell_type": "code",
      "execution_count": 83,
      "metadata": {},
      "outputs": [
        {
          "name": "stdout",
          "output_type": "stream",
          "text": [
            "              precision    recall  f1-score   support\n",
            "\n",
            "           0       0.93      0.97      0.95       993\n",
            "           1       0.75      0.55      0.63       151\n",
            "\n",
            "    accuracy                           0.92      1144\n",
            "   macro avg       0.84      0.76      0.79      1144\n",
            "weighted avg       0.91      0.92      0.91      1144\n",
            "\n"
          ]
        }
      ],
      "source": [
        "print(classification_report(y_test, predict_svm))"
      ]
    },
    {
      "cell_type": "code",
      "execution_count": 90,
      "metadata": {},
      "outputs": [
        {
          "data": {
            "text/plain": [
              "Text(0.5, 1.0, 'Coeficientes SVM')"
            ]
          },
          "execution_count": 90,
          "metadata": {},
          "output_type": "execute_result"
        },
        {
          "data": {
            "image/png": "[encoded data removed]",
            "text/plain": [
              "<Figure size 640x480 with 1 Axes>"
            ]
          },
          "metadata": {},
          "output_type": "display_data"
        }
      ],
      "source": [
        "svm_coef =  pd.Series(svm.n_features_in_, index=X_train.columns)\n",
        "svm_imp_coef = pd.concat([svm_coef.sort_values().tail(5)])\n",
        "svm_imp_coef.plot(kind = \"barh\")\n",
        "plt.title(\"Coeficientes SVM\")"
      ]
    }
  ],
  "metadata": {
    "colab": {
      "collapsed_sections": [],
      "provenance": []
    },
    "kernelspec": {
      "display_name": "Python 3.10.7 64-bit",
      "language": "python",
      "name": "python3"
    },
    "language_info": {
      "codemirror_mode": {
        "name": "ipython",
        "version": 3
      },
      "file_extension": ".py",
      "mimetype": "text/x-python",
      "name": "python",
      "nbconvert_exporter": "python",
      "pygments_lexer": "ipython3",
      "version": "3.10.7"
    },
    "vscode": {
      "interpreter": {
        "hash": "334657c8e52fd71d95571d4aa266536ecfae8b05cb25ba6557c72dcb65d7c56a"
      }
    }
  },
  "nbformat": 4,
  "nbformat_minor": 0
}
