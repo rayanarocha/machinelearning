{
 "cells": [
  {
   "cell_type": "markdown",
   "metadata": {},
   "source": [
    "# Previsão de Votação de Deputados\n",
    "\n",
    "Modelos preditivos de regressão utilizando a biblioteca [scikit learn](http://scikit-learn.org/stable/index.html) para a predição dos votos de deputados federais considerando dados das últimas eleições.\n",
    "\n",
    "Tutorial utilizado como base [Regularized Linear Models](https://www.kaggle.com/apapiu/regularized-linear-models)\n"
   ]
  },
  {
   "cell_type": "code",
   "execution_count": 223,
   "metadata": {
    "collapsed": true
   },
   "outputs": [],
   "source": [
    "import pandas as pd\n",
    "import numpy as np\n",
    "import matplotlib.pyplot as plt\n",
    "import graphviz\n",
    "from sklearn import preprocessing\n",
    "from sklearn import tree\n",
    "from sklearn.preprocessing import OneHotEncoder\n",
    "from category_encoders.one_hot import OneHotEncoder\n",
    "from sklearn.model_selection import train_test_split\n",
    "from sklearn.model_selection import cross_val_score\n",
    "from sklearn.metrics import make_scorer, f1_score, precision_score, recall_score, accuracy_score\n",
    "from sklearn.metrics import classification_report\n",
    "from sklearn.linear_model import LogisticRegression\n",
    "from sklearn.tree import DecisionTreeClassifier\n",
    "from sklearn.ensemble import AdaBoostClassifier\n",
    "from sklearn.ensemble import RandomForestClassifier\n",
    "from sklearn.ensemble import GradientBoostingClassifier\n",
    "from sklearn.model_selection import KFold\n",
    "from imblearn.over_sampling import SMOTE\n",
    "from sklearn.ensemble import HistGradientBoostingClassifier\n",
    "from statistics import mean\n",
    "\n",
    "%matplotlib inline"
   ]
  },
  {
   "cell_type": "code",
   "execution_count": 224,
   "metadata": {
    "scrolled": true
   },
   "outputs": [],
   "source": [
    "train = pd.read_csv('train.csv')\n",
    "test = pd.read_csv('test.csv')\n"
   ]
  },
  {
   "cell_type": "code",
   "execution_count": 225,
   "metadata": {},
   "outputs": [
    {
     "data": {
      "text/plain": [
       "(7622, 24)"
      ]
     },
     "execution_count": 225,
     "metadata": {},
     "output_type": "execute_result"
    }
   ],
   "source": [
    "train.shape"
   ]
  },
  {
   "cell_type": "code",
   "execution_count": 226,
   "metadata": {},
   "outputs": [
    {
     "data": {
      "text/plain": [
       "ano                                      0\n",
       "sequencial_candidato                     0\n",
       "nome                                     0\n",
       "uf                                       0\n",
       "partido                                  0\n",
       "quantidade_doacoes                       0\n",
       "quantidade_doadores                      0\n",
       "total_receita                            0\n",
       "media_receita                            0\n",
       "recursos_de_outros_candidatos.comites    0\n",
       "recursos_de_pessoas_fisicas              0\n",
       "recursos_de_pessoas_juridicas            0\n",
       "recursos_proprios                        0\n",
       "recursos_de_partido_politico             0\n",
       "quantidade_despesas                      0\n",
       "quantidade_fornecedores                  0\n",
       "total_despesa                            0\n",
       "media_despesa                            0\n",
       "cargo                                    0\n",
       "sexo                                     0\n",
       "grau                                     0\n",
       "estado_civil                             0\n",
       "ocupacao                                 0\n",
       "dtype: int64"
      ]
     },
     "execution_count": 226,
     "metadata": {},
     "output_type": "execute_result"
    }
   ],
   "source": [
    "train.isnull().sum()\n",
    "test.isnull().sum()"
   ]
  },
  {
   "cell_type": "code",
   "execution_count": 227,
   "metadata": {},
   "outputs": [
    {
     "name": "stdout",
     "output_type": "stream",
     "text": [
      "\n",
      "Formato do dataset X_train: (7622, 19) \n",
      "\n",
      "\n",
      "Formato do dataset X_test: (4592, 19) \n",
      "\n"
     ]
    },
    {
     "data": {
      "text/html": [
       "<div>\n",
       "<style scoped>\n",
       "    .dataframe tbody tr th:only-of-type {\n",
       "        vertical-align: middle;\n",
       "    }\n",
       "\n",
       "    .dataframe tbody tr th {\n",
       "        vertical-align: top;\n",
       "    }\n",
       "\n",
       "    .dataframe thead th {\n",
       "        text-align: right;\n",
       "    }\n",
       "</style>\n",
       "<table border=\"1\" class=\"dataframe\">\n",
       "  <thead>\n",
       "    <tr style=\"text-align: right;\">\n",
       "      <th></th>\n",
       "      <th>partido</th>\n",
       "      <th>quantidade_doacoes</th>\n",
       "      <th>quantidade_doadores</th>\n",
       "      <th>total_receita</th>\n",
       "      <th>media_receita</th>\n",
       "      <th>recursos_de_outros_candidatos.comites</th>\n",
       "      <th>recursos_de_pessoas_fisicas</th>\n",
       "      <th>recursos_de_pessoas_juridicas</th>\n",
       "      <th>recursos_proprios</th>\n",
       "      <th>recursos_de_partido_politico</th>\n",
       "      <th>quantidade_despesas</th>\n",
       "      <th>quantidade_fornecedores</th>\n",
       "      <th>total_despesa</th>\n",
       "      <th>media_despesa</th>\n",
       "      <th>cargo</th>\n",
       "      <th>sexo</th>\n",
       "      <th>grau</th>\n",
       "      <th>estado_civil</th>\n",
       "      <th>ocupacao</th>\n",
       "    </tr>\n",
       "  </thead>\n",
       "  <tbody>\n",
       "    <tr>\n",
       "      <th>0</th>\n",
       "      <td>PT</td>\n",
       "      <td>6</td>\n",
       "      <td>6</td>\n",
       "      <td>16600.0</td>\n",
       "      <td>2766.67</td>\n",
       "      <td>0.0</td>\n",
       "      <td>9000.0</td>\n",
       "      <td>6300.0</td>\n",
       "      <td>1300.0</td>\n",
       "      <td>0.0</td>\n",
       "      <td>14</td>\n",
       "      <td>14</td>\n",
       "      <td>16583.60</td>\n",
       "      <td>1184.54</td>\n",
       "      <td>DEPUTADO FEDERAL</td>\n",
       "      <td>MASCULINO</td>\n",
       "      <td>ENSINO MÉDIO COMPLETO</td>\n",
       "      <td>CASADO(A)</td>\n",
       "      <td>VEREADOR</td>\n",
       "    </tr>\n",
       "    <tr>\n",
       "      <th>1</th>\n",
       "      <td>PT</td>\n",
       "      <td>13</td>\n",
       "      <td>13</td>\n",
       "      <td>22826.0</td>\n",
       "      <td>1755.85</td>\n",
       "      <td>6625.0</td>\n",
       "      <td>15000.0</td>\n",
       "      <td>1000.0</td>\n",
       "      <td>201.0</td>\n",
       "      <td>0.0</td>\n",
       "      <td>24</td>\n",
       "      <td>23</td>\n",
       "      <td>20325.99</td>\n",
       "      <td>846.92</td>\n",
       "      <td>DEPUTADO FEDERAL</td>\n",
       "      <td>FEMININO</td>\n",
       "      <td>SUPERIOR COMPLETO</td>\n",
       "      <td>SOLTEIRO(A)</td>\n",
       "      <td>SERVIDOR PÚBLICO ESTADUAL</td>\n",
       "    </tr>\n",
       "    <tr>\n",
       "      <th>2</th>\n",
       "      <td>PT</td>\n",
       "      <td>17</td>\n",
       "      <td>16</td>\n",
       "      <td>158120.8</td>\n",
       "      <td>9301.22</td>\n",
       "      <td>2250.0</td>\n",
       "      <td>34150.0</td>\n",
       "      <td>62220.8</td>\n",
       "      <td>59500.0</td>\n",
       "      <td>0.0</td>\n",
       "      <td>123</td>\n",
       "      <td>108</td>\n",
       "      <td>146011.70</td>\n",
       "      <td>1187.09</td>\n",
       "      <td>DEPUTADO FEDERAL</td>\n",
       "      <td>FEMININO</td>\n",
       "      <td>SUPERIOR COMPLETO</td>\n",
       "      <td>VIÚVO(A)</td>\n",
       "      <td>PEDAGOGO</td>\n",
       "    </tr>\n",
       "  </tbody>\n",
       "</table>\n",
       "</div>"
      ],
      "text/plain": [
       "  partido  quantidade_doacoes  quantidade_doadores  total_receita  \\\n",
       "0      PT                   6                    6        16600.0   \n",
       "1      PT                  13                   13        22826.0   \n",
       "2      PT                  17                   16       158120.8   \n",
       "\n",
       "   media_receita  recursos_de_outros_candidatos.comites  \\\n",
       "0        2766.67                                    0.0   \n",
       "1        1755.85                                 6625.0   \n",
       "2        9301.22                                 2250.0   \n",
       "\n",
       "   recursos_de_pessoas_fisicas  recursos_de_pessoas_juridicas  \\\n",
       "0                       9000.0                         6300.0   \n",
       "1                      15000.0                         1000.0   \n",
       "2                      34150.0                        62220.8   \n",
       "\n",
       "   recursos_proprios  recursos_de_partido_politico  quantidade_despesas  \\\n",
       "0             1300.0                           0.0                   14   \n",
       "1              201.0                           0.0                   24   \n",
       "2            59500.0                           0.0                  123   \n",
       "\n",
       "   quantidade_fornecedores  total_despesa  media_despesa             cargo  \\\n",
       "0                       14       16583.60        1184.54  DEPUTADO FEDERAL   \n",
       "1                       23       20325.99         846.92  DEPUTADO FEDERAL   \n",
       "2                      108      146011.70        1187.09  DEPUTADO FEDERAL   \n",
       "\n",
       "        sexo                   grau estado_civil                   ocupacao  \n",
       "0  MASCULINO  ENSINO MÉDIO COMPLETO    CASADO(A)                   VEREADOR  \n",
       "1   FEMININO      SUPERIOR COMPLETO  SOLTEIRO(A)  SERVIDOR PÚBLICO ESTADUAL  \n",
       "2   FEMININO      SUPERIOR COMPLETO     VIÚVO(A)                   PEDAGOGO  "
      ]
     },
     "execution_count": 227,
     "metadata": {},
     "output_type": "execute_result"
    }
   ],
   "source": [
    "x_train = train.loc[:,'partido':'ocupacao']\n",
    "x_test = test.loc[:,'partido':'ocupacao']\n",
    "print('\\nFormato do dataset X_train:',X_train.shape, '\\n')\n",
    "print('\\nFormato do dataset X_test:',X_test.shape, '\\n')\n",
    "x_train.head(3)"
   ]
  },
  {
   "cell_type": "code",
   "execution_count": 228,
   "metadata": {},
   "outputs": [
    {
     "data": {
      "text/plain": [
       "0       0\n",
       "1       0\n",
       "2       1\n",
       "3       0\n",
       "4       1\n",
       "       ..\n",
       "7617    0\n",
       "7618    0\n",
       "7619    0\n",
       "7620    0\n",
       "7621    0\n",
       "Name: situacao, Length: 7622, dtype: int64"
      ]
     },
     "execution_count": 228,
     "metadata": {},
     "output_type": "execute_result"
    }
   ],
   "source": [
    "y_train = pd.core.series.Series(train['situacao']=='eleito', dtype='int64')\n",
    "y_train"
   ]
  },
  {
   "cell_type": "markdown",
   "metadata": {},
   "source": [
    "Porcentagem de candidatos não eleitos"
   ]
  },
  {
   "cell_type": "code",
   "execution_count": 229,
   "metadata": {},
   "outputs": [
    {
     "name": "stdout",
     "output_type": "stream",
     "text": [
      "86.53896615061663\n"
     ]
    }
   ],
   "source": [
    "nao_eleito = 6596/len(train) * 100\n",
    "print(nao_eleito)"
   ]
  },
  {
   "cell_type": "markdown",
   "metadata": {},
   "source": [
    "Porcentagem de candidatos eleitos"
   ]
  },
  {
   "cell_type": "code",
   "execution_count": 230,
   "metadata": {},
   "outputs": [
    {
     "name": "stdout",
     "output_type": "stream",
     "text": [
      "13.46103384938337\n"
     ]
    }
   ],
   "source": [
    "eleitos = 100 - nao_eleito\n",
    "print(eleitos)"
   ]
  },
  {
   "cell_type": "code",
   "execution_count": 231,
   "metadata": {},
   "outputs": [
    {
     "data": {
      "text/plain": [
       "0       0\n",
       "1       0\n",
       "2       1\n",
       "3       0\n",
       "4       1\n",
       "       ..\n",
       "7617    0\n",
       "7618    0\n",
       "7619    0\n",
       "7620    0\n",
       "7621    0\n",
       "Name: situacao, Length: 7622, dtype: int64"
      ]
     },
     "execution_count": 231,
     "metadata": {},
     "output_type": "execute_result"
    }
   ],
   "source": [
    "y_train = pd.core.series.Series(train['situacao']=='eleito', dtype='int64')\n",
    "y_train"
   ]
  },
  {
   "cell_type": "code",
   "execution_count": 232,
   "metadata": {},
   "outputs": [
    {
     "data": {
      "text/plain": [
       "Index(['quantidade_doacoes', 'quantidade_doadores', 'total_receita',\n",
       "       'media_receita', 'recursos_de_outros_candidatos.comites',\n",
       "       'recursos_de_pessoas_fisicas', 'recursos_de_pessoas_juridicas',\n",
       "       'recursos_proprios', 'recursos_de_partido_politico',\n",
       "       'quantidade_despesas', 'quantidade_fornecedores', 'total_despesa',\n",
       "       'media_despesa'],\n",
       "      dtype='object')"
      ]
     },
     "execution_count": 232,
     "metadata": {},
     "output_type": "execute_result"
    }
   ],
   "source": [
    "numeric_features = x_train.dtypes[x_train.dtypes != \"object\"].index\n",
    "numeric_features"
   ]
  },
  {
   "cell_type": "code",
   "execution_count": 233,
   "metadata": {},
   "outputs": [
    {
     "data": {
      "text/html": [
       "<div>\n",
       "<style scoped>\n",
       "    .dataframe tbody tr th:only-of-type {\n",
       "        vertical-align: middle;\n",
       "    }\n",
       "\n",
       "    .dataframe tbody tr th {\n",
       "        vertical-align: top;\n",
       "    }\n",
       "\n",
       "    .dataframe thead th {\n",
       "        text-align: right;\n",
       "    }\n",
       "</style>\n",
       "<table border=\"1\" class=\"dataframe\">\n",
       "  <thead>\n",
       "    <tr style=\"text-align: right;\">\n",
       "      <th></th>\n",
       "      <th>partido</th>\n",
       "      <th>quantidade_doacoes</th>\n",
       "      <th>quantidade_doadores</th>\n",
       "      <th>total_receita</th>\n",
       "      <th>media_receita</th>\n",
       "      <th>recursos_de_outros_candidatos.comites</th>\n",
       "      <th>recursos_de_pessoas_fisicas</th>\n",
       "      <th>recursos_de_pessoas_juridicas</th>\n",
       "      <th>recursos_proprios</th>\n",
       "      <th>recursos_de_partido_politico</th>\n",
       "      <th>quantidade_despesas</th>\n",
       "      <th>quantidade_fornecedores</th>\n",
       "      <th>total_despesa</th>\n",
       "      <th>media_despesa</th>\n",
       "      <th>cargo</th>\n",
       "      <th>sexo</th>\n",
       "      <th>grau</th>\n",
       "      <th>estado_civil</th>\n",
       "      <th>ocupacao</th>\n",
       "    </tr>\n",
       "  </thead>\n",
       "  <tbody>\n",
       "    <tr>\n",
       "      <th>0</th>\n",
       "      <td>PT</td>\n",
       "      <td>1.945910</td>\n",
       "      <td>1.945910</td>\n",
       "      <td>9.717218</td>\n",
       "      <td>7.925761</td>\n",
       "      <td>0.000000</td>\n",
       "      <td>9.105091</td>\n",
       "      <td>8.748464</td>\n",
       "      <td>7.170888</td>\n",
       "      <td>0.0</td>\n",
       "      <td>2.708050</td>\n",
       "      <td>2.708050</td>\n",
       "      <td>9.716230</td>\n",
       "      <td>7.077954</td>\n",
       "      <td>DEPUTADO FEDERAL</td>\n",
       "      <td>MASCULINO</td>\n",
       "      <td>ENSINO MÉDIO COMPLETO</td>\n",
       "      <td>CASADO(A)</td>\n",
       "      <td>VEREADOR</td>\n",
       "    </tr>\n",
       "    <tr>\n",
       "      <th>1</th>\n",
       "      <td>PT</td>\n",
       "      <td>2.639057</td>\n",
       "      <td>2.639057</td>\n",
       "      <td>10.035699</td>\n",
       "      <td>7.471278</td>\n",
       "      <td>8.798757</td>\n",
       "      <td>9.615872</td>\n",
       "      <td>6.908755</td>\n",
       "      <td>5.308268</td>\n",
       "      <td>0.0</td>\n",
       "      <td>3.218876</td>\n",
       "      <td>3.178054</td>\n",
       "      <td>9.919705</td>\n",
       "      <td>6.742786</td>\n",
       "      <td>DEPUTADO FEDERAL</td>\n",
       "      <td>FEMININO</td>\n",
       "      <td>SUPERIOR COMPLETO</td>\n",
       "      <td>SOLTEIRO(A)</td>\n",
       "      <td>SERVIDOR PÚBLICO ESTADUAL</td>\n",
       "    </tr>\n",
       "    <tr>\n",
       "      <th>2</th>\n",
       "      <td>PT</td>\n",
       "      <td>2.890372</td>\n",
       "      <td>2.833213</td>\n",
       "      <td>11.971121</td>\n",
       "      <td>9.138008</td>\n",
       "      <td>7.719130</td>\n",
       "      <td>10.438547</td>\n",
       "      <td>11.038461</td>\n",
       "      <td>10.993748</td>\n",
       "      <td>0.0</td>\n",
       "      <td>4.820282</td>\n",
       "      <td>4.691348</td>\n",
       "      <td>11.891449</td>\n",
       "      <td>7.080102</td>\n",
       "      <td>DEPUTADO FEDERAL</td>\n",
       "      <td>FEMININO</td>\n",
       "      <td>SUPERIOR COMPLETO</td>\n",
       "      <td>VIÚVO(A)</td>\n",
       "      <td>PEDAGOGO</td>\n",
       "    </tr>\n",
       "  </tbody>\n",
       "</table>\n",
       "</div>"
      ],
      "text/plain": [
       "  partido  quantidade_doacoes  quantidade_doadores  total_receita  \\\n",
       "0      PT            1.945910             1.945910       9.717218   \n",
       "1      PT            2.639057             2.639057      10.035699   \n",
       "2      PT            2.890372             2.833213      11.971121   \n",
       "\n",
       "   media_receita  recursos_de_outros_candidatos.comites  \\\n",
       "0       7.925761                               0.000000   \n",
       "1       7.471278                               8.798757   \n",
       "2       9.138008                               7.719130   \n",
       "\n",
       "   recursos_de_pessoas_fisicas  recursos_de_pessoas_juridicas  \\\n",
       "0                     9.105091                       8.748464   \n",
       "1                     9.615872                       6.908755   \n",
       "2                    10.438547                      11.038461   \n",
       "\n",
       "   recursos_proprios  recursos_de_partido_politico  quantidade_despesas  \\\n",
       "0           7.170888                           0.0             2.708050   \n",
       "1           5.308268                           0.0             3.218876   \n",
       "2          10.993748                           0.0             4.820282   \n",
       "\n",
       "   quantidade_fornecedores  total_despesa  media_despesa             cargo  \\\n",
       "0                 2.708050       9.716230       7.077954  DEPUTADO FEDERAL   \n",
       "1                 3.178054       9.919705       6.742786  DEPUTADO FEDERAL   \n",
       "2                 4.691348      11.891449       7.080102  DEPUTADO FEDERAL   \n",
       "\n",
       "        sexo                   grau estado_civil                   ocupacao  \n",
       "0  MASCULINO  ENSINO MÉDIO COMPLETO    CASADO(A)                   VEREADOR  \n",
       "1   FEMININO      SUPERIOR COMPLETO  SOLTEIRO(A)  SERVIDOR PÚBLICO ESTADUAL  \n",
       "2   FEMININO      SUPERIOR COMPLETO     VIÚVO(A)                   PEDAGOGO  "
      ]
     },
     "execution_count": 233,
     "metadata": {},
     "output_type": "execute_result"
    }
   ],
   "source": [
    "x_train[numeric_features] = np.log1p(x_train[numeric_features])\n",
    "x_test[numeric_features] = np.log1p(x_test[numeric_features])\n",
    "x_train.head(3)"
   ]
  },
  {
   "cell_type": "code",
   "execution_count": 234,
   "metadata": {},
   "outputs": [
    {
     "data": {
      "text/plain": [
       "Index(['partido', 'cargo', 'sexo', 'grau', 'estado_civil', 'ocupacao'], dtype='object')"
      ]
     },
     "execution_count": 234,
     "metadata": {},
     "output_type": "execute_result"
    }
   ],
   "source": [
    "categorical_features = x_train.dtypes[x_train.dtypes == \"object\"].index\n",
    "categorical_features"
   ]
  },
  {
   "cell_type": "code",
   "execution_count": 235,
   "metadata": {},
   "outputs": [
    {
     "data": {
      "text/html": [
       "<div>\n",
       "<style scoped>\n",
       "    .dataframe tbody tr th:only-of-type {\n",
       "        vertical-align: middle;\n",
       "    }\n",
       "\n",
       "    .dataframe tbody tr th {\n",
       "        vertical-align: top;\n",
       "    }\n",
       "\n",
       "    .dataframe thead th {\n",
       "        text-align: right;\n",
       "    }\n",
       "</style>\n",
       "<table border=\"1\" class=\"dataframe\">\n",
       "  <thead>\n",
       "    <tr style=\"text-align: right;\">\n",
       "      <th></th>\n",
       "      <th>partido</th>\n",
       "      <th>quantidade_doacoes</th>\n",
       "      <th>quantidade_doadores</th>\n",
       "      <th>total_receita</th>\n",
       "      <th>media_receita</th>\n",
       "      <th>recursos_de_outros_candidatos.comites</th>\n",
       "      <th>recursos_de_pessoas_fisicas</th>\n",
       "      <th>recursos_de_pessoas_juridicas</th>\n",
       "      <th>recursos_proprios</th>\n",
       "      <th>recursos_de_partido_politico</th>\n",
       "      <th>quantidade_despesas</th>\n",
       "      <th>quantidade_fornecedores</th>\n",
       "      <th>total_despesa</th>\n",
       "      <th>media_despesa</th>\n",
       "      <th>cargo</th>\n",
       "      <th>sexo</th>\n",
       "      <th>grau</th>\n",
       "      <th>estado_civil</th>\n",
       "      <th>ocupacao</th>\n",
       "    </tr>\n",
       "  </thead>\n",
       "  <tbody>\n",
       "    <tr>\n",
       "      <th>0</th>\n",
       "      <td>PT</td>\n",
       "      <td>0.153520</td>\n",
       "      <td>0.157133</td>\n",
       "      <td>0.624727</td>\n",
       "      <td>0.603972</td>\n",
       "      <td>0.000000</td>\n",
       "      <td>0.643280</td>\n",
       "      <td>0.584328</td>\n",
       "      <td>0.461896</td>\n",
       "      <td>0.0</td>\n",
       "      <td>0.236756</td>\n",
       "      <td>0.241651</td>\n",
       "      <td>0.629989</td>\n",
       "      <td>0.539366</td>\n",
       "      <td>DEPUTADO FEDERAL</td>\n",
       "      <td>MASCULINO</td>\n",
       "      <td>ENSINO MÉDIO COMPLETO</td>\n",
       "      <td>CASADO(A)</td>\n",
       "      <td>VEREADOR</td>\n",
       "    </tr>\n",
       "    <tr>\n",
       "      <th>1</th>\n",
       "      <td>PT</td>\n",
       "      <td>0.238463</td>\n",
       "      <td>0.244074</td>\n",
       "      <td>0.645203</td>\n",
       "      <td>0.569339</td>\n",
       "      <td>0.582155</td>\n",
       "      <td>0.679367</td>\n",
       "      <td>0.461450</td>\n",
       "      <td>0.341920</td>\n",
       "      <td>0.0</td>\n",
       "      <td>0.296779</td>\n",
       "      <td>0.298020</td>\n",
       "      <td>0.643183</td>\n",
       "      <td>0.513825</td>\n",
       "      <td>DEPUTADO FEDERAL</td>\n",
       "      <td>FEMININO</td>\n",
       "      <td>SUPERIOR COMPLETO</td>\n",
       "      <td>SOLTEIRO(A)</td>\n",
       "      <td>SERVIDOR PÚBLICO ESTADUAL</td>\n",
       "    </tr>\n",
       "    <tr>\n",
       "      <th>2</th>\n",
       "      <td>PT</td>\n",
       "      <td>0.269260</td>\n",
       "      <td>0.268426</td>\n",
       "      <td>0.769633</td>\n",
       "      <td>0.696350</td>\n",
       "      <td>0.510723</td>\n",
       "      <td>0.737490</td>\n",
       "      <td>0.737282</td>\n",
       "      <td>0.708136</td>\n",
       "      <td>0.0</td>\n",
       "      <td>0.484948</td>\n",
       "      <td>0.479512</td>\n",
       "      <td>0.771028</td>\n",
       "      <td>0.539530</td>\n",
       "      <td>DEPUTADO FEDERAL</td>\n",
       "      <td>FEMININO</td>\n",
       "      <td>SUPERIOR COMPLETO</td>\n",
       "      <td>VIÚVO(A)</td>\n",
       "      <td>PEDAGOGO</td>\n",
       "    </tr>\n",
       "  </tbody>\n",
       "</table>\n",
       "</div>"
      ],
      "text/plain": [
       "  partido  quantidade_doacoes  quantidade_doadores  total_receita  \\\n",
       "0      PT            0.153520             0.157133       0.624727   \n",
       "1      PT            0.238463             0.244074       0.645203   \n",
       "2      PT            0.269260             0.268426       0.769633   \n",
       "\n",
       "   media_receita  recursos_de_outros_candidatos.comites  \\\n",
       "0       0.603972                               0.000000   \n",
       "1       0.569339                               0.582155   \n",
       "2       0.696350                               0.510723   \n",
       "\n",
       "   recursos_de_pessoas_fisicas  recursos_de_pessoas_juridicas  \\\n",
       "0                     0.643280                       0.584328   \n",
       "1                     0.679367                       0.461450   \n",
       "2                     0.737490                       0.737282   \n",
       "\n",
       "   recursos_proprios  recursos_de_partido_politico  quantidade_despesas  \\\n",
       "0           0.461896                           0.0             0.236756   \n",
       "1           0.341920                           0.0             0.296779   \n",
       "2           0.708136                           0.0             0.484948   \n",
       "\n",
       "   quantidade_fornecedores  total_despesa  media_despesa             cargo  \\\n",
       "0                 0.241651       0.629989       0.539366  DEPUTADO FEDERAL   \n",
       "1                 0.298020       0.643183       0.513825  DEPUTADO FEDERAL   \n",
       "2                 0.479512       0.771028       0.539530  DEPUTADO FEDERAL   \n",
       "\n",
       "        sexo                   grau estado_civil                   ocupacao  \n",
       "0  MASCULINO  ENSINO MÉDIO COMPLETO    CASADO(A)                   VEREADOR  \n",
       "1   FEMININO      SUPERIOR COMPLETO  SOLTEIRO(A)  SERVIDOR PÚBLICO ESTADUAL  \n",
       "2   FEMININO      SUPERIOR COMPLETO     VIÚVO(A)                   PEDAGOGO  "
      ]
     },
     "execution_count": 235,
     "metadata": {},
     "output_type": "execute_result"
    }
   ],
   "source": [
    "min_max_scaler = preprocessing.MinMaxScaler()\n",
    "x_train[numeric_features] = min_max_scaler.fit_transform(x_train[numeric_features])\n",
    "x_test[numeric_features] = min_max_scaler.fit_transform(x_test[numeric_features])\n",
    "x_train.head(3)"
   ]
  },
  {
   "cell_type": "code",
   "execution_count": 236,
   "metadata": {},
   "outputs": [
    {
     "data": {
      "text/plain": [
       "((7622, 19), (4592, 19))"
      ]
     },
     "execution_count": 236,
     "metadata": {},
     "output_type": "execute_result"
    }
   ],
   "source": [
    "x_train.shape, x_test.shape"
   ]
  },
  {
   "cell_type": "markdown",
   "metadata": {},
   "source": [
    "#### 1. Há desbalanceamento das classes (isto é, uma classe tem muito mais instâncias que outra)? Em que proporção? Quais efeitos colaterais o desbalanceamento de classes pode causar no classificador? Como você poderia tratar isso? (10 pt.)"
   ]
  },
  {
   "cell_type": "code",
   "execution_count": 237,
   "metadata": {},
   "outputs": [
    {
     "data": {
      "text/plain": [
       "nao_eleito    6596\n",
       "eleito        1026\n",
       "Name: situacao, dtype: int64"
      ]
     },
     "execution_count": 237,
     "metadata": {},
     "output_type": "execute_result"
    }
   ],
   "source": [
    "train['situacao'].value_counts()"
   ]
  },
  {
   "cell_type": "code",
   "execution_count": 238,
   "metadata": {},
   "outputs": [
    {
     "name": "stdout",
     "output_type": "stream",
     "text": [
      "Total de variáveis dummy: 222\n"
     ]
    },
    {
     "name": "stderr",
     "output_type": "stream",
     "text": [
      "c:\\Users\\rayan\\AppData\\Local\\Programs\\Python\\Python310\\lib\\site-packages\\category_encoders\\one_hot.py:145: FutureWarning: iteritems is deprecated and will be removed in a future version. Use .items instead.\n",
      "  for cat_name, class_ in values.iteritems():\n",
      "c:\\Users\\rayan\\AppData\\Local\\Programs\\Python\\Python310\\lib\\site-packages\\category_encoders\\one_hot.py:145: FutureWarning: iteritems is deprecated and will be removed in a future version. Use .items instead.\n",
      "  for cat_name, class_ in values.iteritems():\n",
      "c:\\Users\\rayan\\AppData\\Local\\Programs\\Python\\Python310\\lib\\site-packages\\category_encoders\\one_hot.py:145: FutureWarning: iteritems is deprecated and will be removed in a future version. Use .items instead.\n",
      "  for cat_name, class_ in values.iteritems():\n",
      "c:\\Users\\rayan\\AppData\\Local\\Programs\\Python\\Python310\\lib\\site-packages\\category_encoders\\one_hot.py:145: FutureWarning: iteritems is deprecated and will be removed in a future version. Use .items instead.\n",
      "  for cat_name, class_ in values.iteritems():\n",
      "c:\\Users\\rayan\\AppData\\Local\\Programs\\Python\\Python310\\lib\\site-packages\\category_encoders\\one_hot.py:145: FutureWarning: iteritems is deprecated and will be removed in a future version. Use .items instead.\n",
      "  for cat_name, class_ in values.iteritems():\n",
      "c:\\Users\\rayan\\AppData\\Local\\Programs\\Python\\Python310\\lib\\site-packages\\category_encoders\\one_hot.py:145: FutureWarning: iteritems is deprecated and will be removed in a future version. Use .items instead.\n",
      "  for cat_name, class_ in values.iteritems():\n",
      "c:\\Users\\rayan\\AppData\\Local\\Programs\\Python\\Python310\\lib\\site-packages\\category_encoders\\one_hot.py:145: FutureWarning: iteritems is deprecated and will be removed in a future version. Use .items instead.\n",
      "  for cat_name, class_ in values.iteritems():\n",
      "c:\\Users\\rayan\\AppData\\Local\\Programs\\Python\\Python310\\lib\\site-packages\\category_encoders\\one_hot.py:145: FutureWarning: iteritems is deprecated and will be removed in a future version. Use .items instead.\n",
      "  for cat_name, class_ in values.iteritems():\n",
      "c:\\Users\\rayan\\AppData\\Local\\Programs\\Python\\Python310\\lib\\site-packages\\category_encoders\\one_hot.py:145: FutureWarning: iteritems is deprecated and will be removed in a future version. Use .items instead.\n",
      "  for cat_name, class_ in values.iteritems():\n",
      "c:\\Users\\rayan\\AppData\\Local\\Programs\\Python\\Python310\\lib\\site-packages\\category_encoders\\one_hot.py:145: FutureWarning: iteritems is deprecated and will be removed in a future version. Use .items instead.\n",
      "  for cat_name, class_ in values.iteritems():\n",
      "c:\\Users\\rayan\\AppData\\Local\\Programs\\Python\\Python310\\lib\\site-packages\\category_encoders\\one_hot.py:145: FutureWarning: iteritems is deprecated and will be removed in a future version. Use .items instead.\n",
      "  for cat_name, class_ in values.iteritems():\n",
      "c:\\Users\\rayan\\AppData\\Local\\Programs\\Python\\Python310\\lib\\site-packages\\category_encoders\\one_hot.py:145: FutureWarning: iteritems is deprecated and will be removed in a future version. Use .items instead.\n",
      "  for cat_name, class_ in values.iteritems():\n"
     ]
    }
   ],
   "source": [
    "onehotencode = OneHotEncoder(x_train[categorical_features], use_cat_names=True)\n",
    "#x_train = onehotencode.fit(x)\n",
    "dummies = onehotencode.fit_transform(x_train[categorical_features])\n",
    "variaveis_dummies = list(onehotencode.get_feature_names())\n",
    "print('Total de variáveis dummy:', len(variaveis_dummies))\n",
    "variaveis_dummies\n",
    "train_ohe_test = onehotencode.fit(x_test)"
   ]
  },
  {
   "cell_type": "code",
   "execution_count": 239,
   "metadata": {},
   "outputs": [
    {
     "name": "stdout",
     "output_type": "stream",
     "text": [
      "(7622, 222)\n"
     ]
    },
    {
     "data": {
      "text/html": [
       "<div>\n",
       "<style scoped>\n",
       "    .dataframe tbody tr th:only-of-type {\n",
       "        vertical-align: middle;\n",
       "    }\n",
       "\n",
       "    .dataframe tbody tr th {\n",
       "        vertical-align: top;\n",
       "    }\n",
       "\n",
       "    .dataframe thead th {\n",
       "        text-align: right;\n",
       "    }\n",
       "</style>\n",
       "<table border=\"1\" class=\"dataframe\">\n",
       "  <thead>\n",
       "    <tr style=\"text-align: right;\">\n",
       "      <th></th>\n",
       "      <th>partido_PT</th>\n",
       "      <th>partido_PRONA</th>\n",
       "      <th>partido_PCO</th>\n",
       "      <th>partido_PPS</th>\n",
       "      <th>partido_PAN</th>\n",
       "      <th>partido_PSOL</th>\n",
       "      <th>partido_PSTU</th>\n",
       "      <th>partido_PSDC</th>\n",
       "      <th>partido_PDT</th>\n",
       "      <th>partido_PL</th>\n",
       "      <th>...</th>\n",
       "      <th>ocupacao_SERVIDOR DA JUSTIÇA ELEITORAL</th>\n",
       "      <th>ocupacao_FRENTISTA</th>\n",
       "      <th>ocupacao_COMUNICÓLOGO</th>\n",
       "      <th>ocupacao_ESTIVADOR, CARREGADOR E ASSEMELHADOS</th>\n",
       "      <th>ocupacao_SECURITÁRIO</th>\n",
       "      <th>ocupacao_FAXINEIRO</th>\n",
       "      <th>ocupacao_MODELO</th>\n",
       "      <th>ocupacao_ASTRÔNOMO</th>\n",
       "      <th>ocupacao_FISCAL DE TRANSPORTE COLETIVO</th>\n",
       "      <th>ocupacao_FONOAUDIÓLOGO</th>\n",
       "    </tr>\n",
       "  </thead>\n",
       "  <tbody>\n",
       "    <tr>\n",
       "      <th>0</th>\n",
       "      <td>1</td>\n",
       "      <td>0</td>\n",
       "      <td>0</td>\n",
       "      <td>0</td>\n",
       "      <td>0</td>\n",
       "      <td>0</td>\n",
       "      <td>0</td>\n",
       "      <td>0</td>\n",
       "      <td>0</td>\n",
       "      <td>0</td>\n",
       "      <td>...</td>\n",
       "      <td>0</td>\n",
       "      <td>0</td>\n",
       "      <td>0</td>\n",
       "      <td>0</td>\n",
       "      <td>0</td>\n",
       "      <td>0</td>\n",
       "      <td>0</td>\n",
       "      <td>0</td>\n",
       "      <td>0</td>\n",
       "      <td>0</td>\n",
       "    </tr>\n",
       "    <tr>\n",
       "      <th>1</th>\n",
       "      <td>1</td>\n",
       "      <td>0</td>\n",
       "      <td>0</td>\n",
       "      <td>0</td>\n",
       "      <td>0</td>\n",
       "      <td>0</td>\n",
       "      <td>0</td>\n",
       "      <td>0</td>\n",
       "      <td>0</td>\n",
       "      <td>0</td>\n",
       "      <td>...</td>\n",
       "      <td>0</td>\n",
       "      <td>0</td>\n",
       "      <td>0</td>\n",
       "      <td>0</td>\n",
       "      <td>0</td>\n",
       "      <td>0</td>\n",
       "      <td>0</td>\n",
       "      <td>0</td>\n",
       "      <td>0</td>\n",
       "      <td>0</td>\n",
       "    </tr>\n",
       "    <tr>\n",
       "      <th>2</th>\n",
       "      <td>1</td>\n",
       "      <td>0</td>\n",
       "      <td>0</td>\n",
       "      <td>0</td>\n",
       "      <td>0</td>\n",
       "      <td>0</td>\n",
       "      <td>0</td>\n",
       "      <td>0</td>\n",
       "      <td>0</td>\n",
       "      <td>0</td>\n",
       "      <td>...</td>\n",
       "      <td>0</td>\n",
       "      <td>0</td>\n",
       "      <td>0</td>\n",
       "      <td>0</td>\n",
       "      <td>0</td>\n",
       "      <td>0</td>\n",
       "      <td>0</td>\n",
       "      <td>0</td>\n",
       "      <td>0</td>\n",
       "      <td>0</td>\n",
       "    </tr>\n",
       "  </tbody>\n",
       "</table>\n",
       "<p>3 rows × 222 columns</p>\n",
       "</div>"
      ],
      "text/plain": [
       "   partido_PT  partido_PRONA  partido_PCO  partido_PPS  partido_PAN  \\\n",
       "0           1              0            0            0            0   \n",
       "1           1              0            0            0            0   \n",
       "2           1              0            0            0            0   \n",
       "\n",
       "   partido_PSOL  partido_PSTU  partido_PSDC  partido_PDT  partido_PL  ...  \\\n",
       "0             0             0             0            0           0  ...   \n",
       "1             0             0             0            0           0  ...   \n",
       "2             0             0             0            0           0  ...   \n",
       "\n",
       "   ocupacao_SERVIDOR DA JUSTIÇA ELEITORAL  ocupacao_FRENTISTA  \\\n",
       "0                                       0                   0   \n",
       "1                                       0                   0   \n",
       "2                                       0                   0   \n",
       "\n",
       "   ocupacao_COMUNICÓLOGO  ocupacao_ESTIVADOR, CARREGADOR E ASSEMELHADOS  \\\n",
       "0                      0                                              0   \n",
       "1                      0                                              0   \n",
       "2                      0                                              0   \n",
       "\n",
       "   ocupacao_SECURITÁRIO  ocupacao_FAXINEIRO  ocupacao_MODELO  \\\n",
       "0                     0                   0                0   \n",
       "1                     0                   0                0   \n",
       "2                     0                   0                0   \n",
       "\n",
       "   ocupacao_ASTRÔNOMO  ocupacao_FISCAL DE TRANSPORTE COLETIVO  \\\n",
       "0                   0                                       0   \n",
       "1                   0                                       0   \n",
       "2                   0                                       0   \n",
       "\n",
       "   ocupacao_FONOAUDIÓLOGO  \n",
       "0                       0  \n",
       "1                       0  \n",
       "2                       0  \n",
       "\n",
       "[3 rows x 222 columns]"
      ]
     },
     "execution_count": 239,
     "metadata": {},
     "output_type": "execute_result"
    }
   ],
   "source": [
    "dummies = pd.DataFrame(dummies, columns = variaveis_dummies)\n",
    "print(dummies.shape)\n",
    "dummies.head(3)"
   ]
  },
  {
   "cell_type": "code",
   "execution_count": 246,
   "metadata": {},
   "outputs": [
    {
     "name": "stdout",
     "output_type": "stream",
     "text": [
      "(5716, 235)\n"
     ]
    },
    {
     "data": {
      "text/html": [
       "<div>\n",
       "<style scoped>\n",
       "    .dataframe tbody tr th:only-of-type {\n",
       "        vertical-align: middle;\n",
       "    }\n",
       "\n",
       "    .dataframe tbody tr th {\n",
       "        vertical-align: top;\n",
       "    }\n",
       "\n",
       "    .dataframe thead th {\n",
       "        text-align: right;\n",
       "    }\n",
       "</style>\n",
       "<table border=\"1\" class=\"dataframe\">\n",
       "  <thead>\n",
       "    <tr style=\"text-align: right;\">\n",
       "      <th></th>\n",
       "      <th>quantidade_doacoes</th>\n",
       "      <th>quantidade_doadores</th>\n",
       "      <th>total_receita</th>\n",
       "      <th>media_receita</th>\n",
       "      <th>recursos_de_outros_candidatos.comites</th>\n",
       "      <th>recursos_de_pessoas_fisicas</th>\n",
       "      <th>recursos_de_pessoas_juridicas</th>\n",
       "      <th>recursos_proprios</th>\n",
       "      <th>recursos_de_partido_politico</th>\n",
       "      <th>quantidade_despesas</th>\n",
       "      <th>...</th>\n",
       "      <th>ocupacao_SERVIDOR DA JUSTIÇA ELEITORAL</th>\n",
       "      <th>ocupacao_FRENTISTA</th>\n",
       "      <th>ocupacao_COMUNICÓLOGO</th>\n",
       "      <th>ocupacao_ESTIVADOR, CARREGADOR E ASSEMELHADOS</th>\n",
       "      <th>ocupacao_SECURITÁRIO</th>\n",
       "      <th>ocupacao_FAXINEIRO</th>\n",
       "      <th>ocupacao_MODELO</th>\n",
       "      <th>ocupacao_ASTRÔNOMO</th>\n",
       "      <th>ocupacao_FISCAL DE TRANSPORTE COLETIVO</th>\n",
       "      <th>ocupacao_FONOAUDIÓLOGO</th>\n",
       "    </tr>\n",
       "  </thead>\n",
       "  <tbody>\n",
       "    <tr>\n",
       "      <th>7583</th>\n",
       "      <td>NaN</td>\n",
       "      <td>NaN</td>\n",
       "      <td>NaN</td>\n",
       "      <td>NaN</td>\n",
       "      <td>NaN</td>\n",
       "      <td>NaN</td>\n",
       "      <td>NaN</td>\n",
       "      <td>NaN</td>\n",
       "      <td>NaN</td>\n",
       "      <td>NaN</td>\n",
       "      <td>...</td>\n",
       "      <td>0</td>\n",
       "      <td>0</td>\n",
       "      <td>0</td>\n",
       "      <td>0</td>\n",
       "      <td>0</td>\n",
       "      <td>0</td>\n",
       "      <td>0</td>\n",
       "      <td>0</td>\n",
       "      <td>0</td>\n",
       "      <td>0</td>\n",
       "    </tr>\n",
       "    <tr>\n",
       "      <th>596</th>\n",
       "      <td>10.0</td>\n",
       "      <td>8.0</td>\n",
       "      <td>68197.1</td>\n",
       "      <td>6819.71</td>\n",
       "      <td>40000.0</td>\n",
       "      <td>3000.0</td>\n",
       "      <td>8000.0</td>\n",
       "      <td>17197.1</td>\n",
       "      <td>0.0</td>\n",
       "      <td>153.0</td>\n",
       "      <td>...</td>\n",
       "      <td>0</td>\n",
       "      <td>0</td>\n",
       "      <td>0</td>\n",
       "      <td>0</td>\n",
       "      <td>0</td>\n",
       "      <td>0</td>\n",
       "      <td>0</td>\n",
       "      <td>0</td>\n",
       "      <td>0</td>\n",
       "      <td>0</td>\n",
       "    </tr>\n",
       "    <tr>\n",
       "      <th>3517</th>\n",
       "      <td>NaN</td>\n",
       "      <td>NaN</td>\n",
       "      <td>NaN</td>\n",
       "      <td>NaN</td>\n",
       "      <td>NaN</td>\n",
       "      <td>NaN</td>\n",
       "      <td>NaN</td>\n",
       "      <td>NaN</td>\n",
       "      <td>NaN</td>\n",
       "      <td>NaN</td>\n",
       "      <td>...</td>\n",
       "      <td>0</td>\n",
       "      <td>0</td>\n",
       "      <td>0</td>\n",
       "      <td>0</td>\n",
       "      <td>0</td>\n",
       "      <td>0</td>\n",
       "      <td>0</td>\n",
       "      <td>0</td>\n",
       "      <td>0</td>\n",
       "      <td>0</td>\n",
       "    </tr>\n",
       "  </tbody>\n",
       "</table>\n",
       "<p>3 rows × 235 columns</p>\n",
       "</div>"
      ],
      "text/plain": [
       "      quantidade_doacoes  quantidade_doadores  total_receita  media_receita  \\\n",
       "7583                 NaN                  NaN            NaN            NaN   \n",
       "596                 10.0                  8.0        68197.1        6819.71   \n",
       "3517                 NaN                  NaN            NaN            NaN   \n",
       "\n",
       "      recursos_de_outros_candidatos.comites  recursos_de_pessoas_fisicas  \\\n",
       "7583                                    NaN                          NaN   \n",
       "596                                 40000.0                       3000.0   \n",
       "3517                                    NaN                          NaN   \n",
       "\n",
       "      recursos_de_pessoas_juridicas  recursos_proprios  \\\n",
       "7583                            NaN                NaN   \n",
       "596                          8000.0            17197.1   \n",
       "3517                            NaN                NaN   \n",
       "\n",
       "      recursos_de_partido_politico  quantidade_despesas  ...  \\\n",
       "7583                           NaN                  NaN  ...   \n",
       "596                            0.0                153.0  ...   \n",
       "3517                           NaN                  NaN  ...   \n",
       "\n",
       "      ocupacao_SERVIDOR DA JUSTIÇA ELEITORAL  ocupacao_FRENTISTA  \\\n",
       "7583                                       0                   0   \n",
       "596                                        0                   0   \n",
       "3517                                       0                   0   \n",
       "\n",
       "      ocupacao_COMUNICÓLOGO  ocupacao_ESTIVADOR, CARREGADOR E ASSEMELHADOS  \\\n",
       "7583                      0                                              0   \n",
       "596                       0                                              0   \n",
       "3517                      0                                              0   \n",
       "\n",
       "      ocupacao_SECURITÁRIO  ocupacao_FAXINEIRO  ocupacao_MODELO  \\\n",
       "7583                     0                   0                0   \n",
       "596                      0                   0                0   \n",
       "3517                     0                   0                0   \n",
       "\n",
       "      ocupacao_ASTRÔNOMO  ocupacao_FISCAL DE TRANSPORTE COLETIVO  \\\n",
       "7583                   0                                       0   \n",
       "596                    0                                       0   \n",
       "3517                   0                                       0   \n",
       "\n",
       "      ocupacao_FONOAUDIÓLOGO  \n",
       "7583                       0  \n",
       "596                        0  \n",
       "3517                       0  \n",
       "\n",
       "[3 rows x 235 columns]"
      ]
     },
     "execution_count": 246,
     "metadata": {},
     "output_type": "execute_result"
    }
   ],
   "source": [
    "x = pd.concat([x_train[numeric_features], dummies], axis=1)\n",
    "print(x_train.shape)\n",
    "x_train.head(3)"
   ]
  },
  {
   "cell_type": "code",
   "execution_count": 241,
   "metadata": {},
   "outputs": [
    {
     "data": {
      "text/plain": [
       "((5716, 235), (1906, 235), (5716, 1), (1906, 1))"
      ]
     },
     "execution_count": 241,
     "metadata": {},
     "output_type": "execute_result"
    }
   ],
   "source": [
    "x_train, x_test, y_train, y_test = train_test_split(x, y)\n",
    "x_train.shape, x_test.shape, y_train.shape, y_test.shape"
   ]
  },
  {
   "cell_type": "code",
   "execution_count": 242,
   "metadata": {},
   "outputs": [],
   "source": [
    "def validacao_cruzada(modelo, x, y, oversampling=False):\n",
    "    kfold = KFold(n_splits=5)\n",
    "    acuracias_split = []\n",
    "\n",
    "    for idx, (idx_treino, idx_validacao) in enumerate(kfold.split(x)):\n",
    "        x_split_treino = x.iloc[idx_treino, :]\n",
    "        y_split_treino = y.iloc[idx_treino, :]\n",
    "\n",
    "        if oversampling:\n",
    "            sm = SMOTE(random_state=42)\n",
    "            x_split_treino, y_split_treino = sm.fit_resample(x_split_treino, y_split_treino)\n",
    "\n",
    "        modelo.fit(x_split_treino, y_split_treino.values.flatten())\n",
    "\n",
    "        x_split_validacao = x.iloc[idx_validacao, :]\n",
    "        y_split_validacao = y.iloc[idx_validacao, :]\n",
    "\n",
    "        predicoes_validacao = modelo.predict(x_split_validacao)\n",
    "\n",
    "        acuracia_split = accuracy_score(y_split_validacao, predicoes_validacao)\n",
    "\n",
    "        acuracias_split.append(acuracia_split)\n",
    "\n",
    "        print(f'Acurácia do split {idx}: {acuracia_split}')\n",
    "\n",
    "    return acuracias_split"
   ]
  },
  {
   "cell_type": "markdown",
   "metadata": {},
   "source": [
    "#### 2. Treine: um modelo de regressão logística, uma árvore de decisão, um modelo de adaboost, um modelo de random forest e um modelo de gradient boosting. Tune esses modelos usando validação cruzada e controle overfitting se necessário, considerando as particularidades de cada modelo.  (10 pts.)"
   ]
  },
  {
   "cell_type": "code",
   "execution_count": 243,
   "metadata": {},
   "outputs": [],
   "source": [
    "modelo_hgb = HistGradientBoostingClassifier()"
   ]
  },
  {
   "cell_type": "code",
   "execution_count": 244,
   "metadata": {},
   "outputs": [
    {
     "name": "stdout",
     "output_type": "stream",
     "text": [
      "Acurácia do split 0: 0.8662587412587412\n",
      "Acurácia do split 1: 0.8748906386701663\n",
      "Acurácia do split 2: 0.8538932633420823\n",
      "Acurácia do split 3: 0.8416447944007\n",
      "Acurácia do split 4: 0.8661417322834646\n"
     ]
    }
   ],
   "source": [
    "media_acuracia_sem_smote = mean(validacao_cruzada(modelo_hgb, x_train, y_train, oversampling=False))"
   ]
  },
  {
   "cell_type": "code",
   "execution_count": 245,
   "metadata": {},
   "outputs": [
    {
     "ename": "ValueError",
     "evalue": "Input X contains NaN.\nSMOTE does not accept missing values encoded as NaN natively. For supervised learning, you might want to consider sklearn.ensemble.HistGradientBoostingClassifier and Regressor which accept missing values encoded as NaNs natively. Alternatively, it is possible to preprocess the data, for instance by using an imputer transformer in a pipeline or drop samples with missing values. See https://scikit-learn.org/stable/modules/impute.html You can find a list of all estimators that handle NaN values at the following page: https://scikit-learn.org/stable/modules/impute.html#estimators-that-handle-nan-values",
     "output_type": "error",
     "traceback": [
      "\u001b[1;31m---------------------------------------------------------------------------\u001b[0m",
      "\u001b[1;31mValueError\u001b[0m                                Traceback (most recent call last)",
      "Cell \u001b[1;32mIn [245], line 1\u001b[0m\n\u001b[1;32m----> 1\u001b[0m media_acuracia_com_smote \u001b[39m=\u001b[39m mean(validacao_cruzada(modelo_hgb, x_train, y_train, oversampling\u001b[39m=\u001b[39m\u001b[39mTrue\u001b[39;00m))\n",
      "Cell \u001b[1;32mIn [242], line 11\u001b[0m, in \u001b[0;36mvalidacao_cruzada\u001b[1;34m(modelo, x, y, oversampling)\u001b[0m\n\u001b[0;32m      9\u001b[0m \u001b[39mif\u001b[39;00m oversampling:\n\u001b[0;32m     10\u001b[0m     sm \u001b[39m=\u001b[39m SMOTE(random_state\u001b[39m=\u001b[39m\u001b[39m42\u001b[39m)\n\u001b[1;32m---> 11\u001b[0m     x_split_treino, y_split_treino \u001b[39m=\u001b[39m sm\u001b[39m.\u001b[39;49mfit_resample(x_split_treino, y_split_treino)\n\u001b[0;32m     13\u001b[0m modelo\u001b[39m.\u001b[39mfit(x_split_treino, y_split_treino\u001b[39m.\u001b[39mvalues\u001b[39m.\u001b[39mflatten())\n\u001b[0;32m     15\u001b[0m x_split_validacao \u001b[39m=\u001b[39m x\u001b[39m.\u001b[39miloc[idx_validacao, :]\n",
      "File \u001b[1;32mc:\\Users\\rayan\\AppData\\Local\\Programs\\Python\\Python310\\lib\\site-packages\\imblearn\\base.py:77\u001b[0m, in \u001b[0;36mSamplerMixin.fit_resample\u001b[1;34m(self, X, y)\u001b[0m\n\u001b[0;32m     75\u001b[0m check_classification_targets(y)\n\u001b[0;32m     76\u001b[0m arrays_transformer \u001b[39m=\u001b[39m ArraysTransformer(X, y)\n\u001b[1;32m---> 77\u001b[0m X, y, binarize_y \u001b[39m=\u001b[39m \u001b[39mself\u001b[39;49m\u001b[39m.\u001b[39;49m_check_X_y(X, y)\n\u001b[0;32m     79\u001b[0m \u001b[39mself\u001b[39m\u001b[39m.\u001b[39msampling_strategy_ \u001b[39m=\u001b[39m check_sampling_strategy(\n\u001b[0;32m     80\u001b[0m     \u001b[39mself\u001b[39m\u001b[39m.\u001b[39msampling_strategy, y, \u001b[39mself\u001b[39m\u001b[39m.\u001b[39m_sampling_type\n\u001b[0;32m     81\u001b[0m )\n\u001b[0;32m     83\u001b[0m output \u001b[39m=\u001b[39m \u001b[39mself\u001b[39m\u001b[39m.\u001b[39m_fit_resample(X, y)\n",
      "File \u001b[1;32mc:\\Users\\rayan\\AppData\\Local\\Programs\\Python\\Python310\\lib\\site-packages\\imblearn\\base.py:132\u001b[0m, in \u001b[0;36mBaseSampler._check_X_y\u001b[1;34m(self, X, y, accept_sparse)\u001b[0m\n\u001b[0;32m    130\u001b[0m     accept_sparse \u001b[39m=\u001b[39m [\u001b[39m\"\u001b[39m\u001b[39mcsr\u001b[39m\u001b[39m\"\u001b[39m, \u001b[39m\"\u001b[39m\u001b[39mcsc\u001b[39m\u001b[39m\"\u001b[39m]\n\u001b[0;32m    131\u001b[0m y, binarize_y \u001b[39m=\u001b[39m check_target_type(y, indicate_one_vs_all\u001b[39m=\u001b[39m\u001b[39mTrue\u001b[39;00m)\n\u001b[1;32m--> 132\u001b[0m X, y \u001b[39m=\u001b[39m \u001b[39mself\u001b[39;49m\u001b[39m.\u001b[39;49m_validate_data(X, y, reset\u001b[39m=\u001b[39;49m\u001b[39mTrue\u001b[39;49;00m, accept_sparse\u001b[39m=\u001b[39;49maccept_sparse)\n\u001b[0;32m    133\u001b[0m \u001b[39mreturn\u001b[39;00m X, y, binarize_y\n",
      "File \u001b[1;32mc:\\Users\\rayan\\AppData\\Local\\Programs\\Python\\Python310\\lib\\site-packages\\sklearn\\base.py:596\u001b[0m, in \u001b[0;36mBaseEstimator._validate_data\u001b[1;34m(self, X, y, reset, validate_separately, **check_params)\u001b[0m\n\u001b[0;32m    594\u001b[0m         y \u001b[39m=\u001b[39m check_array(y, input_name\u001b[39m=\u001b[39m\u001b[39m\"\u001b[39m\u001b[39my\u001b[39m\u001b[39m\"\u001b[39m, \u001b[39m*\u001b[39m\u001b[39m*\u001b[39mcheck_y_params)\n\u001b[0;32m    595\u001b[0m     \u001b[39melse\u001b[39;00m:\n\u001b[1;32m--> 596\u001b[0m         X, y \u001b[39m=\u001b[39m check_X_y(X, y, \u001b[39m*\u001b[39m\u001b[39m*\u001b[39mcheck_params)\n\u001b[0;32m    597\u001b[0m     out \u001b[39m=\u001b[39m X, y\n\u001b[0;32m    599\u001b[0m \u001b[39mif\u001b[39;00m \u001b[39mnot\u001b[39;00m no_val_X \u001b[39mand\u001b[39;00m check_params\u001b[39m.\u001b[39mget(\u001b[39m\"\u001b[39m\u001b[39mensure_2d\u001b[39m\u001b[39m\"\u001b[39m, \u001b[39mTrue\u001b[39;00m):\n",
      "File \u001b[1;32mc:\\Users\\rayan\\AppData\\Local\\Programs\\Python\\Python310\\lib\\site-packages\\sklearn\\utils\\validation.py:1074\u001b[0m, in \u001b[0;36mcheck_X_y\u001b[1;34m(X, y, accept_sparse, accept_large_sparse, dtype, order, copy, force_all_finite, ensure_2d, allow_nd, multi_output, ensure_min_samples, ensure_min_features, y_numeric, estimator)\u001b[0m\n\u001b[0;32m   1069\u001b[0m         estimator_name \u001b[39m=\u001b[39m _check_estimator_name(estimator)\n\u001b[0;32m   1070\u001b[0m     \u001b[39mraise\u001b[39;00m \u001b[39mValueError\u001b[39;00m(\n\u001b[0;32m   1071\u001b[0m         \u001b[39mf\u001b[39m\u001b[39m\"\u001b[39m\u001b[39m{\u001b[39;00mestimator_name\u001b[39m}\u001b[39;00m\u001b[39m requires y to be passed, but the target y is None\u001b[39m\u001b[39m\"\u001b[39m\n\u001b[0;32m   1072\u001b[0m     )\n\u001b[1;32m-> 1074\u001b[0m X \u001b[39m=\u001b[39m check_array(\n\u001b[0;32m   1075\u001b[0m     X,\n\u001b[0;32m   1076\u001b[0m     accept_sparse\u001b[39m=\u001b[39;49maccept_sparse,\n\u001b[0;32m   1077\u001b[0m     accept_large_sparse\u001b[39m=\u001b[39;49maccept_large_sparse,\n\u001b[0;32m   1078\u001b[0m     dtype\u001b[39m=\u001b[39;49mdtype,\n\u001b[0;32m   1079\u001b[0m     order\u001b[39m=\u001b[39;49morder,\n\u001b[0;32m   1080\u001b[0m     copy\u001b[39m=\u001b[39;49mcopy,\n\u001b[0;32m   1081\u001b[0m     force_all_finite\u001b[39m=\u001b[39;49mforce_all_finite,\n\u001b[0;32m   1082\u001b[0m     ensure_2d\u001b[39m=\u001b[39;49mensure_2d,\n\u001b[0;32m   1083\u001b[0m     allow_nd\u001b[39m=\u001b[39;49mallow_nd,\n\u001b[0;32m   1084\u001b[0m     ensure_min_samples\u001b[39m=\u001b[39;49mensure_min_samples,\n\u001b[0;32m   1085\u001b[0m     ensure_min_features\u001b[39m=\u001b[39;49mensure_min_features,\n\u001b[0;32m   1086\u001b[0m     estimator\u001b[39m=\u001b[39;49mestimator,\n\u001b[0;32m   1087\u001b[0m     input_name\u001b[39m=\u001b[39;49m\u001b[39m\"\u001b[39;49m\u001b[39mX\u001b[39;49m\u001b[39m\"\u001b[39;49m,\n\u001b[0;32m   1088\u001b[0m )\n\u001b[0;32m   1090\u001b[0m y \u001b[39m=\u001b[39m _check_y(y, multi_output\u001b[39m=\u001b[39mmulti_output, y_numeric\u001b[39m=\u001b[39my_numeric, estimator\u001b[39m=\u001b[39mestimator)\n\u001b[0;32m   1092\u001b[0m check_consistent_length(X, y)\n",
      "File \u001b[1;32mc:\\Users\\rayan\\AppData\\Local\\Programs\\Python\\Python310\\lib\\site-packages\\sklearn\\utils\\validation.py:899\u001b[0m, in \u001b[0;36mcheck_array\u001b[1;34m(array, accept_sparse, accept_large_sparse, dtype, order, copy, force_all_finite, ensure_2d, allow_nd, ensure_min_samples, ensure_min_features, estimator, input_name)\u001b[0m\n\u001b[0;32m    893\u001b[0m         \u001b[39mraise\u001b[39;00m \u001b[39mValueError\u001b[39;00m(\n\u001b[0;32m    894\u001b[0m             \u001b[39m\"\u001b[39m\u001b[39mFound array with dim \u001b[39m\u001b[39m%d\u001b[39;00m\u001b[39m. \u001b[39m\u001b[39m%s\u001b[39;00m\u001b[39m expected <= 2.\u001b[39m\u001b[39m\"\u001b[39m\n\u001b[0;32m    895\u001b[0m             \u001b[39m%\u001b[39m (array\u001b[39m.\u001b[39mndim, estimator_name)\n\u001b[0;32m    896\u001b[0m         )\n\u001b[0;32m    898\u001b[0m     \u001b[39mif\u001b[39;00m force_all_finite:\n\u001b[1;32m--> 899\u001b[0m         _assert_all_finite(\n\u001b[0;32m    900\u001b[0m             array,\n\u001b[0;32m    901\u001b[0m             input_name\u001b[39m=\u001b[39;49minput_name,\n\u001b[0;32m    902\u001b[0m             estimator_name\u001b[39m=\u001b[39;49mestimator_name,\n\u001b[0;32m    903\u001b[0m             allow_nan\u001b[39m=\u001b[39;49mforce_all_finite \u001b[39m==\u001b[39;49m \u001b[39m\"\u001b[39;49m\u001b[39mallow-nan\u001b[39;49m\u001b[39m\"\u001b[39;49m,\n\u001b[0;32m    904\u001b[0m         )\n\u001b[0;32m    906\u001b[0m \u001b[39mif\u001b[39;00m ensure_min_samples \u001b[39m>\u001b[39m \u001b[39m0\u001b[39m:\n\u001b[0;32m    907\u001b[0m     n_samples \u001b[39m=\u001b[39m _num_samples(array)\n",
      "File \u001b[1;32mc:\\Users\\rayan\\AppData\\Local\\Programs\\Python\\Python310\\lib\\site-packages\\sklearn\\utils\\validation.py:146\u001b[0m, in \u001b[0;36m_assert_all_finite\u001b[1;34m(X, allow_nan, msg_dtype, estimator_name, input_name)\u001b[0m\n\u001b[0;32m    124\u001b[0m         \u001b[39mif\u001b[39;00m (\n\u001b[0;32m    125\u001b[0m             \u001b[39mnot\u001b[39;00m allow_nan\n\u001b[0;32m    126\u001b[0m             \u001b[39mand\u001b[39;00m estimator_name\n\u001b[1;32m   (...)\u001b[0m\n\u001b[0;32m    130\u001b[0m             \u001b[39m# Improve the error message on how to handle missing values in\u001b[39;00m\n\u001b[0;32m    131\u001b[0m             \u001b[39m# scikit-learn.\u001b[39;00m\n\u001b[0;32m    132\u001b[0m             msg_err \u001b[39m+\u001b[39m\u001b[39m=\u001b[39m (\n\u001b[0;32m    133\u001b[0m                 \u001b[39mf\u001b[39m\u001b[39m\"\u001b[39m\u001b[39m\\n\u001b[39;00m\u001b[39m{\u001b[39;00mestimator_name\u001b[39m}\u001b[39;00m\u001b[39m does not accept missing values\u001b[39m\u001b[39m\"\u001b[39m\n\u001b[0;32m    134\u001b[0m                 \u001b[39m\"\u001b[39m\u001b[39m encoded as NaN natively. For supervised learning, you might want\u001b[39m\u001b[39m\"\u001b[39m\n\u001b[1;32m   (...)\u001b[0m\n\u001b[0;32m    144\u001b[0m                 \u001b[39m\"\u001b[39m\u001b[39m#estimators-that-handle-nan-values\u001b[39m\u001b[39m\"\u001b[39m\n\u001b[0;32m    145\u001b[0m             )\n\u001b[1;32m--> 146\u001b[0m         \u001b[39mraise\u001b[39;00m \u001b[39mValueError\u001b[39;00m(msg_err)\n\u001b[0;32m    148\u001b[0m \u001b[39m# for object dtype data, we only check for NaNs (GH-13254)\u001b[39;00m\n\u001b[0;32m    149\u001b[0m \u001b[39melif\u001b[39;00m X\u001b[39m.\u001b[39mdtype \u001b[39m==\u001b[39m np\u001b[39m.\u001b[39mdtype(\u001b[39m\"\u001b[39m\u001b[39mobject\u001b[39m\u001b[39m\"\u001b[39m) \u001b[39mand\u001b[39;00m \u001b[39mnot\u001b[39;00m allow_nan:\n",
      "\u001b[1;31mValueError\u001b[0m: Input X contains NaN.\nSMOTE does not accept missing values encoded as NaN natively. For supervised learning, you might want to consider sklearn.ensemble.HistGradientBoostingClassifier and Regressor which accept missing values encoded as NaNs natively. Alternatively, it is possible to preprocess the data, for instance by using an imputer transformer in a pipeline or drop samples with missing values. See https://scikit-learn.org/stable/modules/impute.html You can find a list of all estimators that handle NaN values at the following page: https://scikit-learn.org/stable/modules/impute.html#estimators-that-handle-nan-values"
     ]
    }
   ],
   "source": [
    "media_acuracia_com_smote = mean(validacao_cruzada(modelo_hgb, x_train, y_train, oversampling=True))"
   ]
  },
  {
   "cell_type": "code",
   "execution_count": null,
   "metadata": {},
   "outputs": [
    {
     "data": {
      "text/plain": [
       "'Sem smote: 0.91, com_smote: 0.91'"
      ]
     },
     "execution_count": 214,
     "metadata": {},
     "output_type": "execute_result"
    }
   ],
   "source": [
    "\n",
    "f'Sem smote: {media_acuracia_sem_smote:.02f}, com_smote: {media_acuracia_com_smote:.02f}'"
   ]
  },
  {
   "cell_type": "markdown",
   "metadata": {},
   "source": [
    "# Random Forest"
   ]
  },
  {
   "cell_type": "code",
   "execution_count": null,
   "metadata": {},
   "outputs": [
    {
     "ename": "AttributeError",
     "evalue": "'OneHotEncoder' object has no attribute 'drop'",
     "output_type": "error",
     "traceback": [
      "\u001b[1;31m---------------------------------------------------------------------------\u001b[0m",
      "\u001b[1;31mAttributeError\u001b[0m                            Traceback (most recent call last)",
      "Cell \u001b[1;32mIn [215], line 1\u001b[0m\n\u001b[1;32m----> 1\u001b[0m x_train \u001b[39m=\u001b[39m train_ohe\u001b[39m.\u001b[39mdrop(\u001b[39m'\u001b[39m\u001b[39mpartido_PT\u001b[39m\u001b[39m'\u001b[39m, axis\u001b[39m=\u001b[39m\u001b[39m1\u001b[39m)\n\u001b[0;32m      2\u001b[0m x_test \u001b[39m=\u001b[39m train_ohe_test\u001b[39m.\u001b[39mdrop(\u001b[39m'\u001b[39m\u001b[39mpartido_PT\u001b[39m\u001b[39m'\u001b[39m, axis\u001b[39m=\u001b[39m\u001b[39m1\u001b[39m)\n\u001b[0;32m      3\u001b[0m y_train \u001b[39m=\u001b[39m train_ohe[\u001b[39m'\u001b[39m\u001b[39mpartido_PT\u001b[39m\u001b[39m'\u001b[39m]\n",
      "\u001b[1;31mAttributeError\u001b[0m: 'OneHotEncoder' object has no attribute 'drop'"
     ]
    }
   ],
   "source": [
    "x_train = train_ohe.drop('partido_PT', axis=1)\n",
    "x_test = train_ohe_test.drop('partido_PT', axis=1)\n",
    "y_train = train_ohe['partido_PT']\n",
    "y_test = train_ohe_test['partido_PT']"
   ]
  },
  {
   "cell_type": "code",
   "execution_count": null,
   "metadata": {},
   "outputs": [],
   "source": [
    "mdl = RandomForestClassifier(n_jobs=6, n_estimators=100, random_state=22)\n",
    "mdl.fit(x_train, y_train)"
   ]
  },
  {
   "cell_type": "code",
   "execution_count": null,
   "metadata": {},
   "outputs": [],
   "source": [
    "predict_ohe = mdl.predict(x_test)"
   ]
  },
  {
   "cell_type": "markdown",
   "metadata": {},
   "source": [
    "## Erro médio absoluto de 0.05"
   ]
  },
  {
   "cell_type": "code",
   "execution_count": null,
   "metadata": {},
   "outputs": [],
   "source": [
    "from sklearn.metrics import mean_absolute_error\n",
    "mean_absolute_error(y_test, predict_ohe)"
   ]
  },
  {
   "cell_type": "code",
   "execution_count": null,
   "metadata": {},
   "outputs": [],
   "source": [
    "print(classification_report(y_test, predict_ohe))"
   ]
  },
  {
   "cell_type": "markdown",
   "metadata": {},
   "source": [
    "## Decision Tree"
   ]
  },
  {
   "cell_type": "markdown",
   "metadata": {},
   "source": [
    "###### -----------"
   ]
  },
  {
   "cell_type": "code",
   "execution_count": null,
   "metadata": {},
   "outputs": [],
   "source": [
    "decision_tree = DecisionTreeClassifier(max_depth=4, min_samples_leaf=0.16, random_state=42)\n",
    "decision_tree.fit(x_train, y_train)"
   ]
  },
  {
   "cell_type": "code",
   "execution_count": null,
   "metadata": {},
   "outputs": [],
   "source": [
    "from sklearn.metrics import accuracy_score"
   ]
  },
  {
   "cell_type": "markdown",
   "metadata": {},
   "source": [
    "## Acurácia da Árvore de Decisão"
   ]
  },
  {
   "cell_type": "code",
   "execution_count": null,
   "metadata": {},
   "outputs": [],
   "source": [
    "predict_tree = decision_tree.predict(x_test)\n",
    "accuracy = accuracy_score(y_test, predict_tree)\n",
    "print('Acurácia da Árvore de Decisão: %.3f%%' % (accuracy * 100))"
   ]
  },
  {
   "cell_type": "code",
   "execution_count": null,
   "metadata": {},
   "outputs": [],
   "source": [
    "print(classification_report(y_test, predict_tree))"
   ]
  },
  {
   "cell_type": "markdown",
   "metadata": {},
   "source": [
    "# AdaBoost"
   ]
  },
  {
   "cell_type": "code",
   "execution_count": null,
   "metadata": {},
   "outputs": [],
   "source": [
    "decision_tree2 = DecisionTreeClassifier(max_depth=4, random_state=42)\n",
    "ada_clf = AdaBoostClassifier(decision_tree2, n_estimators=200, learning_rate=0.5)\n",
    "ada_clf.fit(x_train, y_train)"
   ]
  },
  {
   "cell_type": "markdown",
   "metadata": {},
   "source": [
    "# Acurácia AdaBoost"
   ]
  },
  {
   "cell_type": "code",
   "execution_count": null,
   "metadata": {},
   "outputs": [],
   "source": [
    "predict_ada = ada_clf.predict(x_test)\n",
    "accuracy = accuracy_score(y_test, predict_ada)\n",
    "print('Acurácia AdaBoost: %.3f%%' % (accuracy * 100))"
   ]
  },
  {
   "cell_type": "code",
   "execution_count": null,
   "metadata": {},
   "outputs": [],
   "source": [
    "print(classification_report(y_test, predict_ada))"
   ]
  },
  {
   "cell_type": "markdown",
   "metadata": {},
   "source": [
    "# Regressão Logística"
   ]
  },
  {
   "cell_type": "markdown",
   "metadata": {},
   "source": [
    "### Regressão Logística com AdaBoosta"
   ]
  },
  {
   "cell_type": "code",
   "execution_count": null,
   "metadata": {},
   "outputs": [],
   "source": [
    "lr_ada = LogisticRegression(random_state=42, max_iter=1000)\n",
    "ada_clf2 = AdaBoostClassifier(lr_ada, n_estimators=200, learning_rate=0.5)\n",
    "ada_clf2.fit(x_train, y_train)"
   ]
  },
  {
   "cell_type": "markdown",
   "metadata": {},
   "source": [
    "### Acurácia Regressão Logística com AdaBoosta"
   ]
  },
  {
   "cell_type": "code",
   "execution_count": null,
   "metadata": {},
   "outputs": [],
   "source": [
    "predict_lr_ada = ada_clf2.predict(x_test)\n",
    "accuracy = accuracy_score(y_test, predict_lr_ada)\n",
    "print('Acurácia Regressão Logística: %.3f%%' % (accuracy * 100))"
   ]
  },
  {
   "cell_type": "code",
   "execution_count": null,
   "metadata": {},
   "outputs": [],
   "source": [
    "print(classification_report(y_test, predict_lr_ada))"
   ]
  },
  {
   "cell_type": "markdown",
   "metadata": {},
   "source": [
    "## Regressão Logística sem AdaBoost"
   ]
  },
  {
   "cell_type": "code",
   "execution_count": null,
   "metadata": {},
   "outputs": [],
   "source": [
    "lr = LogisticRegression(random_state=42, max_iter=1000)\n",
    "lr.fit(x_train, y_train)"
   ]
  },
  {
   "cell_type": "markdown",
   "metadata": {},
   "source": [
    "## Acurácia Regressão Logística"
   ]
  },
  {
   "cell_type": "code",
   "execution_count": null,
   "metadata": {},
   "outputs": [],
   "source": [
    "predict_lr = lr.predict(x_test)\n",
    "accuracy = accuracy_score(y_test, predict_lr)\n",
    "print('Acurácia Regressão Logística: %.3f%%' % (accuracy * 100))"
   ]
  },
  {
   "cell_type": "code",
   "execution_count": null,
   "metadata": {},
   "outputs": [],
   "source": [
    "result_mdl = cross_val_score(lr, train_ohe, train_ohe_test, cv=kfold)\n",
    "print(\"Validaçaõ: %.3f%%\" % (result_mdl.mean() * 100))"
   ]
  },
  {
   "cell_type": "code",
   "execution_count": null,
   "metadata": {},
   "outputs": [],
   "source": [
    "print(classification_report(y_test, predict_lr))"
   ]
  },
  {
   "cell_type": "markdown",
   "metadata": {},
   "source": [
    "## GradientBoost"
   ]
  },
  {
   "cell_type": "code",
   "execution_count": null,
   "metadata": {},
   "outputs": [],
   "source": [
    "gb_clf = GradientBoostingClassifier(n_estimators=200, learning_rate=0.5, random_state=42)\n",
    "gb_clf.fit(x_train, y_train)"
   ]
  },
  {
   "cell_type": "markdown",
   "metadata": {},
   "source": [
    "## Acurácia GradientBoost"
   ]
  },
  {
   "cell_type": "code",
   "execution_count": null,
   "metadata": {},
   "outputs": [],
   "source": [
    "predict_gb_clf = gb_clf.predict(x_test)\n",
    "accuracy = accuracy_score(y_test, predict_gb_clf)\n",
    "print('Acurácia GradientBoost: %.3f%%' % (accuracy * 100))"
   ]
  },
  {
   "cell_type": "code",
   "execution_count": null,
   "metadata": {},
   "outputs": [],
   "source": [
    "print(classification_report(y_test, predict_gb_clf))"
   ]
  },
  {
   "cell_type": "markdown",
   "metadata": {},
   "source": [
    "#### 3. Reporte precision, recall e f-measure no treino e validação. Há uma grande diferença de desempenho no treino/validação? Como você avalia os resultados? Justifique sua resposta. (10 pt.)"
   ]
  }
 ],
 "metadata": {
  "kernelspec": {
   "display_name": "Python 3.10.7 64-bit",
   "language": "python",
   "name": "python3"
  },
  "language_info": {
   "codemirror_mode": {
    "name": "ipython",
    "version": 3
   },
   "file_extension": ".py",
   "mimetype": "text/x-python",
   "name": "python",
   "nbconvert_exporter": "python",
   "pygments_lexer": "ipython3",
   "version": "3.10.7"
  },
  "vscode": {
   "interpreter": {
    "hash": "334657c8e52fd71d95571d4aa266536ecfae8b05cb25ba6557c72dcb65d7c56a"
   }
  }
 },
 "nbformat": 4,
 "nbformat_minor": 2
}
