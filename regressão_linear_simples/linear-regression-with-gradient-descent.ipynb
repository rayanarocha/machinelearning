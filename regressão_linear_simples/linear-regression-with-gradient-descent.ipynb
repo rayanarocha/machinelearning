{
 "cells": [
  {
   "cell_type": "code",
   "execution_count": 47,
   "id": "2175334b",
   "metadata": {},
   "outputs": [],
   "source": [
    "from numpy import *\n",
    "from scipy.stats import linregress\n",
    "from sklearn.metrics import mean_squared_error\n",
    "import matplotlib.pyplot as plt"
   ]
  },
  {
   "cell_type": "markdown",
   "id": "88d8f8a3",
   "metadata": {},
   "source": [
    "# Função principal, onde serão definidos os passos a seguir\n",
    "\n",
    "Pega o conjunto de dados e analisa"
   ]
  },
  {
   "cell_type": "code",
   "execution_count": 48,
   "id": "ffc828ac",
   "metadata": {},
   "outputs": [
    {
     "name": "stdout",
     "output_type": "stream",
     "text": [
      "710.693685281386\n",
      "1456.3350965744962\n",
      "1946.1786765790723\n",
      "2394.3408235695506\n",
      "2625.156936734124\n",
      "3322.061552784899\n",
      "3626.0514682736953\n",
      "4276.703677207473\n",
      "5637.177002965462\n",
      "7210.577186144827\n",
      "8393.681302791256\n",
      "10115.764770279184\n",
      "12139.10684771108\n",
      "14351.830369731919\n",
      "16680.141681382476\n",
      "19933.04750699792\n",
      "22584.3622681148\n",
      "26346.543288944235\n",
      "29662.22865162597\n",
      "34361.84035736833\n",
      "38497.73547078538\n",
      "43253.080343301575\n",
      "48820.424738091286\n",
      "53985.31849899025\n",
      "59776.24470726105\n",
      "65518.128374733875\n",
      "70772.35658989825\n",
      "76756.15579793125\n",
      "81957.27573425039\n",
      "88399.03491138059\n",
      "Starting gradient descent at b = 0, m = 0, error = 2946.6344970460195\n",
      "Running...\n",
      "163.45843912912125\n",
      "329.3276224015542\n",
      "379.6803781275743\n",
      "410.8138297322306\n",
      "411.71848426364573\n",
      "504.7668084114881\n",
      "504.78341056994367\n",
      "563.2717340607478\n",
      "904.4426772242814\n",
      "1330.5884717087117\n",
      "1550.2152027236602\n",
      "2006.8006269784555\n",
      "2594.4951970347365\n",
      "3257.391409842303\n",
      "3954.673096738159\n",
      "5150.3621208141885\n",
      "5961.571768748463\n",
      "7388.43034536847\n",
      "8504.666525227445\n",
      "10425.576295683559\n",
      "11949.05254248939\n",
      "13804.14539623568\n",
      "16124.759952533841\n",
      "18138.225045847936\n",
      "20495.223582772\n",
      "22762.600714451346\n",
      "24678.777695938825\n",
      "26991.374050523737\n",
      "28775.946784843436\n",
      "31259.207051614892\n",
      "After 10 iterations b = 0.07833819190818984, m = 1.379541400093144, error = 1041.9735683871631\n",
      "RMSE:  1.3012032081849543\n"
     ]
    },
    {
     "data": {
      "image/png": "[encoded data removed]",
      "text/plain": [
       "<Figure size 432x288 with 1 Axes>"
      ]
     },
     "metadata": {
      "needs_background": "light"
     },
     "output_type": "display_data"
    }
   ],
   "source": [
    "\n",
    "\n",
    "# y = mx + b\n",
    "# m is slope, b is y-intercept\n",
    "def compute_error_for_line_given_points(b, m, points):\n",
    "    totalError = 0\n",
    "    for i in range(0, len(points)):\n",
    "        x = points[i, 0]\n",
    "        y = points[i, 1]\n",
    "        totalError += (y - (m * x + b)) ** 2\n",
    "        print(totalError)\n",
    "    plt.scatter(b, m, color=\"black\")\n",
    "    plt.plot(b, m, color=\"blue\", linewidth=3)\n",
    "    return totalError / float(len(points))\n",
    "\n",
    "def step_gradient(b_current, m_current, points, learningRate):\n",
    "    b_gradient = 0\n",
    "    m_gradient = 0\n",
    "    N = float(len(points))\n",
    "    for i in range(0, len(points)):\n",
    "        x = points[i, 0]\n",
    "        y = points[i, 1]\n",
    "        b_gradient += -(2/N) * (y - ((m_current * x) + b_current))\n",
    "        m_gradient += -(2/N) * x * (y - ((m_current * x) + b_current))\n",
    "    new_b = b_current - (learningRate * b_gradient)\n",
    "    new_m = m_current - (learningRate * m_gradient)\n",
    "    return [new_b, new_m]\n",
    "\n",
    "def gradient_descent_runner(points, starting_b, starting_m, learning_rate, num_iterations):\n",
    "    b = starting_b\n",
    "    m = starting_m\n",
    "    for i in range(num_iterations):\n",
    "        b, m = step_gradient(b, m, array(points), learning_rate)\n",
    "    return [b, m]\n",
    "\n",
    "def run():\n",
    "    points = genfromtxt(\"income.csv\", delimiter=\",\")\n",
    "    learning_rate = 0.0001\n",
    "    initial_b = 0 # initial y-intercept guess\n",
    "    initial_m = 0 # initial slope guess\n",
    "    num_iterations = 10\n",
    "    print (\"Starting gradient descent at b = {0}, m = {1}, error = {2}\".format(initial_b, initial_m, compute_error_for_line_given_points(initial_b, initial_m, points)))\n",
    "    print (\"Running...\")\n",
    "    [b, m] = gradient_descent_runner(points, initial_b, initial_m, learning_rate, num_iterations)\n",
    "    print (\"After {0} iterations b = {1}, m = {2}, error = {3}\".format(num_iterations, b, m, compute_error_for_line_given_points(b, m, points)))\n",
    "    print(\"RMSE: \", mean_square_error(b, m))\n",
    "if __name__ == '__main__':\n",
    "    run()"
   ]
  },
  {
   "cell_type": "markdown",
   "id": "f49537bc",
   "metadata": {},
   "source": [
    "Mean squared error\n",
    "\n",
    "sklearn.metrics.mean_squared_error(y_true, y_pred, *, sample_weight=None, multioutput='uniform_average', squared=True)"
   ]
  },
  {
   "cell_type": "code",
   "execution_count": null,
   "id": "017f3e1d",
   "metadata": {},
   "outputs": [],
   "source": []
  }
 ],
 "metadata": {
  "kernelspec": {
   "display_name": "Python 3.9.12 ('base')",
   "language": "python",
   "name": "python3"
  },
  "language_info": {
   "codemirror_mode": {
    "name": "ipython",
    "version": 3
   },
   "file_extension": ".py",
   "mimetype": "text/x-python",
   "name": "python",
   "nbconvert_exporter": "python",
   "pygments_lexer": "ipython3",
   "version": "3.9.12"
  },
  "vscode": {
   "interpreter": {
    "hash": "3ed76ffbb48457de8d1e75d9ec843977e4758bdc713ec8ec18703488116aab5c"
   }
  }
 },
 "nbformat": 4,
 "nbformat_minor": 5
}
