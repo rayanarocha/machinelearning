{
 "cells": [
  {
   "cell_type": "code",
   "execution_count": 13,
   "id": "2175334b",
   "metadata": {},
   "outputs": [],
   "source": [
    "import numpy as np\n",
    "import matplotlib.pyplot as plt"
   ]
  },
  {
   "cell_type": "markdown",
   "id": "88d8f8a3",
   "metadata": {},
   "source": [
    "# Função principal, onde serão definidos os passos a seguir\n",
    "\n",
    "Pega o conjunto de dados e analisa"
   ]
  },
  {
   "cell_type": "code",
   "execution_count": 14,
   "id": "ffc828ac",
   "metadata": {},
   "outputs": [
    {
     "name": "stdout",
     "output_type": "stream",
     "text": [
      "Starting gradient descent at b = 0, m = 0, error = 2946.6344970460195\n",
      "Running...\n",
      "RMSE: 2946.634, interacao: 0\n",
      "RMSE: 2619.309, interacao: 0\n",
      "RMSE: 2329.684, interacao: 1\n",
      "RMSE: 2073.419, interacao: 2\n",
      "RMSE: 1846.670, interacao: 3\n",
      "RMSE: 1646.039, interacao: 4\n",
      "RMSE: 1468.516, interacao: 5\n",
      "RMSE: 1311.440, interacao: 6\n",
      "RMSE: 1172.457, interacao: 7\n",
      "RMSE: 1049.481, interacao: 8\n",
      "RMSE: 940.670, interacao: 9\n",
      "[[2.94663450e+03 0.00000000e+00]\n",
      " [2.61930856e+03 1.00000000e+00]\n",
      " [2.32968420e+03 2.00000000e+00]\n",
      " [2.07341892e+03 3.00000000e+00]\n",
      " [1.84667038e+03 4.00000000e+00]\n",
      " [1.64603881e+03 5.00000000e+00]\n",
      " [1.46851602e+03 6.00000000e+00]\n",
      " [1.31144033e+03 7.00000000e+00]\n",
      " [1.17245661e+03 8.00000000e+00]\n",
      " [1.04948101e+03 9.00000000e+00]\n",
      " [9.40669694e+02 1.00000000e+01]]\n"
     ]
    },
    {
     "data": {
      "image/png": "[encoded data removed]",
      "text/plain": [
       "<Figure size 432x288 with 1 Axes>"
      ]
     },
     "metadata": {
      "needs_background": "light"
     },
     "output_type": "display_data"
    },
    {
     "name": "stdout",
     "output_type": "stream",
     "text": [
      "After 10 iterations b = 0.08411823075092255, m = 1.482994135248462, error = 940.6696938189039\n",
      "RMSE:  940.6696938189039\n"
     ]
    }
   ],
   "source": [
    "\n",
    "\n",
    "import numpy as np\n",
    "import matplotlib.pyplot as plt\n",
    "\n",
    "# y = mx + b\n",
    "# m is slope, b is y-intercept\n",
    "def compute_error_for_line_given_points(b, m, points):\n",
    "    totalError = 0\n",
    "    for i in range(0, len(points)):\n",
    "        x = points[i, 0]\n",
    "        y = points[i, 1]\n",
    "        totalError += (y - (m * x + b)) ** 2    \n",
    "    return totalError / float(len(points))\n",
    "\n",
    "def step_gradient(b_current, m_current, points, learningRate):\n",
    "    b_gradient = 0\n",
    "    m_gradient = 0\n",
    "    N = float(len(points))\n",
    "    for i in range(0, len(points)):\n",
    "        x = points[i, 0]\n",
    "        y = points[i, 1]\n",
    "        b_gradient += -(2/N) * (y - ((m_current * x) + b_current))\n",
    "        m_gradient += -(2/N) * x * (y - ((m_current * x) + b_current))\n",
    "    new_b = b_current - (learningRate * b_gradient)\n",
    "    new_m = m_current - (learningRate * m_gradient)\n",
    "    return [new_b, new_m]\n",
    "\n",
    "def gradient_descent_runner(points, starting_b, starting_m, learning_rate, num_iterations):\n",
    "    b = starting_b\n",
    "    m = starting_m\n",
    "    RMSE = compute_error_for_line_given_points(b, m, points)\n",
    "    array_rmse = np.array([[RMSE, 0]])\n",
    "    print(\"RMSE: {:.3f}, interacao: {}\".format(RMSE, 0))\n",
    "    for i in range(num_iterations):\n",
    "        b, m = step_gradient(b, m, np.array(points), learning_rate)\n",
    "        RMSE = compute_error_for_line_given_points(b, m, points)\n",
    "        # resposta da parte 1 da questão 1, imprimindo o RMSE para cada iteração\n",
    "        print(\"RMSE: {:.3f}, interacao: {}\".format(RMSE, i))\n",
    "        # inicio = resposta da parte 2 da questão 1 - gráfico do RMSE por iteração\n",
    "        interation = i + 1\n",
    "        array_item = np.array([RMSE, interation])\n",
    "        array_rmse = np.vstack([array_rmse, array_item]) \n",
    "    print_graf(array_rmse)\n",
    "    # fim = resposta da parte 2 da questão 1 gráfico do RMSE por iteração\n",
    "    return [b, m]\n",
    "\n",
    "# método pra printar o gráfico da parte 2 da questão 1 - gráfico do RMSE por iteração\n",
    "def print_graf(array_):\n",
    "    print(array_)\n",
    "    y, x = array_.T\n",
    "    plt.scatter(x, y, color=\"black\")\n",
    "    plt.xlabel(\"Interação\")\n",
    "    plt.ylabel(\"RMSE\")\n",
    "    plt.plot(x, y, color=\"blue\", linewidth=3)\n",
    "    plt.show()\n",
    "\n",
    "def run():\n",
    "    points = np.genfromtxt(\"income.csv\", delimiter=\",\")\n",
    "    learning_rate = 0.00011\n",
    "    \n",
    "    # testar valores para learning rate e registrar o RMSE\n",
    "\n",
    "    initial_b = 0 # initial y-intercept guess\n",
    "    initial_m = 0 # initial slope guess\n",
    "    num_iterations = 10\n",
    "    print (\"Starting gradient descent at b = {0}, m = {1}, error = {2}\".format(initial_b, initial_m, compute_error_for_line_given_points(initial_b, initial_m, points)))\n",
    "    print (\"Running...\")\n",
    "    [b, m] = gradient_descent_runner(points, initial_b, initial_m, learning_rate, num_iterations)\n",
    "    print (\"After {0} iterations b = {1}, m = {2}, error = {3}\".format(num_iterations, b, m, compute_error_for_line_given_points(b, m, points)))\n",
    "    print(\"RMSE: \", compute_error_for_line_given_points(b, m, points))\n",
    "if __name__ == '__main__':\n",
    "    run()"
   ]
  }
 ],
 "metadata": {
  "kernelspec": {
   "display_name": "Python 3.9.12 ('base')",
   "language": "python",
   "name": "python3"
  },
  "language_info": {
   "codemirror_mode": {
    "name": "ipython",
    "version": 3
   },
   "file_extension": ".py",
   "mimetype": "text/x-python",
   "name": "python",
   "nbconvert_exporter": "python",
   "pygments_lexer": "ipython3",
   "version": "3.9.12"
  },
  "vscode": {
   "interpreter": {
    "hash": "3ed76ffbb48457de8d1e75d9ec843977e4758bdc713ec8ec18703488116aab5c"
   }
  }
 },
 "nbformat": 4,
 "nbformat_minor": 5
}
